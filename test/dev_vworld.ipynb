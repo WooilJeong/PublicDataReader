{
 "cells": [
  {
   "cell_type": "code",
   "execution_count": 1,
   "metadata": {
    "ExecuteTime": {
     "end_time": "2022-12-02T08:23:39.858809Z",
     "start_time": "2022-12-02T08:23:39.839859Z"
    }
   },
   "outputs": [],
   "source": [
    "import os\n",
    "import sys\n",
    "from pathlib import Path\n",
    "sys.path.append(str(Path(os.getcwd()).parent))"
   ]
  },
  {
   "cell_type": "code",
   "execution_count": 2,
   "metadata": {},
   "outputs": [],
   "source": [
    "from config import API_KEY_INFO\n",
    "service_key = API_KEY_INFO.get(\"vworld\")"
   ]
  },
  {
   "cell_type": "code",
   "execution_count": 3,
   "metadata": {},
   "outputs": [],
   "source": [
    "from PublicDataReader.utils.code import get_vworld_data_api_info_by_dict\n",
    "import requests\n",
    "import urllib.parse\n",
    "requests.packages.urllib3.disable_warnings()\n"
   ]
  },
  {
   "attachments": {},
   "cell_type": "markdown",
   "metadata": {},
   "source": [
    "## 클래스 정의"
   ]
  },
  {
   "cell_type": "code",
   "execution_count": 4,
   "metadata": {},
   "outputs": [],
   "source": [
    "class VworldData:\n",
    "    \"\"\"Vworld 데이터 API 클래스\n",
    "\n",
    "    Vworld에서 발급받은 API 서비스 인증키를 입력받아 초기화합니다.\n",
    "\n",
    "    Parameters\n",
    "    ----------\n",
    "    service_key : str\n",
    "        Vworld Open API 서비스 인증키\n",
    "    \"\"\"\n",
    "\n",
    "    def __init__(self, service_key=None):\n",
    "        self.service_key = service_key\n",
    "        self.url = \"http://api.vworld.kr/req/data\"\n",
    "\n",
    "    def get_data(self, service_name, **kwargs):\n",
    "        \"\"\"\n",
    "        API 호출\n",
    "\n",
    "        Parameters\n",
    "        ----------\n",
    "        service_name : str\n",
    "            API 호출에 필요한 서비스 이름을 입력합니다.\n",
    "\n",
    "        **kwargs : dict\n",
    "            API 호출에 필요한 파라미터를 입력합니다.\n",
    "            API 호출에 필요한 파라미터는 Vworld Open API 문서를 참고하세요.\n",
    "            https://www.vworld.kr/dev/v4dv_2ddataguide2_s001.do\n",
    "\n",
    "        Returns\n",
    "        -------\n",
    "        dict\n",
    "            API 호출 결과를 반환합니다.\n",
    "        \"\"\"\n",
    "        params = {\n",
    "            \"key\": urllib.parse.unquote(self.service_key),\n",
    "            \"service\": \"data\",\n",
    "            \"request\": \"GetFeature\",\n",
    "            \"page\": 1,\n",
    "            \"size\": 1000,\n",
    "            \"data\": get_vworld_data_api_info_by_dict()[service_name]\n",
    "        }\n",
    "        params.update(kwargs)\n",
    "        featureCollection = {\"type\": \"FeatureCollection\", \"features\": []}\n",
    "        while True:\n",
    "            try:\n",
    "                res = requests.get(self.url, params=params, verify=False)\n",
    "                res_json = res.json()\n",
    "            except Exception as e:\n",
    "                print(\"API 요청이 실패했습니다.\")\n",
    "                print(e)\n",
    "                return None\n",
    "            params[\"page\"] = int(params[\"page\"]) + 1\n",
    "            featureCollection[\"features\"].extend(\n",
    "                res_json[\"response\"][\"result\"][\"featureCollection\"][\"features\"])\n",
    "            if res_json['response']['page']['current'] == res_json['response']['page']['total']:\n",
    "                break\n",
    "        return featureCollection"
   ]
  },
  {
   "cell_type": "code",
   "execution_count": 5,
   "metadata": {},
   "outputs": [],
   "source": [
    "# 인스턴스 생성\n",
    "api = VworldData(service_key)"
   ]
  },
  {
   "cell_type": "code",
   "execution_count": 6,
   "metadata": {},
   "outputs": [],
   "source": [
    "# API 호출\n",
    "geo = api.get_data(\"연속지적도\", \n",
    "                   attrFilter=\"pnu:like:41135110001\")"
   ]
  }
 ],
 "metadata": {
  "hide_input": false,
  "kernelspec": {
   "display_name": "venv",
   "language": "python",
   "name": "python3"
  },
  "language_info": {
   "codemirror_mode": {
    "name": "ipython",
    "version": 3
   },
   "file_extension": ".py",
   "mimetype": "text/x-python",
   "name": "python",
   "nbconvert_exporter": "python",
   "pygments_lexer": "ipython3",
   "version": "3.9.12"
  },
  "toc": {
   "base_numbering": 1,
   "nav_menu": {},
   "number_sections": true,
   "sideBar": true,
   "skip_h1_title": false,
   "title_cell": "Table of Contents",
   "title_sidebar": "Contents",
   "toc_cell": false,
   "toc_position": {
    "height": "calc(100% - 180px)",
    "left": "10px",
    "top": "150px",
    "width": "234.707px"
   },
   "toc_section_display": true,
   "toc_window_display": true
  },
  "varInspector": {
   "cols": {
    "lenName": 16,
    "lenType": 16,
    "lenVar": 40
   },
   "kernels_config": {
    "python": {
     "delete_cmd_postfix": "",
     "delete_cmd_prefix": "del ",
     "library": "var_list.py",
     "varRefreshCmd": "print(var_dic_list())"
    },
    "r": {
     "delete_cmd_postfix": ") ",
     "delete_cmd_prefix": "rm(",
     "library": "var_list.r",
     "varRefreshCmd": "cat(var_dic_list()) "
    }
   },
   "oldHeight": 237.13578,
   "position": {
    "height": "440.117px",
    "left": "491.674px",
    "right": "20px",
    "top": "85.9445px",
    "width": "613.965px"
   },
   "types_to_exclude": [
    "module",
    "function",
    "builtin_function_or_method",
    "instance",
    "_Feature"
   ],
   "varInspector_section_display": "block",
   "window_display": false
  },
  "vscode": {
   "interpreter": {
    "hash": "fcea6e6e55b259976681c8a35a3648f8ff7299129df47a05aebb6686c5e7010e"
   }
  }
 },
 "nbformat": 4,
 "nbformat_minor": 4
}
