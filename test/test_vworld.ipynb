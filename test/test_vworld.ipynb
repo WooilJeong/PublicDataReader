{
 "cells": [
  {
   "cell_type": "markdown",
   "metadata": {},
   "source": [
    "# VWORLD 데이터 API"
   ]
  },
  {
   "cell_type": "code",
   "execution_count": null,
   "metadata": {},
   "outputs": [],
   "source": [
    "import os\n",
    "import sys\n",
    "from pathlib import Path\n",
    "sys.path.append(str(Path(os.getcwd()).parent))"
   ]
  },
  {
   "cell_type": "code",
   "execution_count": null,
   "metadata": {
    "ExecuteTime": {
     "end_time": "2021-11-15T16:15:05.203055Z",
     "start_time": "2021-11-15T16:15:05.189494Z"
    }
   },
   "outputs": [],
   "source": [
    "from config import API_KEY_INFO\n",
    "\n",
    "from PublicDataReader import VworldData\n",
    "service_key = API_KEY_INFO.get(\"vworld\")\n",
    "api = VworldData(service_key)"
   ]
  },
  {
   "cell_type": "code",
   "execution_count": null,
   "metadata": {},
   "outputs": [],
   "source": [
    "import PublicDataReader as pdr\n",
    "code = pdr.get_vworld_data_api_info_by_dataframe()\n",
    "code.head()"
   ]
  },
  {
   "cell_type": "code",
   "execution_count": null,
   "metadata": {},
   "outputs": [],
   "source": [
    "geo = api.get_data(\"연속지적도\", \n",
    "                   attrFilter=\"pnu:like:41135110001\")\n",
    "print(f\"\"\"\n",
    "- 결과 타입: {type(geo)}\n",
    "- 키 종류: {geo.keys()}\n",
    "\"\"\")"
   ]
  },
  {
   "cell_type": "code",
   "execution_count": null,
   "metadata": {},
   "outputs": [],
   "source": [
    "geo2 = api.get_data(\"시군구\", \n",
    "                   attrFilter=\"sig_cd:=:41135\")\n",
    "print(f\"\"\"\n",
    "- 결과 타입: {type(geo2)}\n",
    "- 키 종류: {geo2.keys()}\n",
    "\"\"\")"
   ]
  },
  {
   "cell_type": "code",
   "execution_count": null,
   "metadata": {},
   "outputs": [],
   "source": [
    "import folium\n",
    "\n",
    "lat, lon = 37.3925, 127.112\n",
    "\n",
    "# Map\n",
    "m = folium.Map(location=[lat, lon], \n",
    "               zoom_start=14)\n",
    "\n",
    "# 시군구 다각형\n",
    "folium.GeoJson(\n",
    "               data=geo2,\n",
    "               name=\"시군구\",\n",
    "                style_function=lambda x: {\n",
    "                    \"fillColor\": \"#0000ff\",\n",
    "                    \"color\": \"#0000ff\",\n",
    "                    \"weight\": 1,\n",
    "                    \"fillOpacity\": 0.5,\n",
    "                },\n",
    "                tooltip=folium.features.GeoJsonTooltip(\n",
    "                    fields=[\"full_nm\"],\n",
    "                    aliases=[\"주소\"],\n",
    "                    localize=True,\n",
    "                    sticky=False,\n",
    "                    labels=True,\n",
    "                    style=\"\",\n",
    "                    toLocaleString=True,\n",
    "                ),\n",
    "               ).add_to(m)\n",
    "\n",
    "# 연속지적도\n",
    "folium.GeoJson(\n",
    "               data=geo,\n",
    "               name=\"연속지적도\",\n",
    "                style_function=lambda x: {\n",
    "                    \"fillColor\": \"#ffff00\",\n",
    "                    \"color\": \"#ffff00\",\n",
    "                    \"weight\": 1,\n",
    "                    \"fillOpacity\": 0.5,\n",
    "                },\n",
    "                tooltip=folium.features.GeoJsonTooltip(\n",
    "                    fields=[\"addr\"],\n",
    "                    aliases=[\"주소\"],\n",
    "                    localize=True,\n",
    "                    sticky=False,\n",
    "                    labels=True,\n",
    "                    style=\"\",\n",
    "                    toLocaleString=True,\n",
    "                ),\n",
    "               ).add_to(m)\n",
    "\n",
    "# 레이어 컨트롤\n",
    "folium.LayerControl().add_to(m)\n",
    "m"
   ]
  }
 ],
 "metadata": {
  "hide_input": false,
  "kernelspec": {
   "display_name": "venv",
   "language": "python",
   "name": "python3"
  },
  "language_info": {
   "codemirror_mode": {
    "name": "ipython",
    "version": 3
   },
   "file_extension": ".py",
   "mimetype": "text/x-python",
   "name": "python",
   "nbconvert_exporter": "python",
   "pygments_lexer": "ipython3",
   "version": "3.9.12"
  },
  "toc": {
   "base_numbering": 1,
   "nav_menu": {},
   "number_sections": true,
   "sideBar": true,
   "skip_h1_title": false,
   "title_cell": "Table of Contents",
   "title_sidebar": "Contents",
   "toc_cell": false,
   "toc_position": {},
   "toc_section_display": true,
   "toc_window_display": false
  },
  "varInspector": {
   "cols": {
    "lenName": 16,
    "lenType": 16,
    "lenVar": 40
   },
   "kernels_config": {
    "python": {
     "delete_cmd_postfix": "",
     "delete_cmd_prefix": "del ",
     "library": "var_list.py",
     "varRefreshCmd": "print(var_dic_list())"
    },
    "r": {
     "delete_cmd_postfix": ") ",
     "delete_cmd_prefix": "rm(",
     "library": "var_list.r",
     "varRefreshCmd": "cat(var_dic_list()) "
    }
   },
   "types_to_exclude": [
    "module",
    "function",
    "builtin_function_or_method",
    "instance",
    "_Feature"
   ],
   "window_display": false
  },
  "vscode": {
   "interpreter": {
    "hash": "fcea6e6e55b259976681c8a35a3648f8ff7299129df47a05aebb6686c5e7010e"
   }
  }
 },
 "nbformat": 4,
 "nbformat_minor": 4
}
