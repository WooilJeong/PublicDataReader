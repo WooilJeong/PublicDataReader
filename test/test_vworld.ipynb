{
 "cells": [
  {
   "cell_type": "markdown",
   "metadata": {},
   "source": [
    "# VWORLD 데이터 API"
   ]
  },
  {
   "cell_type": "code",
   "execution_count": null,
   "metadata": {},
   "outputs": [],
   "source": [
    "import os\n",
    "import sys\n",
    "from pathlib import Path\n",
    "sys.path.append(str(Path(os.getcwd()).parent))"
   ]
  },
  {
   "cell_type": "code",
   "execution_count": null,
   "metadata": {
    "ExecuteTime": {
     "end_time": "2021-11-15T16:15:05.203055Z",
     "start_time": "2021-11-15T16:15:05.189494Z"
    }
   },
   "outputs": [],
   "source": [
    "import PublicDataReader as pdr\n",
    "from config import API_KEY_INFO\n",
    "print(pdr.__version__)\n",
    "apiKey = API_KEY_INFO.get(\"vworld\")"
   ]
  },
  {
   "cell_type": "code",
   "execution_count": null,
   "metadata": {},
   "outputs": [],
   "source": [
    "code = pdr.get_vworld_data_api_info_by_dataframe()"
   ]
  },
  {
   "cell_type": "code",
   "execution_count": null,
   "metadata": {},
   "outputs": [],
   "source": [
    "code.loc[code['서비스명'].str.contains(\"주소\")]"
   ]
  },
  {
   "cell_type": "code",
   "execution_count": null,
   "metadata": {},
   "outputs": [],
   "source": [
    "# Vworld Data API 인스턴스 생성\n",
    "api = pdr.VworldData(apiKey)"
   ]
  },
  {
   "cell_type": "code",
   "execution_count": null,
   "metadata": {},
   "outputs": [],
   "source": [
    "# 파라미터\n",
    "params = {\n",
    "    \"serviceName\": \"연속지적도\",\n",
    "    \"attrFilter\": \"pnu:like:4113511000105410000\",\n",
    "}\n",
    "\n",
    "# 데이터 요청\n",
    "result = api.get_data(**params)"
   ]
  },
  {
   "cell_type": "code",
   "execution_count": null,
   "metadata": {},
   "outputs": [],
   "source": [
    "import folium\n",
    "\n",
    "\n",
    "lat, lon = 37.3925, 127.112\n",
    "\n",
    "# Map\n",
    "m = folium.Map(location=[lat, lon], \n",
    "               zoom_start=16)\n",
    "\n",
    "# Marker\n",
    "folium.Marker([lat, lon],\n",
    "               icon=folium.Icon(color=\"blue\", icon=\"info-sign\")).add_to(m)\n",
    "\n",
    "# Circle\n",
    "folium.Circle([lat, lon],\n",
    "                radius=500,\n",
    "                color=\"blue\",\n",
    "                fill=True,\n",
    "                fill_color=\"blue\",\n",
    "                fill_opacity=0.25).add_to(m)\n",
    "\n",
    "# GeoJson\n",
    "folium.GeoJson(\n",
    "               data=result,\n",
    "               name=\"geojson\",\n",
    "                style_function=lambda x: {\n",
    "                    \"fillColor\": \"#ff0000\",\n",
    "                    \"color\": \"#ff0000\",\n",
    "                    \"weight\": 1,\n",
    "                    \"fillOpacity\": 0.5,\n",
    "                },\n",
    "                tooltip=folium.features.GeoJsonTooltip(\n",
    "                    fields=[\"addr\"],\n",
    "                    aliases=[\"주소\"],\n",
    "                    localize=True,\n",
    "                    sticky=False,\n",
    "                    labels=True,\n",
    "                    style=\"\",\n",
    "                    toLocaleString=True,\n",
    "                ),\n",
    "               ).add_to(m)\n",
    "\n",
    "m\n"
   ]
  }
 ],
 "metadata": {
  "hide_input": false,
  "kernelspec": {
   "display_name": "Python 3.9.12 ('base')",
   "language": "python",
   "name": "python3"
  },
  "language_info": {
   "codemirror_mode": {
    "name": "ipython",
    "version": 3
   },
   "file_extension": ".py",
   "mimetype": "text/x-python",
   "name": "python",
   "nbconvert_exporter": "python",
   "pygments_lexer": "ipython3",
   "version": "3.9.12"
  },
  "toc": {
   "base_numbering": 1,
   "nav_menu": {},
   "number_sections": true,
   "sideBar": true,
   "skip_h1_title": false,
   "title_cell": "Table of Contents",
   "title_sidebar": "Contents",
   "toc_cell": false,
   "toc_position": {},
   "toc_section_display": true,
   "toc_window_display": false
  },
  "varInspector": {
   "cols": {
    "lenName": 16,
    "lenType": 16,
    "lenVar": 40
   },
   "kernels_config": {
    "python": {
     "delete_cmd_postfix": "",
     "delete_cmd_prefix": "del ",
     "library": "var_list.py",
     "varRefreshCmd": "print(var_dic_list())"
    },
    "r": {
     "delete_cmd_postfix": ") ",
     "delete_cmd_prefix": "rm(",
     "library": "var_list.r",
     "varRefreshCmd": "cat(var_dic_list()) "
    }
   },
   "types_to_exclude": [
    "module",
    "function",
    "builtin_function_or_method",
    "instance",
    "_Feature"
   ],
   "window_display": false
  },
  "vscode": {
   "interpreter": {
    "hash": "bf36e43d91273cda28ef8173803dc98b9ff2c112c9a311d9da2b51870a73ee88"
   }
  }
 },
 "nbformat": 4,
 "nbformat_minor": 4
}
