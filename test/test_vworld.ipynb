{
 "cells": [
  {
   "cell_type": "markdown",
   "metadata": {},
   "source": [
    "# VWORLD 데이터 API"
   ]
  },
  {
   "cell_type": "code",
   "execution_count": 1,
   "metadata": {},
   "outputs": [],
   "source": [
    "import os\n",
    "import sys\n",
    "from pathlib import Path\n",
    "sys.path.append(str(Path(os.getcwd()).parent))"
   ]
  },
  {
   "cell_type": "code",
   "execution_count": 2,
   "metadata": {
    "ExecuteTime": {
     "end_time": "2021-11-15T16:15:05.203055Z",
     "start_time": "2021-11-15T16:15:05.189494Z"
    }
   },
   "outputs": [
    {
     "name": "stdout",
     "output_type": "stream",
     "text": [
      "1.0.3\n"
     ]
    }
   ],
   "source": [
    "import PublicDataReader as pdr\n",
    "from config import API_KEY_INFO\n",
    "print(pdr.__version__)\n",
    "apiKey = API_KEY_INFO.get(\"vworld\")"
   ]
  },
  {
   "cell_type": "code",
   "execution_count": 3,
   "metadata": {},
   "outputs": [],
   "source": [
    "code = pdr.get_vworld_data_api_info_by_dataframe()"
   ]
  },
  {
   "cell_type": "code",
   "execution_count": 4,
   "metadata": {},
   "outputs": [
    {
     "data": {
      "text/html": [
       "<div>\n",
       "<style scoped>\n",
       "    .dataframe tbody tr th:only-of-type {\n",
       "        vertical-align: middle;\n",
       "    }\n",
       "\n",
       "    .dataframe tbody tr th {\n",
       "        vertical-align: top;\n",
       "    }\n",
       "\n",
       "    .dataframe thead th {\n",
       "        text-align: right;\n",
       "    }\n",
       "</style>\n",
       "<table border=\"1\" class=\"dataframe\">\n",
       "  <thead>\n",
       "    <tr style=\"text-align: right;\">\n",
       "      <th></th>\n",
       "      <th>서비스명</th>\n",
       "      <th>서비스ID</th>\n",
       "    </tr>\n",
       "  </thead>\n",
       "  <tbody>\n",
       "    <tr>\n",
       "      <th>21</th>\n",
       "      <td>도로명주소 도로</td>\n",
       "      <td>LT_L_SPRD</td>\n",
       "    </tr>\n",
       "    <tr>\n",
       "      <th>22</th>\n",
       "      <td>도로명주소 건물</td>\n",
       "      <td>LT_C_SPBD</td>\n",
       "    </tr>\n",
       "  </tbody>\n",
       "</table>\n",
       "</div>"
      ],
      "text/plain": [
       "        서비스명      서비스ID\n",
       "21  도로명주소 도로  LT_L_SPRD\n",
       "22  도로명주소 건물  LT_C_SPBD"
      ]
     },
     "execution_count": 4,
     "metadata": {},
     "output_type": "execute_result"
    }
   ],
   "source": [
    "code.loc[code['서비스명'].str.contains(\"주소\")]"
   ]
  },
  {
   "cell_type": "code",
   "execution_count": 5,
   "metadata": {},
   "outputs": [],
   "source": [
    "# Vworld Data API 인스턴스 생성\n",
    "api = pdr.VworldData(apiKey)"
   ]
  },
  {
   "cell_type": "code",
   "execution_count": 6,
   "metadata": {},
   "outputs": [
    {
     "name": "stdout",
     "output_type": "stream",
     "text": [
      "\n",
      "- 결과 타입: <class 'dict'>\n",
      "- 키 종류: dict_keys(['type', 'features'])\n",
      "\n"
     ]
    }
   ],
   "source": [
    "# 파라미터\n",
    "params = {\n",
    "    \"serviceName\": \"연속지적도\",\n",
    "    \"attrFilter\": \"pnu:like:41135110001\",\n",
    "}\n",
    "\n",
    "# 데이터 요청\n",
    "geo = api.get_data(**params)\n",
    "\n",
    "print(f\"\"\"\n",
    "- 결과 타입: {type(geo)}\n",
    "- 키 종류: {geo.keys()}\n",
    "\"\"\")"
   ]
  },
  {
   "cell_type": "code",
   "execution_count": 7,
   "metadata": {},
   "outputs": [
    {
     "name": "stdout",
     "output_type": "stream",
     "text": [
      "\n",
      "- 결과 타입: <class 'dict'>\n",
      "- 키 종류: dict_keys(['type', 'features'])\n",
      "\n"
     ]
    }
   ],
   "source": [
    "# 파라미터\n",
    "params = {\n",
    "    \"serviceName\": \"시군구\",\n",
    "    \"attrFilter\": \"sig_cd:=:41135\",\n",
    "}\n",
    "\n",
    "# 데이터 요청\n",
    "geo2 = api.get_data(**params)\n",
    "\n",
    "print(f\"\"\"\n",
    "- 결과 타입: {type(geo2)}\n",
    "- 키 종류: {geo2.keys()}\n",
    "\"\"\")"
   ]
  },
  {
   "cell_type": "code",
   "execution_count": 13,
   "metadata": {},
   "outputs": [],
   "source": [
    "import folium\n",
    "\n",
    "lat, lon = 37.3925, 127.112\n",
    "\n",
    "# Map\n",
    "m = folium.Map(location=[lat, lon], \n",
    "               zoom_start=14)\n",
    "\n",
    "# 시군구 다각형\n",
    "folium.GeoJson(\n",
    "               data=geo2,\n",
    "               name=\"시군구\",\n",
    "                style_function=lambda x: {\n",
    "                    \"fillColor\": \"#0000ff\",\n",
    "                    \"color\": \"#0000ff\",\n",
    "                    \"weight\": 1,\n",
    "                    \"fillOpacity\": 0.5,\n",
    "                },\n",
    "                tooltip=folium.features.GeoJsonTooltip(\n",
    "                    fields=[\"full_nm\"],\n",
    "                    aliases=[\"주소\"],\n",
    "                    localize=True,\n",
    "                    sticky=False,\n",
    "                    labels=True,\n",
    "                    style=\"\",\n",
    "                    toLocaleString=True,\n",
    "                ),\n",
    "               ).add_to(m)\n",
    "\n",
    "# 연속지적도\n",
    "folium.GeoJson(\n",
    "               data=geo,\n",
    "               name=\"연속지적도\",\n",
    "                style_function=lambda x: {\n",
    "                    \"fillColor\": \"#ffff00\",\n",
    "                    \"color\": \"#ffff00\",\n",
    "                    \"weight\": 1,\n",
    "                    \"fillOpacity\": 0.5,\n",
    "                },\n",
    "                tooltip=folium.features.GeoJsonTooltip(\n",
    "                    fields=[\"addr\"],\n",
    "                    aliases=[\"주소\"],\n",
    "                    localize=True,\n",
    "                    sticky=False,\n",
    "                    labels=True,\n",
    "                    style=\"\",\n",
    "                    toLocaleString=True,\n",
    "                ),\n",
    "               ).add_to(m)\n",
    "\n",
    "# 레이어 컨트롤\n",
    "folium.LayerControl().add_to(m)\n",
    "\n",
    "m"
   ]
  }
 ],
 "metadata": {
  "hide_input": false,
  "kernelspec": {
   "display_name": "Python 3.9.12 ('base')",
   "language": "python",
   "name": "python3"
  },
  "language_info": {
   "codemirror_mode": {
    "name": "ipython",
    "version": 3
   },
   "file_extension": ".py",
   "mimetype": "text/x-python",
   "name": "python",
   "nbconvert_exporter": "python",
   "pygments_lexer": "ipython3",
   "version": "3.9.12"
  },
  "toc": {
   "base_numbering": 1,
   "nav_menu": {},
   "number_sections": true,
   "sideBar": true,
   "skip_h1_title": false,
   "title_cell": "Table of Contents",
   "title_sidebar": "Contents",
   "toc_cell": false,
   "toc_position": {},
   "toc_section_display": true,
   "toc_window_display": false
  },
  "varInspector": {
   "cols": {
    "lenName": 16,
    "lenType": 16,
    "lenVar": 40
   },
   "kernels_config": {
    "python": {
     "delete_cmd_postfix": "",
     "delete_cmd_prefix": "del ",
     "library": "var_list.py",
     "varRefreshCmd": "print(var_dic_list())"
    },
    "r": {
     "delete_cmd_postfix": ") ",
     "delete_cmd_prefix": "rm(",
     "library": "var_list.r",
     "varRefreshCmd": "cat(var_dic_list()) "
    }
   },
   "types_to_exclude": [
    "module",
    "function",
    "builtin_function_or_method",
    "instance",
    "_Feature"
   ],
   "window_display": false
  },
  "vscode": {
   "interpreter": {
    "hash": "bf36e43d91273cda28ef8173803dc98b9ff2c112c9a311d9da2b51870a73ee88"
   }
  }
 },
 "nbformat": 4,
 "nbformat_minor": 4
}
