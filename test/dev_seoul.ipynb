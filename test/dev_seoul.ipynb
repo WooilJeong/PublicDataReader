{
 "cells": [
  {
   "cell_type": "code",
   "execution_count": 1,
   "metadata": {
    "ExecuteTime": {
     "end_time": "2022-12-02T08:23:39.858809Z",
     "start_time": "2022-12-02T08:23:39.839859Z"
    }
   },
   "outputs": [],
   "source": [
    "import os\n",
    "import sys\n",
    "from pathlib import Path\n",
    "sys.path.append(str(Path(os.getcwd()).parent))"
   ]
  },
  {
   "cell_type": "code",
   "execution_count": 2,
   "metadata": {},
   "outputs": [],
   "source": [
    "from config import API_KEY_INFO\n",
    "service_key = API_KEY_INFO.get(\"seoul\")"
   ]
  },
  {
   "cell_type": "code",
   "execution_count": null,
   "metadata": {},
   "outputs": [],
   "source": [
    "class Transportation:\n",
    "    \"\"\"\n",
    "\n",
    "    \"\"\"\n",
    "    def __init__(self, service_key=None):\n",
    "        self.service_key = service_key\n",
    "        self.endpoint = f\"http://openapi.seoul.go.kr:8088/\"\n",
    "        self.metaDict = {\n",
    "            \"지하철승하차\": {\n",
    "                \"url\": f\"{self.endpoint}{self.serviceKey}/xml/CardSubwayStatsNew/\",\n",
    "                \"columns\": [\"USE_DT\", \"LINE_NUM\", \"SUB_STA_NM\", \"RIDE_PASGR_NUM\", \"ALIGHT_PASGR_NUM\", \"WORK_DT\"]\n",
    "            },\n",
    "            \"버스승하차\": {\n",
    "                \"url\": f\"{self.endpoint}{self.serviceKey}/xml/CardBusStatisticsServiceNew/\",\n",
    "                \"columns\": ['USE_DT', 'BUS_ROUTE_ID', 'BUS_ROUTE_NO', 'BUS_ROUTE_NM', 'STND_BSST_ID', 'BSST_ARS_NO', 'BUS_STA_NM', 'RIDE_PASGR_NUM', 'ALIGHT_PASGR_NUM', 'WORK_DT']\n",
    "            },\n",
    "        }\n",
    "\n",
    "    def get_data(self, category, translate=True, **kwargs):\n",
    "        try:\n",
    "            endpoint = self.metaDict[category]['url']\n",
    "            columns = self.metaDict[category]['columns']\n",
    "        except:\n",
    "            _error_message = f\"{category} 참조 오류\"\n",
    "            self.logger.error(_error_message)\n",
    "            return _error_message\n",
    "\n",
    "        try:\n",
    "            params = \"\"\n",
    "            for key, value in kwargs.items():\n",
    "                params += f\"/{value}\"\n",
    "        except:\n",
    "            _error_message = f\"{category} 파라미터 파싱 오류\"\n",
    "            self.logger.error(_error_message)\n",
    "            return _error_message\n",
    "\n",
    "        try:\n",
    "            check_code = \"INFO-000\"\n",
    "            startIdx, endIdx = 1, 1000\n",
    "            items = []\n",
    "            while check_code == \"INFO-000\":\n",
    "\n",
    "                url = f\"\"\"{endpoint}{startIdx}/{endIdx}{params}\"\"\"\n",
    "\n",
    "                # OpenAPI 호출\n",
    "                result = requests.get(url, verify=False)\n",
    "                xmlsoup = BeautifulSoup(result.text, \"lxml-xml\")\n",
    "                header = xmlsoup.find(\"RESULT\")\n",
    "                result_code = header.find(\"CODE\").text\n",
    "                result_msg = header.find(\"MESSAGE\").text\n",
    "                rows = xmlsoup.findAll(\"row\")\n",
    "                items = items + rows\n",
    "\n",
    "                check_code = result_code\n",
    "                startIdx += 1000\n",
    "                endIdx += 1000\n",
    "\n",
    "        except:\n",
    "            _error_message = f\"HTTP 요청 혹은 파싱 오류\"\n",
    "            self.logger.error(_error_message)\n",
    "            return _error_message\n",
    "\n",
    "        # 데이터프레임 생성\n",
    "        try:\n",
    "            df = pd.DataFrame(columns=columns)\n",
    "            for item in items:\n",
    "                row = {}\n",
    "                for col in columns:\n",
    "                    try:\n",
    "                        tag = item.find(col)\n",
    "                        row[col] = tag.text.strip()\n",
    "                    except:\n",
    "                        row[col] = \"\"\n",
    "                df_ = pd.DataFrame([row])[columns]\n",
    "                df = pd.concat([df, df_], axis=0).reset_index(drop=True)\n",
    "\n",
    "            df = self.ChangeCols(df)\n",
    "            return df\n",
    "\n",
    "        except:\n",
    "            _error_message = f\"전처리 오류\"\n",
    "            self.logger.error(_error_message)\n",
    "            return _error_message\n",
    "\n",
    "    def translate_columns(self, df):\n",
    "        \"\"\"\n",
    "        영문 컬럼명을 국문 컬럼명으로 변경\n",
    "        \"\"\"\n",
    "\n",
    "        self.colDict = {\n",
    "            'USE_DT': '사용일자',\n",
    "\n",
    "            'LINE_NUM': '호선명',\n",
    "            'SUB_STA_NM': '역명',\n",
    "\n",
    "            'BUS_ROUTE_ID': '노선ID',\n",
    "            'BUS_ROUTE_NO': '노선번호',\n",
    "            'BUS_ROUTE_NM': '노선명',\n",
    "            'STND_BSST_ID': '표준버스정류장ID',\n",
    "            'BSST_ARS_NO': '버스정류장ARS번호',\n",
    "            'BUS_STA_NM': '역명',\n",
    "\n",
    "            'RIDE_PASGR_NUM': '승차총승객수',\n",
    "            'ALIGHT_PASGR_NUM': '하차총승객수',\n",
    "            'WORK_DT': '등록일자'\n",
    "        }\n",
    "\n",
    "        df = df.rename(columns=self.colDict)\n",
    "        return df\n"
   ]
  },
  {
   "cell_type": "code",
   "execution_count": null,
   "metadata": {},
   "outputs": [],
   "source": [
    "api = Reb(service_key)"
   ]
  }
 ],
 "metadata": {
  "hide_input": false,
  "kernelspec": {
   "display_name": "Python 3 (ipykernel)",
   "language": "python",
   "name": "python3"
  },
  "language_info": {
   "codemirror_mode": {
    "name": "ipython",
    "version": 3
   },
   "file_extension": ".py",
   "mimetype": "text/x-python",
   "name": "python",
   "nbconvert_exporter": "python",
   "pygments_lexer": "ipython3",
   "version": "3.9.12"
  },
  "toc": {
   "base_numbering": 1,
   "nav_menu": {},
   "number_sections": true,
   "sideBar": true,
   "skip_h1_title": false,
   "title_cell": "Table of Contents",
   "title_sidebar": "Contents",
   "toc_cell": false,
   "toc_position": {
    "height": "calc(100% - 180px)",
    "left": "10px",
    "top": "150px",
    "width": "234.707px"
   },
   "toc_section_display": true,
   "toc_window_display": true
  },
  "varInspector": {
   "cols": {
    "lenName": 16,
    "lenType": 16,
    "lenVar": 40
   },
   "kernels_config": {
    "python": {
     "delete_cmd_postfix": "",
     "delete_cmd_prefix": "del ",
     "library": "var_list.py",
     "varRefreshCmd": "print(var_dic_list())"
    },
    "r": {
     "delete_cmd_postfix": ") ",
     "delete_cmd_prefix": "rm(",
     "library": "var_list.r",
     "varRefreshCmd": "cat(var_dic_list()) "
    }
   },
   "oldHeight": 237.13578,
   "position": {
    "height": "440.117px",
    "left": "491.674px",
    "right": "20px",
    "top": "85.9445px",
    "width": "613.965px"
   },
   "types_to_exclude": [
    "module",
    "function",
    "builtin_function_or_method",
    "instance",
    "_Feature"
   ],
   "varInspector_section_display": "block",
   "window_display": false
  },
  "vscode": {
   "interpreter": {
    "hash": "fcea6e6e55b259976681c8a35a3648f8ff7299129df47a05aebb6686c5e7010e"
   }
  }
 },
 "nbformat": 4,
 "nbformat_minor": 4
}
