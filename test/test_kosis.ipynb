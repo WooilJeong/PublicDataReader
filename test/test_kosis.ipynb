{
 "cells": [
  {
   "cell_type": "markdown",
   "metadata": {},
   "source": [
    "# KOSIS OPEN API"
   ]
  },
  {
   "cell_type": "code",
   "execution_count": 7,
   "metadata": {},
   "outputs": [],
   "source": [
    "import os\n",
    "import sys\n",
    "from pathlib import Path\n",
    "sys.path.append(str(Path(os.getcwd()).parent))"
   ]
  },
  {
   "cell_type": "code",
   "execution_count": 8,
   "metadata": {
    "ExecuteTime": {
     "end_time": "2021-11-15T16:15:05.203055Z",
     "start_time": "2021-11-15T16:15:05.189494Z"
    }
   },
   "outputs": [],
   "source": [
    "from config import API_KEY_INFO\n",
    "service_key = API_KEY_INFO.get(\"kosis\")"
   ]
  },
  {
   "cell_type": "markdown",
   "metadata": {},
   "source": [
    "## 인스턴스 생성"
   ]
  },
  {
   "cell_type": "code",
   "execution_count": 9,
   "metadata": {},
   "outputs": [],
   "source": [
    "from PublicDataReader import Kosis\n",
    "api = Kosis(service_key)"
   ]
  },
  {
   "cell_type": "markdown",
   "metadata": {},
   "source": [
    "## KOSIS 통합검색"
   ]
  },
  {
   "cell_type": "code",
   "execution_count": 10,
   "metadata": {},
   "outputs": [
    {
     "data": {
      "text/html": [
       "<div>\n",
       "<style scoped>\n",
       "    .dataframe tbody tr th:only-of-type {\n",
       "        vertical-align: middle;\n",
       "    }\n",
       "\n",
       "    .dataframe tbody tr th {\n",
       "        vertical-align: top;\n",
       "    }\n",
       "\n",
       "    .dataframe thead th {\n",
       "        text-align: right;\n",
       "    }\n",
       "</style>\n",
       "<table border=\"1\" class=\"dataframe\">\n",
       "  <thead>\n",
       "    <tr style=\"text-align: right;\">\n",
       "      <th></th>\n",
       "      <th>기관ID</th>\n",
       "      <th>기관명</th>\n",
       "      <th>통계표ID</th>\n",
       "      <th>통계표명</th>\n",
       "      <th>조사ID</th>\n",
       "      <th>조사명</th>\n",
       "      <th>KOSIS목록구분</th>\n",
       "      <th>KOSIS통계표위치</th>\n",
       "      <th>통계표위치</th>\n",
       "      <th>통계표주요내용</th>\n",
       "      <th>수록기간시작일</th>\n",
       "      <th>수록기간종료일</th>\n",
       "      <th>통계표주석</th>\n",
       "      <th>추천통계표여부</th>\n",
       "      <th>KOSIS목록URL</th>\n",
       "      <th>KOSIS통계표URL</th>\n",
       "      <th>검색결과건수</th>\n",
       "      <th>검색어명</th>\n",
       "    </tr>\n",
       "  </thead>\n",
       "  <tbody>\n",
       "    <tr>\n",
       "      <th>0</th>\n",
       "      <td>116</td>\n",
       "      <td>국토교통부</td>\n",
       "      <td>DT_MLTM_2086</td>\n",
       "      <td>미분양현황_종합</td>\n",
       "      <td>1998033</td>\n",
       "      <td>미분양주택현황보고</td>\n",
       "      <td>MT_ZTITLE</td>\n",
       "      <td>주거 &gt; 미분양주택현황보고</td>\n",
       "      <td>I1 &gt; I1_2</td>\n",
       "      <td>대분류 구분 부문별미분양현황 시도별미분양현황 규모별미분양현황 계 민간부문 공공부문 ...</td>\n",
       "      <td>2001</td>\n",
       "      <td>2023</td>\n",
       "      <td>해당연도 12월말 기준 자료 : 국토교통부 주택토지실 주택정책관 주택정책과</td>\n",
       "      <td>N</td>\n",
       "      <td>https://kosis.kr/statisticsList/statisticsList...</td>\n",
       "      <td>http://kosis.kr/statHtml/statHtml.do?orgId=116...</td>\n",
       "      <td>291</td>\n",
       "      <td>미분양 현황</td>\n",
       "    </tr>\n",
       "  </tbody>\n",
       "</table>\n",
       "</div>"
      ],
      "text/plain": [
       "  기관ID    기관명         통계표ID      통계표명     조사ID        조사명  KOSIS목록구분  \\\n",
       "0  116  국토교통부  DT_MLTM_2086  미분양현황_종합  1998033  미분양주택현황보고  MT_ZTITLE   \n",
       "\n",
       "       KOSIS통계표위치      통계표위치  \\\n",
       "0  주거 > 미분양주택현황보고  I1 > I1_2   \n",
       "\n",
       "                                             통계표주요내용 수록기간시작일 수록기간종료일  \\\n",
       "0  대분류 구분 부문별미분양현황 시도별미분양현황 규모별미분양현황 계 민간부문 공공부문 ...    2001    2023   \n",
       "\n",
       "                                       통계표주석 추천통계표여부  \\\n",
       "0  해당연도 12월말 기준 자료 : 국토교통부 주택토지실 주택정책관 주택정책과       N   \n",
       "\n",
       "                                          KOSIS목록URL  \\\n",
       "0  https://kosis.kr/statisticsList/statisticsList...   \n",
       "\n",
       "                                         KOSIS통계표URL 검색결과건수    검색어명  \n",
       "0  http://kosis.kr/statHtml/statHtml.do?orgId=116...    291  미분양 현황  "
      ]
     },
     "execution_count": 10,
     "metadata": {},
     "output_type": "execute_result"
    }
   ],
   "source": [
    "df1 = api.get_data(\n",
    "    \"KOSIS통합검색\",\n",
    "    searchNm=\"미분양 현황\",\n",
    "    )\n",
    "df1.head(1)"
   ]
  },
  {
   "cell_type": "markdown",
   "metadata": {},
   "source": [
    "## 통계설명"
   ]
  },
  {
   "cell_type": "code",
   "execution_count": 12,
   "metadata": {},
   "outputs": [
    {
     "data": {
      "text/html": [
       "<div>\n",
       "<style scoped>\n",
       "    .dataframe tbody tr th:only-of-type {\n",
       "        vertical-align: middle;\n",
       "    }\n",
       "\n",
       "    .dataframe tbody tr th {\n",
       "        vertical-align: top;\n",
       "    }\n",
       "\n",
       "    .dataframe thead th {\n",
       "        text-align: right;\n",
       "    }\n",
       "</style>\n",
       "<table border=\"1\" class=\"dataframe\">\n",
       "  <thead>\n",
       "    <tr style=\"text-align: right;\">\n",
       "      <th></th>\n",
       "      <th>조사명</th>\n",
       "      <th>통계종류</th>\n",
       "      <th>계속여부</th>\n",
       "      <th>법적근거</th>\n",
       "      <th>조사목적</th>\n",
       "      <th>조사주기</th>\n",
       "      <th>조사체계</th>\n",
       "      <th>공표범위</th>\n",
       "      <th>공표주기</th>\n",
       "      <th>연락처</th>\n",
       "      <th>...</th>\n",
       "      <th>조사단위및조사대상규모</th>\n",
       "      <th>적용분류</th>\n",
       "      <th>조사항목</th>\n",
       "      <th>공표방법및URL</th>\n",
       "      <th>조사대상기간및조사기준시점</th>\n",
       "      <th>조사기간</th>\n",
       "      <th>자료수집방법</th>\n",
       "      <th>승인번호</th>\n",
       "      <th>승인일자</th>\n",
       "      <th>통계종료</th>\n",
       "    </tr>\n",
       "  </thead>\n",
       "  <tbody>\n",
       "    <tr>\n",
       "      <th>0</th>\n",
       "      <td>미분양주택현황보고</td>\n",
       "      <td>일반통계 / 보고통계</td>\n",
       "      <td>계속통계</td>\n",
       "      <td>주택법</td>\n",
       "      <td>매월 전국 및 지역별 미분양 주택현황을 파악하여 주택공급정책의 기초자료로 활용</td>\n",
       "      <td>월</td>\n",
       "      <td>구·시·군→시·도→국토교통부</td>\n",
       "      <td>시군구</td>\n",
       "      <td>월</td>\n",
       "      <td>국토교통부택토지실 주택정책관 주택정책과 (☎ 044-201-4148)</td>\n",
       "      <td>...</td>\n",
       "      <td>기타전국의 미분양 주택 현황</td>\n",
       "      <td>(주) 해당없음</td>\n",
       "      <td>∎ 작성항목(2개 부문 6개항목) - 전체 미분양 현황: 지역별(광역시/시군구) 세...</td>\n",
       "      <td>전산망(인터넷), 간행물http://stat.molit.go.kr)국토교통통계연보(...</td>\n",
       "      <td>1월1일~12월31일(매월말)</td>\n",
       "      <td>매월 1일~15일</td>\n",
       "      <td>행정집계</td>\n",
       "      <td>116025</td>\n",
       "      <td>19981013</td>\n",
       "      <td>일반통계</td>\n",
       "    </tr>\n",
       "  </tbody>\n",
       "</table>\n",
       "<p>1 rows × 22 columns</p>\n",
       "</div>"
      ],
      "text/plain": [
       "         조사명         통계종류  계속여부 법적근거  \\\n",
       "0  미분양주택현황보고  일반통계 / 보고통계  계속통계  주택법   \n",
       "\n",
       "                                          조사목적 조사주기             조사체계 공표범위  \\\n",
       "0  매월 전국 및 지역별 미분양 주택현황을 파악하여 주택공급정책의 기초자료로 활용    월  구·시·군→시·도→국토교통부  시군구   \n",
       "\n",
       "  공표주기                                     연락처  ...      조사단위및조사대상규모  \\\n",
       "0    월  국토교통부택토지실 주택정책관 주택정책과 (☎ 044-201-4148)  ...  기타전국의 미분양 주택 현황   \n",
       "\n",
       "       적용분류                                               조사항목  \\\n",
       "0  (주) 해당없음  ∎ 작성항목(2개 부문 6개항목) - 전체 미분양 현황: 지역별(광역시/시군구) 세...   \n",
       "\n",
       "                                            공표방법및URL     조사대상기간및조사기준시점  \\\n",
       "0  전산망(인터넷), 간행물http://stat.molit.go.kr)국토교통통계연보(...  1월1일~12월31일(매월말)   \n",
       "\n",
       "        조사기간 자료수집방법    승인번호      승인일자  통계종료  \n",
       "0  매월 1일~15일   행정집계  116025  19981013  일반통계  \n",
       "\n",
       "[1 rows x 22 columns]"
      ]
     },
     "execution_count": 12,
     "metadata": {},
     "output_type": "execute_result"
    }
   ],
   "source": [
    "df2 = api.get_data(\n",
    "    \"통계설명\",\n",
    "    orgId = \"116\",\n",
    "    tblId = \"DT_MLTM_2086\",\n",
    "    metaItm = \"ALL\",\n",
    "    )\n",
    "df2.head(1)"
   ]
  },
  {
   "cell_type": "markdown",
   "metadata": {},
   "source": [
    "## 통계표 설명"
   ]
  },
  {
   "cell_type": "markdown",
   "metadata": {},
   "source": [
    "### 통계표 명칭"
   ]
  },
  {
   "cell_type": "code",
   "execution_count": 13,
   "metadata": {},
   "outputs": [
    {
     "data": {
      "text/html": [
       "<div>\n",
       "<style scoped>\n",
       "    .dataframe tbody tr th:only-of-type {\n",
       "        vertical-align: middle;\n",
       "    }\n",
       "\n",
       "    .dataframe tbody tr th {\n",
       "        vertical-align: top;\n",
       "    }\n",
       "\n",
       "    .dataframe thead th {\n",
       "        text-align: right;\n",
       "    }\n",
       "</style>\n",
       "<table border=\"1\" class=\"dataframe\">\n",
       "  <thead>\n",
       "    <tr style=\"text-align: right;\">\n",
       "      <th></th>\n",
       "      <th>통계표명</th>\n",
       "      <th>통계표영문명</th>\n",
       "    </tr>\n",
       "  </thead>\n",
       "  <tbody>\n",
       "    <tr>\n",
       "      <th>0</th>\n",
       "      <td>미분양현황_종합</td>\n",
       "      <td>Unsold Housings (Total)</td>\n",
       "    </tr>\n",
       "  </tbody>\n",
       "</table>\n",
       "</div>"
      ],
      "text/plain": [
       "       통계표명                   통계표영문명\n",
       "0  미분양현황_종합  Unsold Housings (Total)"
      ]
     },
     "execution_count": 13,
     "metadata": {},
     "output_type": "execute_result"
    }
   ],
   "source": [
    "df3_1 = api.get_data(\n",
    "    \"통계표설명\",\n",
    "    \"통계표명칭\",\n",
    "    orgId = \"116\",\n",
    "    tblId = \"DT_MLTM_2086\",\n",
    "    )\n",
    "df3_1.head(1)"
   ]
  },
  {
   "cell_type": "markdown",
   "metadata": {},
   "source": [
    "### 기관 명칭"
   ]
  },
  {
   "cell_type": "code",
   "execution_count": 14,
   "metadata": {},
   "outputs": [
    {
     "data": {
      "text/html": [
       "<div>\n",
       "<style scoped>\n",
       "    .dataframe tbody tr th:only-of-type {\n",
       "        vertical-align: middle;\n",
       "    }\n",
       "\n",
       "    .dataframe tbody tr th {\n",
       "        vertical-align: top;\n",
       "    }\n",
       "\n",
       "    .dataframe thead th {\n",
       "        text-align: right;\n",
       "    }\n",
       "</style>\n",
       "<table border=\"1\" class=\"dataframe\">\n",
       "  <thead>\n",
       "    <tr style=\"text-align: right;\">\n",
       "      <th></th>\n",
       "      <th>기관명</th>\n",
       "      <th>기관영문명</th>\n",
       "    </tr>\n",
       "  </thead>\n",
       "  <tbody>\n",
       "    <tr>\n",
       "      <th>0</th>\n",
       "      <td>국토교통부</td>\n",
       "      <td>Ministry of Land, Infrastructure and Transport</td>\n",
       "    </tr>\n",
       "  </tbody>\n",
       "</table>\n",
       "</div>"
      ],
      "text/plain": [
       "     기관명                                           기관영문명\n",
       "0  국토교통부  Ministry of Land, Infrastructure and Transport"
      ]
     },
     "execution_count": 14,
     "metadata": {},
     "output_type": "execute_result"
    }
   ],
   "source": [
    "df3_2 = api.get_data(\n",
    "    \"통계표설명\",\n",
    "    \"기관명칭\",\n",
    "    orgId = \"116\",\n",
    "    tblId = \"DT_MLTM_2086\",\n",
    "    )\n",
    "df3_2.head(1)"
   ]
  },
  {
   "cell_type": "markdown",
   "metadata": {},
   "source": [
    "### 수록정보"
   ]
  },
  {
   "cell_type": "code",
   "execution_count": 15,
   "metadata": {},
   "outputs": [
    {
     "data": {
      "text/html": [
       "<div>\n",
       "<style scoped>\n",
       "    .dataframe tbody tr th:only-of-type {\n",
       "        vertical-align: middle;\n",
       "    }\n",
       "\n",
       "    .dataframe tbody tr th {\n",
       "        vertical-align: top;\n",
       "    }\n",
       "\n",
       "    .dataframe thead th {\n",
       "        text-align: right;\n",
       "    }\n",
       "</style>\n",
       "<table border=\"1\" class=\"dataframe\">\n",
       "  <thead>\n",
       "    <tr style=\"text-align: right;\">\n",
       "      <th></th>\n",
       "      <th>수록주기</th>\n",
       "      <th>수록기간시작일</th>\n",
       "      <th>수록기간종료일</th>\n",
       "    </tr>\n",
       "  </thead>\n",
       "  <tbody>\n",
       "    <tr>\n",
       "      <th>0</th>\n",
       "      <td>5년</td>\n",
       "      <td>1925</td>\n",
       "      <td>2010</td>\n",
       "    </tr>\n",
       "  </tbody>\n",
       "</table>\n",
       "</div>"
      ],
      "text/plain": [
       "  수록주기 수록기간시작일 수록기간종료일\n",
       "0   5년    1925    2010"
      ]
     },
     "execution_count": 15,
     "metadata": {},
     "output_type": "execute_result"
    }
   ],
   "source": [
    "df3_3 = api.get_data(\n",
    "    \"통계표설명\",\n",
    "    \"수록정보\",\n",
    "    orgId = \"101\",\n",
    "    tblId = \"DT_1IN0001\",\n",
    "    # detail = \"Y\",\n",
    "    )\n",
    "df3_3.head(1)"
   ]
  },
  {
   "cell_type": "markdown",
   "metadata": {},
   "source": [
    "### 분류/항목"
   ]
  },
  {
   "cell_type": "code",
   "execution_count": 16,
   "metadata": {},
   "outputs": [
    {
     "data": {
      "text/html": [
       "<div>\n",
       "<style scoped>\n",
       "    .dataframe tbody tr th:only-of-type {\n",
       "        vertical-align: middle;\n",
       "    }\n",
       "\n",
       "    .dataframe tbody tr th {\n",
       "        vertical-align: top;\n",
       "    }\n",
       "\n",
       "    .dataframe thead th {\n",
       "        text-align: right;\n",
       "    }\n",
       "</style>\n",
       "<table border=\"1\" class=\"dataframe\">\n",
       "  <thead>\n",
       "    <tr style=\"text-align: right;\">\n",
       "      <th></th>\n",
       "      <th>기관ID</th>\n",
       "      <th>통계표ID</th>\n",
       "      <th>분류ID</th>\n",
       "      <th>분류명</th>\n",
       "      <th>분류영문명</th>\n",
       "      <th>분류값ID</th>\n",
       "      <th>분류값명</th>\n",
       "      <th>분류값영문명</th>\n",
       "      <th>분류값순번</th>\n",
       "      <th>단위ID</th>\n",
       "      <th>단위명</th>\n",
       "    </tr>\n",
       "  </thead>\n",
       "  <tbody>\n",
       "    <tr>\n",
       "      <th>0</th>\n",
       "      <td>116</td>\n",
       "      <td>DT_MLTM_2086</td>\n",
       "      <td>ITEM</td>\n",
       "      <td>항목</td>\n",
       "      <td>Item code list</td>\n",
       "      <td>13103871014T1</td>\n",
       "      <td>미분양(12월기준)</td>\n",
       "      <td>Unsold Housings</td>\n",
       "      <td>NaN</td>\n",
       "      <td>14999116.12월기준</td>\n",
       "      <td>12월기준</td>\n",
       "    </tr>\n",
       "  </tbody>\n",
       "</table>\n",
       "</div>"
      ],
      "text/plain": [
       "  기관ID         통계표ID  분류ID 분류명           분류영문명          분류값ID        분류값명  \\\n",
       "0  116  DT_MLTM_2086  ITEM  항목  Item code list  13103871014T1  미분양(12월기준)   \n",
       "\n",
       "            분류값영문명 분류값순번            단위ID    단위명  \n",
       "0  Unsold Housings   NaN  14999116.12월기준  12월기준  "
      ]
     },
     "execution_count": 16,
     "metadata": {},
     "output_type": "execute_result"
    }
   ],
   "source": [
    "df3_4 = api.get_data(\n",
    "    \"통계표설명\",\n",
    "    \"분류항목\",\n",
    "    orgId = \"116\",\n",
    "    tblId = \"DT_MLTM_2086\",\n",
    "    )\n",
    "df3_4.head(1)"
   ]
  },
  {
   "cell_type": "markdown",
   "metadata": {},
   "source": [
    "### 주석"
   ]
  },
  {
   "cell_type": "code",
   "execution_count": 17,
   "metadata": {},
   "outputs": [
    {
     "data": {
      "text/html": [
       "<div>\n",
       "<style scoped>\n",
       "    .dataframe tbody tr th:only-of-type {\n",
       "        vertical-align: middle;\n",
       "    }\n",
       "\n",
       "    .dataframe tbody tr th {\n",
       "        vertical-align: top;\n",
       "    }\n",
       "\n",
       "    .dataframe thead th {\n",
       "        text-align: right;\n",
       "    }\n",
       "</style>\n",
       "<table border=\"1\" class=\"dataframe\">\n",
       "  <thead>\n",
       "    <tr style=\"text-align: right;\">\n",
       "      <th></th>\n",
       "      <th>주석유형</th>\n",
       "      <th>주석</th>\n",
       "    </tr>\n",
       "  </thead>\n",
       "  <tbody>\n",
       "    <tr>\n",
       "      <th>0</th>\n",
       "      <td>통계표</td>\n",
       "      <td>해당연도 12월말 기준</td>\n",
       "    </tr>\n",
       "  </tbody>\n",
       "</table>\n",
       "</div>"
      ],
      "text/plain": [
       "  주석유형            주석\n",
       "0  통계표  해당연도 12월말 기준"
      ]
     },
     "execution_count": 17,
     "metadata": {},
     "output_type": "execute_result"
    }
   ],
   "source": [
    "df3_5 = api.get_data(\n",
    "    \"통계표설명\",\n",
    "    \"주석\",\n",
    "    orgId = \"116\",\n",
    "    tblId = \"DT_MLTM_2086\",\n",
    "    )\n",
    "df3_5.head(1)"
   ]
  },
  {
   "cell_type": "markdown",
   "metadata": {},
   "source": [
    "### 단위"
   ]
  },
  {
   "cell_type": "code",
   "execution_count": 18,
   "metadata": {},
   "outputs": [
    {
     "data": {
      "text/html": [
       "<div>\n",
       "<style scoped>\n",
       "    .dataframe tbody tr th:only-of-type {\n",
       "        vertical-align: middle;\n",
       "    }\n",
       "\n",
       "    .dataframe tbody tr th {\n",
       "        vertical-align: top;\n",
       "    }\n",
       "\n",
       "    .dataframe thead th {\n",
       "        text-align: right;\n",
       "    }\n",
       "</style>\n",
       "<table border=\"1\" class=\"dataframe\">\n",
       "  <thead>\n",
       "    <tr style=\"text-align: right;\">\n",
       "      <th></th>\n",
       "      <th>단위명</th>\n",
       "      <th>단위영문명</th>\n",
       "    </tr>\n",
       "  </thead>\n",
       "  <tbody>\n",
       "    <tr>\n",
       "      <th>0</th>\n",
       "      <td>호</td>\n",
       "      <td>Apartment Unit</td>\n",
       "    </tr>\n",
       "  </tbody>\n",
       "</table>\n",
       "</div>"
      ],
      "text/plain": [
       "  단위명           단위영문명\n",
       "0   호  Apartment Unit"
      ]
     },
     "execution_count": 18,
     "metadata": {},
     "output_type": "execute_result"
    }
   ],
   "source": [
    "df3_6 = api.get_data(\n",
    "    \"통계표설명\",\n",
    "    \"단위\",\n",
    "    orgId = \"116\",\n",
    "    tblId = \"DT_MLTM_2086\",\n",
    "    )\n",
    "df3_6.head(1)"
   ]
  },
  {
   "cell_type": "markdown",
   "metadata": {},
   "source": [
    "### 출처"
   ]
  },
  {
   "cell_type": "code",
   "execution_count": 19,
   "metadata": {},
   "outputs": [
    {
     "data": {
      "text/html": [
       "<div>\n",
       "<style scoped>\n",
       "    .dataframe tbody tr th:only-of-type {\n",
       "        vertical-align: middle;\n",
       "    }\n",
       "\n",
       "    .dataframe tbody tr th {\n",
       "        vertical-align: top;\n",
       "    }\n",
       "\n",
       "    .dataframe thead th {\n",
       "        text-align: right;\n",
       "    }\n",
       "</style>\n",
       "<table border=\"1\" class=\"dataframe\">\n",
       "  <thead>\n",
       "    <tr style=\"text-align: right;\">\n",
       "      <th></th>\n",
       "      <th>조사명</th>\n",
       "      <th>통계표담당부서</th>\n",
       "      <th>통계표담당부서전화번호</th>\n",
       "      <th>STAT_ID</th>\n",
       "    </tr>\n",
       "  </thead>\n",
       "  <tbody>\n",
       "    <tr>\n",
       "      <th>0</th>\n",
       "      <td>「미분양주택현황보고」</td>\n",
       "      <td>국토교통부  주택토지실 주택정책관 주택정책과</td>\n",
       "      <td>044-201-4148</td>\n",
       "      <td>1998033</td>\n",
       "    </tr>\n",
       "  </tbody>\n",
       "</table>\n",
       "</div>"
      ],
      "text/plain": [
       "           조사명                   통계표담당부서   통계표담당부서전화번호  STAT_ID\n",
       "0  「미분양주택현황보고」  국토교통부  주택토지실 주택정책관 주택정책과  044-201-4148  1998033"
      ]
     },
     "execution_count": 19,
     "metadata": {},
     "output_type": "execute_result"
    }
   ],
   "source": [
    "df3_7 = api.get_data(\n",
    "    \"통계표설명\",\n",
    "    \"출처\",\n",
    "    orgId = \"116\",\n",
    "    tblId = \"DT_MLTM_2086\",\n",
    "    )\n",
    "df3_7.head(1)"
   ]
  },
  {
   "cell_type": "markdown",
   "metadata": {},
   "source": [
    "### 가중치"
   ]
  },
  {
   "cell_type": "code",
   "execution_count": 20,
   "metadata": {},
   "outputs": [
    {
     "name": "stdout",
     "output_type": "stream",
     "text": [
      "데이터가 존재하지 않습니다.\n"
     ]
    }
   ],
   "source": [
    "df3_8 = api.get_data(\n",
    "    \"통계표설명\",\n",
    "    \"가중치\",\n",
    "    orgId = \"116\",\n",
    "    tblId = \"DT_MLTM_2086\",\n",
    "    )\n",
    "df3_8"
   ]
  },
  {
   "cell_type": "markdown",
   "metadata": {},
   "source": [
    "### 자료갱신일"
   ]
  },
  {
   "cell_type": "code",
   "execution_count": 21,
   "metadata": {},
   "outputs": [
    {
     "data": {
      "text/html": [
       "<div>\n",
       "<style scoped>\n",
       "    .dataframe tbody tr th:only-of-type {\n",
       "        vertical-align: middle;\n",
       "    }\n",
       "\n",
       "    .dataframe tbody tr th {\n",
       "        vertical-align: top;\n",
       "    }\n",
       "\n",
       "    .dataframe thead th {\n",
       "        text-align: right;\n",
       "    }\n",
       "</style>\n",
       "<table border=\"1\" class=\"dataframe\">\n",
       "  <thead>\n",
       "    <tr style=\"text-align: right;\">\n",
       "      <th></th>\n",
       "      <th>기관명</th>\n",
       "      <th>통계표명</th>\n",
       "      <th>수록주기</th>\n",
       "      <th>수록시점</th>\n",
       "      <th></th>\n",
       "    </tr>\n",
       "  </thead>\n",
       "  <tbody>\n",
       "    <tr>\n",
       "      <th>0</th>\n",
       "      <td>국토교통부</td>\n",
       "      <td>미분양현황_종합</td>\n",
       "      <td>년</td>\n",
       "      <td>2001</td>\n",
       "      <td>2024-02-07</td>\n",
       "    </tr>\n",
       "  </tbody>\n",
       "</table>\n",
       "</div>"
      ],
      "text/plain": [
       "     기관명      통계표명 수록주기  수록시점            \n",
       "0  국토교통부  미분양현황_종합    년  2001  2024-02-07"
      ]
     },
     "execution_count": 21,
     "metadata": {},
     "output_type": "execute_result"
    }
   ],
   "source": [
    "df3_9 = api.get_data(\n",
    "    \"통계표설명\",\n",
    "    \"자료갱신일\",\n",
    "    orgId = \"116\",\n",
    "    tblId = \"DT_MLTM_2086\",\n",
    "    )\n",
    "df3_9.head(1)"
   ]
  },
  {
   "cell_type": "markdown",
   "metadata": {},
   "source": [
    "## 통계목록"
   ]
  },
  {
   "cell_type": "code",
   "execution_count": 22,
   "metadata": {},
   "outputs": [
    {
     "data": {
      "text/html": [
       "<div>\n",
       "<style scoped>\n",
       "    .dataframe tbody tr th:only-of-type {\n",
       "        vertical-align: middle;\n",
       "    }\n",
       "\n",
       "    .dataframe tbody tr th {\n",
       "        vertical-align: top;\n",
       "    }\n",
       "\n",
       "    .dataframe thead th {\n",
       "        text-align: right;\n",
       "    }\n",
       "</style>\n",
       "<table border=\"1\" class=\"dataframe\">\n",
       "  <thead>\n",
       "    <tr style=\"text-align: right;\">\n",
       "      <th></th>\n",
       "      <th>서비스뷰ID</th>\n",
       "      <th>서비스뷰명</th>\n",
       "      <th>기관ID</th>\n",
       "      <th>통계표ID</th>\n",
       "      <th>통계표명</th>\n",
       "      <th>추천통계표여부</th>\n",
       "      <th>SEND_DE</th>\n",
       "      <th>STAT_ID</th>\n",
       "    </tr>\n",
       "  </thead>\n",
       "  <tbody>\n",
       "    <tr>\n",
       "      <th>0</th>\n",
       "      <td>MT_OTITLE</td>\n",
       "      <td>국내통계 기관별</td>\n",
       "      <td>101</td>\n",
       "      <td>DT_1B040B3</td>\n",
       "      <td>행정구역(시군구)별 주민등록세대수</td>\n",
       "      <td>Y</td>\n",
       "      <td>2024-04-03</td>\n",
       "      <td>2008001</td>\n",
       "    </tr>\n",
       "  </tbody>\n",
       "</table>\n",
       "</div>"
      ],
      "text/plain": [
       "      서비스뷰ID     서비스뷰명 기관ID       통계표ID                통계표명 추천통계표여부  \\\n",
       "0  MT_OTITLE  국내통계 기관별  101  DT_1B040B3  행정구역(시군구)별 주민등록세대수       Y   \n",
       "\n",
       "      SEND_DE  STAT_ID  \n",
       "0  2024-04-03  2008001  "
      ]
     },
     "execution_count": 22,
     "metadata": {},
     "output_type": "execute_result"
    }
   ],
   "source": [
    "df4 = api.get_data(\n",
    "    \"통계목록\",\n",
    "    vwCd = \"MT_OTITLE\",\n",
    "    parentListId = \"110_20103\",\n",
    "    )\n",
    "df4.head(1)"
   ]
  },
  {
   "cell_type": "markdown",
   "metadata": {},
   "source": [
    "## 통계자료"
   ]
  },
  {
   "cell_type": "code",
   "execution_count": 23,
   "metadata": {},
   "outputs": [
    {
     "data": {
      "text/html": [
       "<div>\n",
       "<style scoped>\n",
       "    .dataframe tbody tr th:only-of-type {\n",
       "        vertical-align: middle;\n",
       "    }\n",
       "\n",
       "    .dataframe tbody tr th {\n",
       "        vertical-align: top;\n",
       "    }\n",
       "\n",
       "    .dataframe thead th {\n",
       "        text-align: right;\n",
       "    }\n",
       "</style>\n",
       "<table border=\"1\" class=\"dataframe\">\n",
       "  <thead>\n",
       "    <tr style=\"text-align: right;\">\n",
       "      <th></th>\n",
       "      <th>기관ID</th>\n",
       "      <th>통계표ID</th>\n",
       "      <th>통계표명</th>\n",
       "      <th>분류명1</th>\n",
       "      <th>분류영문명1</th>\n",
       "      <th>분류값명1</th>\n",
       "      <th>분류값영문명1</th>\n",
       "      <th>분류값ID1</th>\n",
       "      <th>분류명2</th>\n",
       "      <th>분류영문명2</th>\n",
       "      <th>...</th>\n",
       "      <th>분류값ID2</th>\n",
       "      <th>항목ID</th>\n",
       "      <th>항목명</th>\n",
       "      <th>항목영문명</th>\n",
       "      <th>단위명</th>\n",
       "      <th>단위영문명</th>\n",
       "      <th>수록주기</th>\n",
       "      <th>수록시점</th>\n",
       "      <th>수치값</th>\n",
       "      <th>LST_CHN_DE</th>\n",
       "    </tr>\n",
       "  </thead>\n",
       "  <tbody>\n",
       "    <tr>\n",
       "      <th>0</th>\n",
       "      <td>116</td>\n",
       "      <td>DT_MLTM_2086</td>\n",
       "      <td>미분양현황_종합</td>\n",
       "      <td>대분류</td>\n",
       "      <td>Classification</td>\n",
       "      <td>부문별미분양현황</td>\n",
       "      <td>unsold By sector</td>\n",
       "      <td>13102871014A.0001</td>\n",
       "      <td>구분</td>\n",
       "      <td>Classification</td>\n",
       "      <td>...</td>\n",
       "      <td>13102871014B.0001</td>\n",
       "      <td>13103871014T1</td>\n",
       "      <td>미분양(12월기준)</td>\n",
       "      <td>Unsold Housings</td>\n",
       "      <td>12월기준</td>\n",
       "      <td>Apartment Unit</td>\n",
       "      <td>A</td>\n",
       "      <td>2021</td>\n",
       "      <td>17710</td>\n",
       "      <td></td>\n",
       "    </tr>\n",
       "  </tbody>\n",
       "</table>\n",
       "<p>1 rows × 22 columns</p>\n",
       "</div>"
      ],
      "text/plain": [
       "  기관ID         통계표ID      통계표명 분류명1          분류영문명1     분류값명1  \\\n",
       "0  116  DT_MLTM_2086  미분양현황_종합  대분류  Classification  부문별미분양현황   \n",
       "\n",
       "            분류값영문명1             분류값ID1 분류명2          분류영문명2  ...  \\\n",
       "0  unsold By sector  13102871014A.0001   구분  Classification  ...   \n",
       "\n",
       "              분류값ID2           항목ID         항목명            항목영문명    단위명  \\\n",
       "0  13102871014B.0001  13103871014T1  미분양(12월기준)  Unsold Housings  12월기준   \n",
       "\n",
       "            단위영문명 수록주기  수록시점    수치값 LST_CHN_DE  \n",
       "0  Apartment Unit    A  2021  17710             \n",
       "\n",
       "[1 rows x 22 columns]"
      ]
     },
     "execution_count": 23,
     "metadata": {},
     "output_type": "execute_result"
    }
   ],
   "source": [
    "df5 = api.get_data(\n",
    "    \"통계자료\",\n",
    "    orgId = \"116\",\n",
    "    tblId = \"DT_MLTM_2086\",\n",
    "    itmId = \"ALL\",\n",
    "    objL1 = \"ALL\",\n",
    "    objL2 = \"ALL\",\n",
    "    prdSe = \"Y\",\n",
    "    startPrdeDe = \"2021\",\n",
    "    endPrdDe = \"2021\",\n",
    "    )\n",
    "df5.head(1)"
   ]
  }
 ],
 "metadata": {
  "hide_input": false,
  "kernelspec": {
   "display_name": "Python 3 (ipykernel)",
   "language": "python",
   "name": "python3"
  },
  "language_info": {
   "codemirror_mode": {
    "name": "ipython",
    "version": 3
   },
   "file_extension": ".py",
   "mimetype": "text/x-python",
   "name": "python",
   "nbconvert_exporter": "python",
   "pygments_lexer": "ipython3",
   "version": "3.10.11"
  },
  "toc": {
   "base_numbering": 1,
   "nav_menu": {},
   "number_sections": true,
   "sideBar": true,
   "skip_h1_title": false,
   "title_cell": "Table of Contents",
   "title_sidebar": "Contents",
   "toc_cell": false,
   "toc_position": {},
   "toc_section_display": true,
   "toc_window_display": false
  },
  "varInspector": {
   "cols": {
    "lenName": 16,
    "lenType": 16,
    "lenVar": 40
   },
   "kernels_config": {
    "python": {
     "delete_cmd_postfix": "",
     "delete_cmd_prefix": "del ",
     "library": "var_list.py",
     "varRefreshCmd": "print(var_dic_list())"
    },
    "r": {
     "delete_cmd_postfix": ") ",
     "delete_cmd_prefix": "rm(",
     "library": "var_list.r",
     "varRefreshCmd": "cat(var_dic_list()) "
    }
   },
   "types_to_exclude": [
    "module",
    "function",
    "builtin_function_or_method",
    "instance",
    "_Feature"
   ],
   "window_display": false
  },
  "vscode": {
   "interpreter": {
    "hash": "fcea6e6e55b259976681c8a35a3648f8ff7299129df47a05aebb6686c5e7010e"
   }
  }
 },
 "nbformat": 4,
 "nbformat_minor": 4
}
