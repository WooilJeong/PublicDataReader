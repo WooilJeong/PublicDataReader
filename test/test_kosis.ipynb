{
 "cells": [
  {
   "cell_type": "markdown",
   "metadata": {},
   "source": [
    "# KOSIS OPEN API"
   ]
  },
  {
   "cell_type": "code",
   "execution_count": null,
   "metadata": {},
   "outputs": [],
   "source": [
    "import os\n",
    "import sys\n",
    "from pathlib import Path\n",
    "sys.path.append(str(Path(os.getcwd()).parent))"
   ]
  },
  {
   "cell_type": "code",
   "execution_count": null,
   "metadata": {
    "ExecuteTime": {
     "end_time": "2021-11-15T16:15:05.203055Z",
     "start_time": "2021-11-15T16:15:05.189494Z"
    }
   },
   "outputs": [],
   "source": [
    "from config import API_KEY_INFO\n",
    "service_key = API_KEY_INFO.get(\"kosis\")"
   ]
  },
  {
   "cell_type": "markdown",
   "metadata": {},
   "source": [
    "## 인스턴스 생성"
   ]
  },
  {
   "cell_type": "code",
   "execution_count": null,
   "metadata": {},
   "outputs": [],
   "source": [
    "from PublicDataReader import Kosis\n",
    "api = Kosis(service_key)"
   ]
  },
  {
   "cell_type": "markdown",
   "metadata": {},
   "source": [
    "## KOSIS 통합검색"
   ]
  },
  {
   "cell_type": "code",
   "execution_count": null,
   "metadata": {},
   "outputs": [],
   "source": [
    "df1 = api.get_data(\n",
    "    \"KOSIS통합검색\",\n",
    "    searchNm=\"미분양 현황\",\n",
    "    )\n",
    "df1.head(1)"
   ]
  },
  {
   "cell_type": "markdown",
   "metadata": {},
   "source": [
    "## 통계설명"
   ]
  },
  {
   "cell_type": "code",
   "execution_count": null,
   "metadata": {},
   "outputs": [],
   "source": [
    "df2 = api.get_data(\n",
    "    \"통계설명\",\n",
    "    orgId = \"116\",\n",
    "    tblId = \"DT_MLTM_2086\",\n",
    "    metaItm = \"ALL\",\n",
    "    )\n",
    "df2.head(1)"
   ]
  },
  {
   "cell_type": "markdown",
   "metadata": {},
   "source": [
    "## 통계표 설명"
   ]
  },
  {
   "cell_type": "markdown",
   "metadata": {},
   "source": [
    "### 통계표 명칭"
   ]
  },
  {
   "cell_type": "code",
   "execution_count": null,
   "metadata": {},
   "outputs": [],
   "source": [
    "df3_1 = api.get_data(\n",
    "    \"통계표설명\",\n",
    "    \"통계표명칭\",\n",
    "    orgId = \"116\",\n",
    "    tblId = \"DT_MLTM_2086\",\n",
    "    )\n",
    "df3_1.head(1)"
   ]
  },
  {
   "cell_type": "markdown",
   "metadata": {},
   "source": [
    "### 기관 명칭"
   ]
  },
  {
   "cell_type": "code",
   "execution_count": null,
   "metadata": {},
   "outputs": [],
   "source": [
    "df3_2 = api.get_data(\n",
    "    \"통계표설명\",\n",
    "    \"기관명칭\",\n",
    "    orgId = \"116\",\n",
    "    tblId = \"DT_MLTM_2086\",\n",
    "    )\n",
    "df3_2.head(1)"
   ]
  },
  {
   "cell_type": "markdown",
   "metadata": {},
   "source": [
    "### 수록정보"
   ]
  },
  {
   "cell_type": "code",
   "execution_count": null,
   "metadata": {},
   "outputs": [],
   "source": [
    "df3_3 = api.get_data(\n",
    "    \"통계표설명\",\n",
    "    \"수록정보\",\n",
    "    orgId = \"101\",\n",
    "    tblId = \"DT_1IN0001\",\n",
    "    # detail = \"Y\",\n",
    "    )\n",
    "df3_3.head(1)"
   ]
  },
  {
   "cell_type": "markdown",
   "metadata": {},
   "source": [
    "### 분류/항목"
   ]
  },
  {
   "cell_type": "code",
   "execution_count": null,
   "metadata": {},
   "outputs": [],
   "source": [
    "df3_4 = api.get_data(\n",
    "    \"통계표설명\",\n",
    "    \"분류항목\",\n",
    "    orgId = \"116\",\n",
    "    tblId = \"DT_MLTM_2086\",\n",
    "    )\n",
    "df3_4.head(1)"
   ]
  },
  {
   "cell_type": "markdown",
   "metadata": {},
   "source": [
    "### 주석"
   ]
  },
  {
   "cell_type": "code",
   "execution_count": null,
   "metadata": {},
   "outputs": [],
   "source": [
    "df3_5 = api.get_data(\n",
    "    \"통계표설명\",\n",
    "    \"주석\",\n",
    "    orgId = \"116\",\n",
    "    tblId = \"DT_MLTM_2086\",\n",
    "    )\n",
    "df3_5.head(1)"
   ]
  },
  {
   "cell_type": "markdown",
   "metadata": {},
   "source": [
    "### 단위"
   ]
  },
  {
   "cell_type": "code",
   "execution_count": null,
   "metadata": {},
   "outputs": [],
   "source": [
    "df3_6 = api.get_data(\n",
    "    \"통계표설명\",\n",
    "    \"단위\",\n",
    "    orgId = \"116\",\n",
    "    tblId = \"DT_MLTM_2086\",\n",
    "    )\n",
    "df3_6.head(1)"
   ]
  },
  {
   "cell_type": "markdown",
   "metadata": {},
   "source": [
    "### 출처"
   ]
  },
  {
   "cell_type": "code",
   "execution_count": null,
   "metadata": {},
   "outputs": [],
   "source": [
    "df3_7 = api.get_data(\n",
    "    \"통계표설명\",\n",
    "    \"출처\",\n",
    "    orgId = \"116\",\n",
    "    tblId = \"DT_MLTM_2086\",\n",
    "    )\n",
    "df3_7.head(1)"
   ]
  },
  {
   "cell_type": "markdown",
   "metadata": {},
   "source": [
    "### 가중치"
   ]
  },
  {
   "cell_type": "code",
   "execution_count": null,
   "metadata": {},
   "outputs": [],
   "source": [
    "df3_8 = api.get_data(\n",
    "    \"통계표설명\",\n",
    "    \"가중치\",\n",
    "    orgId = \"116\",\n",
    "    tblId = \"DT_MLTM_2086\",\n",
    "    )\n",
    "df3_8"
   ]
  },
  {
   "cell_type": "markdown",
   "metadata": {},
   "source": [
    "### 자료갱신일"
   ]
  },
  {
   "cell_type": "code",
   "execution_count": null,
   "metadata": {},
   "outputs": [],
   "source": [
    "df3_9 = api.get_data(\n",
    "    \"통계표설명\",\n",
    "    \"자료갱신일\",\n",
    "    orgId = \"116\",\n",
    "    tblId = \"DT_MLTM_2086\",\n",
    "    )\n",
    "df3_9.head(1)"
   ]
  },
  {
   "cell_type": "markdown",
   "metadata": {},
   "source": [
    "## 통계목록"
   ]
  },
  {
   "cell_type": "code",
   "execution_count": null,
   "metadata": {},
   "outputs": [],
   "source": [
    "df4 = api.get_data(\n",
    "    \"통계목록\",\n",
    "    vwCd = \"MT_OTITLE\",\n",
    "    parentListId = \"110_20103\",\n",
    "    )\n",
    "df4.head(1)"
   ]
  },
  {
   "cell_type": "markdown",
   "metadata": {},
   "source": [
    "## 통계자료"
   ]
  },
  {
   "cell_type": "code",
   "execution_count": null,
   "metadata": {},
   "outputs": [],
   "source": [
    "df5 = api.get_data(\n",
    "    \"통계자료\",\n",
    "    orgId = \"116\",\n",
    "    tblId = \"DT_MLTM_2086\",\n",
    "    itmId = \"ALL\",\n",
    "    objL1 = \"ALL\",\n",
    "    objL2 = \"ALL\",\n",
    "    prdSe = \"Y\",\n",
    "    startPrdeDe = \"2021\",\n",
    "    endPrdDe = \"2021\",\n",
    "    )\n",
    "df5.head(1)"
   ]
  }
 ],
 "metadata": {
  "hide_input": false,
  "kernelspec": {
   "display_name": "Python 3 (ipykernel)",
   "language": "python",
   "name": "python3"
  },
  "language_info": {
   "codemirror_mode": {
    "name": "ipython",
    "version": 3
   },
   "file_extension": ".py",
   "mimetype": "text/x-python",
   "name": "python",
   "nbconvert_exporter": "python",
   "pygments_lexer": "ipython3",
   "version": "3.9.12"
  },
  "toc": {
   "base_numbering": 1,
   "nav_menu": {},
   "number_sections": true,
   "sideBar": true,
   "skip_h1_title": false,
   "title_cell": "Table of Contents",
   "title_sidebar": "Contents",
   "toc_cell": false,
   "toc_position": {},
   "toc_section_display": true,
   "toc_window_display": false
  },
  "varInspector": {
   "cols": {
    "lenName": 16,
    "lenType": 16,
    "lenVar": 40
   },
   "kernels_config": {
    "python": {
     "delete_cmd_postfix": "",
     "delete_cmd_prefix": "del ",
     "library": "var_list.py",
     "varRefreshCmd": "print(var_dic_list())"
    },
    "r": {
     "delete_cmd_postfix": ") ",
     "delete_cmd_prefix": "rm(",
     "library": "var_list.r",
     "varRefreshCmd": "cat(var_dic_list()) "
    }
   },
   "types_to_exclude": [
    "module",
    "function",
    "builtin_function_or_method",
    "instance",
    "_Feature"
   ],
   "window_display": false
  },
  "vscode": {
   "interpreter": {
    "hash": "fcea6e6e55b259976681c8a35a3648f8ff7299129df47a05aebb6686c5e7010e"
   }
  }
 },
 "nbformat": 4,
 "nbformat_minor": 4
}
