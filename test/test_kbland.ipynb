{
 "cells": [
  {
   "cell_type": "code",
   "execution_count": null,
   "metadata": {
    "ExecuteTime": {
     "end_time": "2022-12-02T08:23:39.858809Z",
     "start_time": "2022-12-02T08:23:39.839859Z"
    }
   },
   "outputs": [],
   "source": [
    "import os\n",
    "import sys\n",
    "from pathlib import Path\n",
    "sys.path.append(str(Path(os.getcwd()).parent))"
   ]
  },
  {
   "cell_type": "markdown",
   "metadata": {},
   "source": [
    "# KB부동산 API 인스턴스 생성"
   ]
  },
  {
   "cell_type": "code",
   "execution_count": null,
   "metadata": {},
   "outputs": [],
   "source": [
    "from PublicDataReader import Kbland\n",
    "api = Kbland()"
   ]
  },
  {
   "cell_type": "markdown",
   "metadata": {},
   "source": [
    "# 주택가격동향조사"
   ]
  },
  {
   "cell_type": "markdown",
   "metadata": {},
   "source": [
    "## 주요 파라미터 정리\n",
    "\n",
    "- 월간주간구분코드\n",
    "    - 01: 월간\n",
    "    - 02: 주간\n",
    "- 매물종별구분\n",
    "    - 01: 아파트\n",
    "    - 08: 연립\n",
    "    - 09: 단독\n",
    "    - 98: 주택종합\n",
    "- 매매전세코드\n",
    "    - 01: 매매\n",
    "    - 02: 전세\n",
    "- 면적별코드\n",
    "    - 01: 전용면적별(구)\n",
    "    - 02: 전용면적별\n",
    "- (PIR) 메뉴코드\n",
    "    - 01: PIR\n",
    "    - 02: J-PIR"
   ]
  },
  {
   "cell_type": "markdown",
   "metadata": {},
   "source": [
    "## 가격지수\n",
    "\n",
    "- 주간 아파트 매매가격지수\n",
    "- 주간 아파트 전세가격지수\n",
    "- 월간 아파트 매매가격지수\n",
    "- 월간 아파트 전세가격지수\n",
    "- 단독 매매가격지수\n",
    "- 단독 전세가격지수\n",
    "- 연립 매매가격지수\n",
    "- 연립 전세가격지수\n",
    "- 주택종합 매매가격지수\n",
    "- 주택종합 전세가격지수"
   ]
  },
  {
   "cell_type": "code",
   "execution_count": null,
   "metadata": {},
   "outputs": [],
   "source": [
    "params = {\n",
    "    \"월간주간구분코드\": \"01\",\n",
    "    \"매물종별구분\": \"01\",\n",
    "    \"매매전세코드\": \"01\",\n",
    "    # \"지역코드\": \"11\",\n",
    "    \"기간\": 1,\n",
    "}\n",
    "df = api.get_price_index(**params)\n",
    "df.tail()"
   ]
  },
  {
   "cell_type": "markdown",
   "metadata": {},
   "source": [
    "- 월간 아파트 월세가격지수"
   ]
  },
  {
   "cell_type": "code",
   "execution_count": null,
   "metadata": {},
   "outputs": [],
   "source": [
    "params = {\n",
    "    \"기간\": 1\n",
    "}\n",
    "df = api.get_monthly_apartment_wolse_index(**params)\n",
    "df.tail()"
   ]
  },
  {
   "cell_type": "markdown",
   "metadata": {},
   "source": [
    "- KB선도아파트 50 지수"
   ]
  },
  {
   "cell_type": "code",
   "execution_count": null,
   "metadata": {},
   "outputs": [],
   "source": [
    "params = {\n",
    "    \"기간\": 1\n",
    "}\n",
    "df = api.get_lead_apartment_50_index(**params)\n",
    "df.tail()"
   ]
  },
  {
   "cell_type": "markdown",
   "metadata": {},
   "source": [
    "## 가격지수증감률\n",
    "\n",
    "- 주간 아파트 매매가격지수 증감률\n",
    "- 주간 아파트 전세가격지수 증감률\n",
    "- 월간 아파트 매매가격지수 증감률\n",
    "- 월간 아파트 전세가격지수 증감률\n",
    "- 단독 매매가격지수 증감률\n",
    "- 단독 전세가격지수 증감률\n",
    "- 연립 매매가격지수 증감률\n",
    "- 연립 전세가격지수 증감률\n",
    "- 주택종합 매매가격지수 증감률\n",
    "- 주택종합 전세가격지수 증감률"
   ]
  },
  {
   "cell_type": "code",
   "execution_count": null,
   "metadata": {},
   "outputs": [],
   "source": [
    "params = {\n",
    "    \"월간주간구분코드\": \"01\",\n",
    "    \"매물종별구분\": \"01\",\n",
    "    \"매매전세코드\": \"01\",\n",
    "    # \"지역코드\": \"11\",\n",
    "    \"기간\": 1,\n",
    "}\n",
    "df = api.get_price_index_change_rate(**params)\n",
    "df.tail()"
   ]
  },
  {
   "cell_type": "markdown",
   "metadata": {},
   "source": [
    "## 전세가격비율"
   ]
  },
  {
   "cell_type": "markdown",
   "metadata": {},
   "source": [
    "- 아파트 매매가격대비 전세가격비율\n",
    "- 단독 매매가격대비 전세가격비율\n",
    "- 연립 매매가격대비 전세가격비율\n",
    "- 주택종합 매매가격대비 전세가격비율"
   ]
  },
  {
   "cell_type": "code",
   "execution_count": null,
   "metadata": {},
   "outputs": [],
   "source": [
    "params = {\n",
    "    \"매물종별구분\": \"98\",\n",
    "    \"기간\": 1,\n",
    "    # \"지역코드\": \"11\",\n",
    "}\n",
    "\n",
    "df = api.get_jeonse_price_ratio(**params)\n",
    "df.tail()"
   ]
  },
  {
   "cell_type": "markdown",
   "metadata": {},
   "source": [
    "- 전월세 전환율"
   ]
  },
  {
   "cell_type": "code",
   "execution_count": null,
   "metadata": {},
   "outputs": [],
   "source": [
    "params = {\n",
    "    \"기간\": 1,\n",
    "}\n",
    "df = api.get_jeonwolse_conversion_rate(**params)\n",
    "df.tail()"
   ]
  },
  {
   "cell_type": "markdown",
   "metadata": {},
   "source": [
    "## 시장동향/설문조사"
   ]
  },
  {
   "cell_type": "markdown",
   "metadata": {},
   "source": [
    "- 주간 매수우위지수\n",
    "- 주간 매매거래활발지수\n",
    "- 주간 전세수급지수\n",
    "- 주간 전세거래활발지수\n",
    "- 월간 매수우위지수\n",
    "- 월간 매매거래활발지수\n",
    "- 월간 전세수급지수\n",
    "- 월간 전세거래활발지수\n",
    "- 월간 매매가격전망지수\n",
    "- 월간 전세가격전망지수"
   ]
  },
  {
   "cell_type": "code",
   "execution_count": null,
   "metadata": {},
   "outputs": [],
   "source": [
    "params = {\n",
    "    \"메뉴코드\": \"01\",\n",
    "    \"월간주간구분코드\": \"01\",\n",
    "    \"기간\": 1,\n",
    "}\n",
    "df = api.get_market_trend(**params)\n",
    "df.tail()"
   ]
  },
  {
   "cell_type": "markdown",
   "metadata": {},
   "source": [
    "## 면적별 가격지수"
   ]
  },
  {
   "cell_type": "markdown",
   "metadata": {},
   "source": [
    "- 주간 아파트 전용면적별 매매가격지수\n",
    "- 주간 아파트 전용면적별 전세가격지수\n",
    "- 월간 아파트 전용면적별 매매가격지수\n",
    "- 월간 아파트 전용면적별 전세가격지수\n",
    "- 월간 아파트 전용면적별(구) 매매가격지수\n",
    "- 월간 아파트 전용면적별(구) 전세가격지수\n",
    "- 단독 전용면적별 매매가격지수\n",
    "- 단독 전용면적별 전세가격지수\n",
    "- 연립 전용면적별 매매가격지수\n",
    "- 연립 전용면적별 전세가격지수\n",
    "- 주택종합 전용면적별 매매가격지수\n",
    "- 주택종합 전용면적별 전세가격지수"
   ]
  },
  {
   "cell_type": "code",
   "execution_count": null,
   "metadata": {},
   "outputs": [],
   "source": [
    "params = {\n",
    "    \"월간주간구분코드\": \"01\",\n",
    "    \"매물종별구분\": \"98\",\n",
    "    \"면적별코드\": \"02\",\n",
    "    \"매매전세코드\": \"02\",\n",
    "    \"기간\": 1,\n",
    "}\n",
    "\n",
    "df = api.get_price_index_by_area(**params)\n",
    "df.tail()"
   ]
  },
  {
   "cell_type": "markdown",
   "metadata": {},
   "source": [
    "## 평균가격"
   ]
  },
  {
   "cell_type": "markdown",
   "metadata": {},
   "source": [
    "- 아파트 매매평균가격\n",
    "- 아파트 전세평균가격\n",
    "- 단독 매매평균가격\n",
    "- 단독 전세평균가격\n",
    "- 연립 매매평균가격\n",
    "- 연립 전세평균가격\n",
    "- 주택종합 매매평균가격\n",
    "- 주택종합 전세평균가격"
   ]
  },
  {
   "cell_type": "code",
   "execution_count": null,
   "metadata": {},
   "outputs": [],
   "source": [
    "params = {\n",
    "    \"매물종별구분\": \"98\",\n",
    "    \"매매전세코드\": \"02\",\n",
    "    \"기간\": 1,\n",
    "}\n",
    "\n",
    "df = api.get_average_price(**params)\n",
    "df.tail()"
   ]
  },
  {
   "cell_type": "markdown",
   "metadata": {},
   "source": [
    "## ㎡당 평균가격"
   ]
  },
  {
   "cell_type": "markdown",
   "metadata": {},
   "source": [
    "- 아파트 ㎡당 매매평균가격\n",
    "- 아파트 ㎡당 전세평균가격\n",
    "- 단독 ㎡당 매매평균가격\n",
    "- 단독 ㎡당 전세평균가격\n",
    "- 연립 ㎡당 매매평균가격\n",
    "- 연립 ㎡당 전세평균가격\n",
    "- 주택종합 ㎡당 매매평균가격\n",
    "- 주택종합 ㎡당 전세평균가격"
   ]
  },
  {
   "cell_type": "code",
   "execution_count": null,
   "metadata": {},
   "outputs": [],
   "source": [
    "params = {\n",
    "    \"매물종별구분\": \"98\",\n",
    "    \"매매전세코드\": \"02\",\n",
    "    \"기간\": 1,\n",
    "}\n",
    "\n",
    "df = api.get_average_price_per_squaremeter(**params)\n",
    "df.tail()"
   ]
  },
  {
   "cell_type": "markdown",
   "metadata": {},
   "source": [
    "## 5분위 평균가격"
   ]
  },
  {
   "cell_type": "markdown",
   "metadata": {},
   "source": [
    "- 아파트 5분위 매매평균가격\n",
    "- 아파트 5분위 전세평균가격\n",
    "- 주택종합 5분위 매매평균가격\n",
    "- 주택종합 5분위 전세평균가격\n",
    "- 아파트 ㎡당 5분위 매매평균가격\n",
    "- 아파트 ㎡당 5분위 전세평균가격"
   ]
  },
  {
   "cell_type": "code",
   "execution_count": null,
   "metadata": {},
   "outputs": [],
   "source": [
    "params = {\n",
    "    \"메뉴코드\": \"03\",\n",
    "    \"매매전세코드\": \"02\",\n",
    "    \"기간\": 1,\n",
    "}\n",
    "\n",
    "df = api.get_average_price_by_quintile(**params)\n",
    "df.tail()"
   ]
  },
  {
   "cell_type": "markdown",
   "metadata": {},
   "source": [
    "## 면적별 평균가격"
   ]
  },
  {
   "cell_type": "markdown",
   "metadata": {},
   "source": [
    "- 아파트 전용면적별 매매평균가격\n",
    "- 아파트 전용면적별 전세평균가격\n",
    "- 아파트 전용면적별(구) 매매평균가격\n",
    "- 아파트 전용면적별(구) 전세평균가격"
   ]
  },
  {
   "cell_type": "code",
   "execution_count": null,
   "metadata": {},
   "outputs": [],
   "source": [
    "params = {\n",
    "    \"매매전세코드\": \"01\",\n",
    "    \"면적별코드\": \"01\",\n",
    "    \"기간\": 1,\n",
    "}\n",
    "\n",
    "df = api.get_average_price_by_area(**params)\n",
    "df.tail()"
   ]
  },
  {
   "cell_type": "markdown",
   "metadata": {},
   "source": [
    "## 중위가격"
   ]
  },
  {
   "cell_type": "markdown",
   "metadata": {},
   "source": [
    "- 아파트 매매중위가격\n",
    "- 아파트 전세중위가격\n",
    "- 단독 매매중위가격\n",
    "- 단독 전세중위가격\n",
    "- 연립 매매중위가격\n",
    "- 연립 전세중위가격\n",
    "- 주택종합 매매중위가격\n",
    "- 주택종합 전세중위가격"
   ]
  },
  {
   "cell_type": "code",
   "execution_count": null,
   "metadata": {},
   "outputs": [],
   "source": [
    "params = {\n",
    "    \"매물종별구분\": \"01\",\n",
    "    \"매매전세코드\": \"02\",\n",
    "    \"기간\": 1,\n",
    "}\n",
    "\n",
    "df = api.get_median_price(**params)\n",
    "df.tail()"
   ]
  },
  {
   "cell_type": "markdown",
   "metadata": {},
   "source": [
    "## 소득연계"
   ]
  },
  {
   "cell_type": "markdown",
   "metadata": {},
   "source": [
    "- PIR\n",
    "- J-PIR"
   ]
  },
  {
   "cell_type": "code",
   "execution_count": null,
   "metadata": {},
   "outputs": [],
   "source": [
    "params = {\n",
    "    \"메뉴코드\": \"02\",\n",
    "}\n",
    "\n",
    "df = api.get_pir(**params)\n",
    "df.tail()"
   ]
  },
  {
   "cell_type": "markdown",
   "metadata": {},
   "source": [
    "- 주택구매력지수\n"
   ]
  },
  {
   "cell_type": "code",
   "execution_count": null,
   "metadata": {},
   "outputs": [],
   "source": [
    "params = {}\n",
    "\n",
    "df = api.get_hai(**params)\n",
    "df.tail()"
   ]
  },
  {
   "cell_type": "markdown",
   "metadata": {},
   "source": [
    "- (비노출) 중위가구월소득금액"
   ]
  },
  {
   "cell_type": "code",
   "execution_count": null,
   "metadata": {},
   "outputs": [],
   "source": [
    "df = api.get_median_household_monthly_income()\n",
    "df.tail()"
   ]
  },
  {
   "cell_type": "markdown",
   "metadata": {},
   "source": [
    "- KB주택구입잠재력지수\n"
   ]
  },
  {
   "cell_type": "code",
   "execution_count": null,
   "metadata": {},
   "outputs": [],
   "source": [
    "df = api.get_kb_housing_purchase_potential_index()\n",
    "df.tail()"
   ]
  },
  {
   "cell_type": "markdown",
   "metadata": {},
   "source": [
    "- KB아파트주택담보대출 PIR"
   ]
  },
  {
   "cell_type": "code",
   "execution_count": null,
   "metadata": {},
   "outputs": [],
   "source": [
    "df = api.get_apartment_mortgage_loan_pir()\n",
    "df.tail()"
   ]
  }
 ],
 "metadata": {
  "hide_input": false,
  "kernelspec": {
   "display_name": "Python 3 (ipykernel)",
   "language": "python",
   "name": "python3"
  },
  "language_info": {
   "codemirror_mode": {
    "name": "ipython",
    "version": 3
   },
   "file_extension": ".py",
   "mimetype": "text/x-python",
   "name": "python",
   "nbconvert_exporter": "python",
   "pygments_lexer": "ipython3",
   "version": "3.9.12"
  },
  "toc": {
   "base_numbering": 1,
   "nav_menu": {},
   "number_sections": true,
   "sideBar": true,
   "skip_h1_title": false,
   "title_cell": "Table of Contents",
   "title_sidebar": "Contents",
   "toc_cell": false,
   "toc_position": {
    "height": "calc(100% - 180px)",
    "left": "10px",
    "top": "150px",
    "width": "234.707px"
   },
   "toc_section_display": true,
   "toc_window_display": true
  },
  "varInspector": {
   "cols": {
    "lenName": 16,
    "lenType": 16,
    "lenVar": 40
   },
   "kernels_config": {
    "python": {
     "delete_cmd_postfix": "",
     "delete_cmd_prefix": "del ",
     "library": "var_list.py",
     "varRefreshCmd": "print(var_dic_list())"
    },
    "r": {
     "delete_cmd_postfix": ") ",
     "delete_cmd_prefix": "rm(",
     "library": "var_list.r",
     "varRefreshCmd": "cat(var_dic_list()) "
    }
   },
   "oldHeight": 237.13578,
   "position": {
    "height": "440.117px",
    "left": "491.674px",
    "right": "20px",
    "top": "85.9445px",
    "width": "613.965px"
   },
   "types_to_exclude": [
    "module",
    "function",
    "builtin_function_or_method",
    "instance",
    "_Feature"
   ],
   "varInspector_section_display": "block",
   "window_display": false
  },
  "vscode": {
   "interpreter": {
    "hash": "fcea6e6e55b259976681c8a35a3648f8ff7299129df47a05aebb6686c5e7010e"
   }
  }
 },
 "nbformat": 4,
 "nbformat_minor": 4
}
