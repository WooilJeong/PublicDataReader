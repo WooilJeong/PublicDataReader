{
 "cells": [
  {
   "cell_type": "code",
   "execution_count": null,
   "metadata": {
    "ExecuteTime": {
     "end_time": "2022-12-02T08:23:39.858809Z",
     "start_time": "2022-12-02T08:23:39.839859Z"
    }
   },
   "outputs": [],
   "source": [
    "import os\n",
    "import sys\n",
    "from pathlib import Path\n",
    "sys.path.append(str(Path(os.getcwd()).parent))"
   ]
  },
  {
   "cell_type": "code",
   "execution_count": null,
   "metadata": {},
   "outputs": [],
   "source": [
    "from config import API_KEY_INFO\n",
    "service_key = API_KEY_INFO.get(\"kosis\")"
   ]
  },
  {
   "attachments": {},
   "cell_type": "markdown",
   "metadata": {},
   "source": [
    "## 클래스 정의"
   ]
  },
  {
   "cell_type": "code",
   "execution_count": null,
   "metadata": {},
   "outputs": [],
   "source": [
    "import requests\n",
    "import urllib.parse\n",
    "import pandas as pd\n",
    "\n",
    "requests.packages.urllib3.disable_warnings()\n",
    "\n",
    "\n",
    "class Kosis:\n",
    "    \"\"\"KOSIS 공유서비스 클래스\n",
    "\n",
    "    KOSIS 공유서비스에서 발급받은 사용자 인증키를 입력받아 초기화합니다.\n",
    "\n",
    "    Parameters\n",
    "    ----------\n",
    "    service_key : str\n",
    "        KOSIS 공유서비스에서 발급받은 사용자 인증키\n",
    "    \"\"\"\n",
    "\n",
    "    def __init__(self, service_key=None):\n",
    "        self.service_key = service_key\n",
    "        self.meta_dict = {\n",
    "            \"KOSIS통합검색\": {\n",
    "                \"url\": \"https://kosis.kr/openapi/statisticsSearch.do?method=getList\",\n",
    "                \"columns\": ['ORG_ID', 'ORG_NM', 'TBL_ID', 'TBL_NM', 'STAT_ID', 'STAT_NM', 'VW_CD', 'MT_ATITLE', 'FULL_PATH_ID', 'CONTENTS', 'STRT_PRD_DE', 'END_PRD_DE', 'ITEM03', 'REC_TBL_SE', 'TBL_VIEW_URL', 'LINK_URL', 'STAT_DB_CNT', 'QUERY'],\n",
    "            },\n",
    "            \"통계설명\": {\n",
    "                \"url\": \"https://kosis.kr/openapi/statisticsExplData.do?method=getList\",\n",
    "                \"columns\": [ 'statsNm', 'statsKind', 'statsContinue', 'basisLaw', 'writingPurps', 'statsPeriod', 'writingSystem', 'pubExtent', 'pubPeriod', 'writingTel', 'statsField', 'examinObjrange', 'examinObjArea', 'josaUnit', 'applyGroup', 'josaItm', 'publictMth', 'examinTrgetPd', 'examinPd', 'dataUserNote', 'mainTermExpl', 'dataCollectMth', 'examinHistory', 'confmNo', 'confmDt', 'statsEnd',]\n",
    "            },\n",
    "            \"통계표설명\": {\n",
    "                \"url\": \"https://kosis.kr/openapi/statisticsData.do?method=getMeta\",\n",
    "                \"columns\": {\n",
    "                    \"통계표명칭\": ['TBL_NM', 'TBL_NM_ENG',],\n",
    "                    \"기관명칭\": ['ORG_NM', 'ORG_NM_ENG',],\n",
    "                    \"수록정보\": ['PRD_SE', 'STRT_PRD_DE', 'END_PRD_DE', 'PRD_DE',],\n",
    "                    \"분류항목\": ['ORG_ID', 'TBL_ID', 'CD_ID', 'CD_NM', 'OBJ_ID', 'OBJ_NM', 'OBJ_NM_ENG', 'ITM_ID', 'ITM_NM', 'ITM_NM_ENG', 'UP_ITM_ID', 'OBJ_ID_SN', 'UNIT_ID', 'UNIT_NM', 'UNIT_ENG_NM',],\n",
    "                    \"주석\": ['CMMT_NM', 'CMMT_DC', 'OBJ_ID', 'OBJ_NM', 'ITM_ID', 'ITM_NM', ],\n",
    "                    \"단위\": ['UNIT_NM', 'UNIT_NM_ENG',],\n",
    "                    \"출처\": ['JOSA_NM', 'DEPT_NM', 'DEPT_PHONE',],\n",
    "                    \"가중치\": ['C1', 'C1_NM', 'C2', 'C2_NM', 'C3', 'C3_NM', 'C4', 'C4_NM', 'C5', 'C5_NM', 'C6', 'C6_NM', 'C7', 'C7_NM', 'C8', 'C8_NM', 'ITM_ID', 'ITM_NM', 'WGT_CO',],\n",
    "                    \"자료갱신일\": ['ORG_NM', 'TBL_NM', 'PRD_SE', 'PRD_DE', 'SEND_DE',],\n",
    "                },\n",
    "            },\n",
    "            \"통계목록\": {\n",
    "                \"url\": \"https://kosis.kr/openapi/statisticsList.do?method=getList\",\n",
    "                \"columns\": ['VW_CD', 'VW_NM', 'LIST_ID', 'LIST_NM', 'ORG_ID', 'TBL_ID', 'TBL_NM', 'REC_TBL_SE']\n",
    "            },\n",
    "            \"통계자료\": {\n",
    "                \"url\": \"https://kosis.kr/openapi/Param/statisticsParameterData.do?method=getList\",\n",
    "                \"columns\": ['ORG_ID', 'TBL_ID', 'TBL_NM', 'C1_OBJ_NM', 'C1_OBJ_NM_ENG', 'C1_NM', 'C1_NM_ENG', 'C1', 'C2_OBJ_NM', 'C2_OBJ_NM_ENG', 'C2_NM', 'C2_NM_ENG', 'C2', 'C3_OBJ_NM', 'C3_OBJ_NM_ENG', 'C3_NM', 'C3_NM_ENG', 'C3', 'C4_OBJ_NM', 'C4_OBJ_NM_ENG', 'C4_NM', 'C4_NM_ENG', 'C4', 'C5_OBJ_NM', 'C5_OBJ_NM_ENG', 'C5_NM', 'C5_NM_ENG', 'C5', 'C6_OBJ_NM', 'C6_OBJ_NM_ENG', 'C6_NM', 'C6_NM_ENG', 'C6', 'C7_OBJ_NM', 'C7_OBJ_NM_ENG', 'C7_NM', 'C7_NM_ENG', 'C7', 'C8_OBJ_NM', 'C8_OBJ_NM_ENG', 'C8_NM', 'C8_NM_ENG', 'C8', 'ITM_ID', 'ITM_NM', 'ITM_NM_ENG', 'UNIT_ID', 'UNIT_NM', 'UNIT_NM_ENG', 'PRD_SE', 'PRD_DE', 'DT',]\n",
    "            },\n",
    "        }\n",
    "        self.type_dict = {\n",
    "            \"통계표명칭\": \"TBL\",\n",
    "            \"기관명칭\": \"ORG\",\n",
    "            \"수록정보\": \"PRD\",\n",
    "            \"분류항목\": \"ITM\",\n",
    "            \"주석\": \"CMMT\",\n",
    "            \"단위\": \"UNIT\",\n",
    "            \"출처\": \"SOURCE\",\n",
    "            \"가중치\": \"WGT\",\n",
    "            \"자료갱신일\": \"NCD\",\n",
    "        }\n",
    "\n",
    "\n",
    "    def get_data(self, \n",
    "                 service_name, \n",
    "                 detail_service_name=None, \n",
    "                 translate=True,\n",
    "                 **kwargs):\n",
    "        \"\"\"API 호출\n",
    "\n",
    "        KOSIS 공유서비스 API를 호출하여 데이터를 반환합니다.\n",
    "\n",
    "        Parameters\n",
    "        ----------\n",
    "        service_name : str\n",
    "            API 호출에 필요한 서비스명 (ex. KOSIS통합검색, 통계설명, 통계표설명, 통계목록, 통계자료)\n",
    "        detail_service_name : str\n",
    "            *통계표설명 서비스에만 적용됩니다.\n",
    "            API 호출에 필요한 상세 서비스명 (ex. 통계표명칭, 기관명칭, 수록정보, 분류항목, 주석, 단위, 출처, 가중치, 자료갱신일)\n",
    "        translate : bool\n",
    "            한글 컬럼명으로 변환 여부 (기본값: True)\n",
    "        **kwargs : dict\n",
    "            API 호출에 필요한 파라미터\n",
    "\n",
    "        Returns\n",
    "        -------\n",
    "        DataFrame\n",
    "            API 호출 결과를 DataFrame 형태로 반환합니다.\n",
    "        \"\"\"\n",
    "        try:\n",
    "            # 서비스명으로 API URL 선택 (ex. KOSIS통합검색, 통계설명, 통계표설명, 통계목록, 통계자료)\n",
    "            url = self.meta_dict.get(service_name).get(\"url\")\n",
    "            # 서비스명으로 API Columns 선택 (ex. KOSIS통합검색, 통계설명, 통계표설명, 통계목록, 통계자료)\n",
    "            if not service_name == \"통계표설명\":\n",
    "                columns = self.meta_dict.get(service_name).get(\"columns\")\n",
    "            else:\n",
    "                columns = self.meta_dict.get(service_name).get(\"columns\").get(detail_service_name)\n",
    "        except AttributeError:\n",
    "            raise AttributeError(\"서비스명을 확인해주세요. (ex. KOSIS통합검색, 통계설명, 통계표설명, 통계목록, 통계자료)\")\n",
    "\n",
    "        params = {\n",
    "            \"apiKey\": urllib.parse.unquote(self.service_key),\n",
    "            \"format\": \"json\",\n",
    "            \"jsonVD\": \"Y\",\n",
    "            \"jsonMVD\": \"Y\",\n",
    "        }\n",
    "        if service_name == \"통계표설명\" and detail_service_name:\n",
    "            # 상세 서비스명으로 파라미터 추가 (ex. 통계표명칭, 기관명칭, 수록정보, 분류항목, 주석, 단위, 출처, 가중치, 자료갱신일)\n",
    "            params[\"type\"] = self.type_dict.get(detail_service_name)\n",
    "        params.update(kwargs)\n",
    "\n",
    "        # 빈 데이터 프레임 생성\n",
    "        df = pd.DataFrame(columns=columns)\n",
    "\n",
    "        try:\n",
    "            # API 요청\n",
    "            res = requests.get(url, params=params, verify=False)\n",
    "            # API 응답 결과를 JSON 형태로 변환\n",
    "            res_json = res.json()\n",
    "        except Exception as e:\n",
    "            print(\"API 요청이 실패했습니다.\")\n",
    "            print(e)\n",
    "            return None\n",
    "\n",
    "        try:\n",
    "            if type(res_json) == dict:\n",
    "                if res_json.get(\"errMsg\"):\n",
    "                    print(res_json.get(\"errMsg\"))\n",
    "                    return None\n",
    "            else:\n",
    "                sub = pd.DataFrame(res_json)\n",
    "                df = pd.concat([df, sub], axis=0, ignore_index=True).dropna(axis=1, how=\"all\")\n",
    "            if translate:\n",
    "                df = self.translate_columns(df, service_name, detail_service_name)\n",
    "            return df\n",
    "        except:\n",
    "            print(\"Data Frame Failed!\")\n",
    "            return None\n",
    "\n",
    "    def translate_columns(self, df, service_name, detail_service_name=None):\n",
    "        \"\"\"\n",
    "        영문 컬럼명을 한글로 변경\n",
    "        \"\"\"\n",
    "        rename_columns = {\n",
    "            \"KOSIS통합검색\": {\n",
    "                'ORG_ID': '기관ID',\n",
    "                'ORG_NM': '기관명',\n",
    "                'TBL_ID': '통계표ID',\n",
    "                'TBL_NM': '통계표명',\n",
    "                'STAT_ID': '조사ID',\n",
    "                'STAT_NM': '조사명',\n",
    "                'VW_CD': 'KOSIS목록구분',\n",
    "                'MT_ATITLE': 'KOSIS통계표위치',\n",
    "                'FULL_PATH_ID': '통계표위치',\n",
    "                'CONTENTS': '통계표주요내용',\n",
    "                'STRT_PRD_DE': '수록기간시작일',\n",
    "                'END_PRD_DE': '수록기간종료일',\n",
    "                'ITEM03': '통계표주석',\n",
    "                'REC_TBL_SE': '추천통계표여부',\n",
    "                'TBL_VIEW_URL': 'KOSIS목록URL',\n",
    "                'LINK_URL': 'KOSIS통계표URL',\n",
    "                'STAT_DB_CNT': '검색결과건수',\n",
    "                'QUERY': '검색어명',\n",
    "            },\n",
    "            \"통계설명\": {\n",
    "                'statsNm': '조사명',\n",
    "                'statsKind': '통계종류',\n",
    "                'statsContinue': '계속여부',\n",
    "                'basisLaw': '법적근거',\n",
    "                'writingPurps': '조사목적',\n",
    "                'statsPeriod': '조사주기',\n",
    "                'writingSystem': '조사체계',\n",
    "                'pubExtent': '공표범위',\n",
    "                'pubPeriod': '공표주기',\n",
    "                'writingTel': '연락처',\n",
    "                'statsField': '통계활용분야실태',\n",
    "                'examinObjrange': '조사대상범위',\n",
    "                'examinObjArea': '조사대상지역',\n",
    "                'josaUnit': '조사단위및조사대상규모',\n",
    "                'applyGroup': '적용분류',\n",
    "                'josaItm': '조사항목',\n",
    "                'publictMth': '공표방법및URL',\n",
    "                'examinTrgetPd': '조사대상기간및조사기준시점',\n",
    "                'examinPd': '조사기간',\n",
    "                'dataUserNote': '자료이용자유의사항',\n",
    "                'mainTermExpl': '주요용어해설',\n",
    "                'dataCollectMth': '자료수집방법',\n",
    "                'examinHistory': '조사연혁',\n",
    "                'confmNo': '승인번호',\n",
    "                'confmDt': '승인일자',\n",
    "                'statsEnd': '통계종료',\n",
    "            },\n",
    "            \"통계표설명\": {\n",
    "                \"통계표명칭\": {\n",
    "                    'TBL_NM': '통계표명', \n",
    "                    'TBL_NM_ENG': '통계표영문명',\n",
    "                },\n",
    "                \"기관명칭\": {\n",
    "                    'ORG_NM': '기관명', \n",
    "                    'ORG_NM_ENG': '기관영문명',\n",
    "                },\n",
    "                \"수록정보\": {\n",
    "                    'PRD_SE': '수록주기', \n",
    "                    'STRT_PRD_DE': '수록기간시작일', \n",
    "                    'END_PRD_DE': '수록기간종료일', \n",
    "                    'PRD_DE': '수록시점',\n",
    "                },\n",
    "                \"분류항목\": {\n",
    "                    'ORG_ID': '기관ID', \n",
    "                    'TBL_ID': '통계표ID', \n",
    "                    'CD_ID': '코드ID', \n",
    "                    'CD_NM': '코드명', \n",
    "                    'OBJ_ID': '분류ID', \n",
    "                    'OBJ_NM': '분류명', \n",
    "                    'OBJ_NM_ENG': '분류영문명', \n",
    "                    'ITM_ID': '분류값ID',\n",
    "                    'ITM_NM': '분류값명', \n",
    "                    'ITM_NM_ENG': '분류값영문명', \n",
    "                    'UP_ITM_ID': '상위분류값ID', \n",
    "                    'OBJ_ID_SN': '분류값순번', \n",
    "                    'UNIT_ID': '단위ID', \n",
    "                    'UNIT_NM': '단위명', \n",
    "                    'UNIT_ENG_NM': '단위영문명',\n",
    "                },\n",
    "                \"주석\": {\n",
    "                    'CMMT_NM': '주석유형', \n",
    "                    'CMMT_DC': '주석', \n",
    "                    'OBJ_ID': '분류ID', \n",
    "                    'OBJ_NM': '분류명', \n",
    "                    'ITM_ID': '분류값ID', \n",
    "                    'ITM_NM': '분류값명', \n",
    "                },\n",
    "                \"단위\": {\n",
    "                    'UNIT_NM': '단위명', \n",
    "                    'UNIT_NM_ENG': '단위영문명',\n",
    "                },\n",
    "                \"출처\": {\n",
    "                    'JOSA_NM': '조사명', \n",
    "                    'DEPT_NM': '통계표담당부서', \n",
    "                    'DEPT_PHONE': '통계표담당부서전화번호',\n",
    "                },\n",
    "                \"가중치\": {\n",
    "                    'C1': '분류값ID1', \n",
    "                    'C1_NM': '분류값명1', \n",
    "                    'C2': '분류값ID2', \n",
    "                    'C2_NM': '분류값명2', \n",
    "                    'C3': '분류값ID3', \n",
    "                    'C3_NM': '분류값명3', \n",
    "                    'C4': '분류값ID4', \n",
    "                    'C4_NM': '분류값명4', \n",
    "                    'C5': '분류값ID5', \n",
    "                    'C5_NM': '분류값명5', \n",
    "                    'C6': '분류값ID6', \n",
    "                    'C6_NM': '분류값명6', \n",
    "                    'C7': '분류값ID7', \n",
    "                    'C7_NM': '분류값명7', \n",
    "                    'C8': '분류값ID8', \n",
    "                    'C8_NM': '분류값명8', \n",
    "                    'ITM_ID': '항목ID', \n",
    "                    'ITM_NM': '항목명', \n",
    "                    'WGT_CO': '가중치',\n",
    "                },\n",
    "                \"자료갱신일\": {\n",
    "                    'ORG_NM': '기관명', \n",
    "                    'TBL_NM': '통계표명', \n",
    "                    'PRD_SE': '수록주기', \n",
    "                    'PRD_DE': '수록시점', \n",
    "                    'SEND_DE': '자료갱신일',\n",
    "                },\n",
    "            },\n",
    "            \"통계목록\": {\n",
    "                'VW_CD': '서비스뷰ID',\n",
    "                'VW_NM': '서비스뷰명',\n",
    "                'LIST_ID': '목록ID',\n",
    "                'LIST_NM': '목록명',\n",
    "                'ORG_ID': '기관ID',\n",
    "                'TBL_ID': '통계표ID',\n",
    "                'TBL_NM': '통계표명',\n",
    "                'REC_TBL_SE': '추천통계표여부',\n",
    "            },\n",
    "            \"통계자료\": {\n",
    "                'ORG_ID': '기관ID',\n",
    "                'TBL_ID': '통계표ID',\n",
    "                'TBL_NM': '통계표명',\n",
    "                'C1_OBJ_NM': '분류명1',\n",
    "                'C1_OBJ_NM_ENG': '분류영문명1',\n",
    "                'C1_NM': '분류값명1',\n",
    "                'C1_NM_ENG': '분류값영문명1',\n",
    "                'C1': '분류값ID1',\n",
    "                'C2_OBJ_NM': '분류명2',\n",
    "                'C2_OBJ_NM_ENG': '분류영문명2',\n",
    "                'C2_NM': '분류값명2',\n",
    "                'C2_NM_ENG': '분류값영문명2',\n",
    "                'C2': '분류값ID2',\n",
    "                'C3_OBJ_NM': '분류명3',\n",
    "                'C3_OBJ_NM_ENG': '분류영문명3',\n",
    "                'C3_NM': '분류값명3',\n",
    "                'C3_NM_ENG': '분류값영문명3',\n",
    "                'C3': '분류값ID3',\n",
    "                'C4_OBJ_NM': '분류명4',\n",
    "                'C4_OBJ_NM_ENG': '분류영문명4',\n",
    "                'C4_NM': '분류값명4',\n",
    "                'C4_NM_ENG': '분류값영문명4',\n",
    "                'C4': '분류값ID4',\n",
    "                'C5_OBJ_NM': '분류명5',\n",
    "                'C5_OBJ_NM_ENG': '분류영문명5',\n",
    "                'C5_NM': '분류값명5',\n",
    "                'C5_NM_ENG': '분류값영문명5',\n",
    "                'C5': '분류값ID5',\n",
    "                'C6_OBJ_NM': '분류명6',\n",
    "                'C6_OBJ_NM_ENG': '분류영문명6',\n",
    "                'C6_NM': '분류값명6',\n",
    "                'C6_NM_ENG': '분류값영문명6',\n",
    "                'C6': '분류값ID6',\n",
    "                'C7_OBJ_NM': '분류명7',\n",
    "                'C7_OBJ_NM_ENG': '분류영문명7',\n",
    "                'C7_NM': '분류값명7',\n",
    "                'C7_NM_ENG': '분류값영문명7',\n",
    "                'C7': '분류값ID7',\n",
    "                'C8_OBJ_NM': '분류명8',\n",
    "                'C8_OBJ_NM_ENG': '분류영문명8',\n",
    "                'C8_NM': '분류값명8',\n",
    "                'C8_NM_ENG': '분류값영문명8',\n",
    "                'C8': '분류값ID8',\n",
    "                'ITM_ID': '항목ID',\n",
    "                'ITM_NM': '항목명',\n",
    "                'ITM_NM_ENG': '항목영문명',\n",
    "                'UNIT_ID': '단위ID',\n",
    "                'UNIT_NM': '단위명',\n",
    "                'UNIT_NM_ENG': '단위영문명',\n",
    "                'PRD_SE': '수록주기',\n",
    "                'PRD_DE': '수록시점',\n",
    "                'DT': '수치값',\n",
    "            },\n",
    "        }\n",
    "        try:\n",
    "            if service_name == \"통계표설명\" and detail_service_name:\n",
    "                rename_columns = rename_columns.get(service_name).get(detail_service_name)\n",
    "            else:\n",
    "                rename_columns = rename_columns.get(service_name)\n",
    "        except AttributeError:\n",
    "            raise AttributeError(\"서비스명을 확인해주세요. (ex. KOSIS통합검색, 통계설명, 통계표설명, 통계목록, 통계자료)\")\n",
    "\n",
    "        return df.rename(columns=rename_columns)\n"
   ]
  },
  {
   "attachments": {},
   "cell_type": "markdown",
   "metadata": {},
   "source": [
    "## 인스턴스 생성"
   ]
  },
  {
   "cell_type": "code",
   "execution_count": null,
   "metadata": {},
   "outputs": [],
   "source": [
    "api = Kosis(service_key)"
   ]
  },
  {
   "attachments": {},
   "cell_type": "markdown",
   "metadata": {},
   "source": [
    "- KOSIS통합검색"
   ]
  },
  {
   "cell_type": "code",
   "execution_count": null,
   "metadata": {},
   "outputs": [],
   "source": [
    "df1 = api.get_data(\n",
    "    \"KOSIS통합검색\",\n",
    "    searchNm=\"미분양 현황\",\n",
    "    )\n",
    "df1.head(1)"
   ]
  },
  {
   "attachments": {},
   "cell_type": "markdown",
   "metadata": {},
   "source": [
    "- 통계설명"
   ]
  },
  {
   "cell_type": "code",
   "execution_count": null,
   "metadata": {},
   "outputs": [],
   "source": [
    "df2 = api.get_data(\n",
    "    \"통계설명\",\n",
    "    orgId = \"116\",\n",
    "    tblId = \"DT_MLTM_2086\",\n",
    "    metaItm = \"ALL\",\n",
    "    )\n",
    "df2.head(1)"
   ]
  },
  {
   "attachments": {},
   "cell_type": "markdown",
   "metadata": {},
   "source": [
    "## 통계표설명"
   ]
  },
  {
   "attachments": {},
   "cell_type": "markdown",
   "metadata": {},
   "source": [
    "### 통계표 명칭"
   ]
  },
  {
   "cell_type": "code",
   "execution_count": null,
   "metadata": {},
   "outputs": [],
   "source": [
    "df3_1 = api.get_data(\n",
    "    \"통계표설명\",\n",
    "    \"통계표명칭\",\n",
    "    orgId = \"116\",\n",
    "    tblId = \"DT_MLTM_2086\",\n",
    "    )\n",
    "df3_1.head(1)"
   ]
  },
  {
   "attachments": {},
   "cell_type": "markdown",
   "metadata": {},
   "source": [
    "### 기관명칭"
   ]
  },
  {
   "cell_type": "code",
   "execution_count": null,
   "metadata": {},
   "outputs": [],
   "source": [
    "df3_2 = api.get_data(\n",
    "    \"통계표설명\",\n",
    "    \"기관명칭\",\n",
    "    orgId = \"116\",\n",
    "    tblId = \"DT_MLTM_2086\",\n",
    "    )\n",
    "df3_2.head(1)"
   ]
  },
  {
   "attachments": {},
   "cell_type": "markdown",
   "metadata": {},
   "source": [
    "### 수록정보"
   ]
  },
  {
   "cell_type": "code",
   "execution_count": null,
   "metadata": {},
   "outputs": [],
   "source": [
    "df3_3 = api.get_data(\n",
    "    \"통계표설명\",\n",
    "    \"수록정보\",\n",
    "    # orgId = \"116\",\n",
    "    # tblId = \"DT_MLTM_2086\",\n",
    "    orgId = \"101\",\n",
    "    tblId = \"DT_1IN0001\",\n",
    "    # detail = \"Y\",\n",
    "    )\n",
    "df3_3"
   ]
  },
  {
   "attachments": {},
   "cell_type": "markdown",
   "metadata": {},
   "source": [
    "### 분류항목"
   ]
  },
  {
   "cell_type": "code",
   "execution_count": null,
   "metadata": {},
   "outputs": [],
   "source": [
    "df3_4 = api.get_data(\n",
    "    \"통계표설명\",\n",
    "    \"분류항목\",\n",
    "    orgId = \"116\",\n",
    "    tblId = \"DT_MLTM_2086\",\n",
    "    )\n",
    "df3_4.head(1)"
   ]
  },
  {
   "attachments": {},
   "cell_type": "markdown",
   "metadata": {},
   "source": [
    "### 주석"
   ]
  },
  {
   "cell_type": "code",
   "execution_count": null,
   "metadata": {},
   "outputs": [],
   "source": [
    "df3_5 = api.get_data(\n",
    "    \"통계표설명\",\n",
    "    \"주석\",\n",
    "    orgId = \"116\",\n",
    "    tblId = \"DT_MLTM_2086\",\n",
    "    )\n",
    "df3_5.head(1)"
   ]
  },
  {
   "attachments": {},
   "cell_type": "markdown",
   "metadata": {},
   "source": [
    "### 단위"
   ]
  },
  {
   "cell_type": "code",
   "execution_count": null,
   "metadata": {},
   "outputs": [],
   "source": [
    "df3_6 = api.get_data(\n",
    "    \"통계표설명\",\n",
    "    \"단위\",\n",
    "    orgId = \"116\",\n",
    "    tblId = \"DT_MLTM_2086\",\n",
    "    )\n",
    "df3_6.head(1)"
   ]
  },
  {
   "attachments": {},
   "cell_type": "markdown",
   "metadata": {},
   "source": [
    "### 출처"
   ]
  },
  {
   "cell_type": "code",
   "execution_count": null,
   "metadata": {},
   "outputs": [],
   "source": [
    "df3_7 = api.get_data(\n",
    "    \"통계표설명\",\n",
    "    \"출처\",\n",
    "    orgId = \"116\",\n",
    "    tblId = \"DT_MLTM_2086\",\n",
    "    )\n",
    "df3_7"
   ]
  },
  {
   "attachments": {},
   "cell_type": "markdown",
   "metadata": {},
   "source": [
    "### 가중치"
   ]
  },
  {
   "cell_type": "code",
   "execution_count": null,
   "metadata": {},
   "outputs": [],
   "source": [
    "df3_8 = api.get_data(\n",
    "    \"통계표설명\",\n",
    "    \"가중치\",\n",
    "    orgId = \"116\",\n",
    "    tblId = \"DT_MLTM_2086\",\n",
    "    )\n",
    "df3_8"
   ]
  },
  {
   "attachments": {},
   "cell_type": "markdown",
   "metadata": {},
   "source": [
    "### 자료갱신일"
   ]
  },
  {
   "cell_type": "code",
   "execution_count": null,
   "metadata": {},
   "outputs": [],
   "source": [
    "df3_9 = api.get_data(\n",
    "    \"통계표설명\",\n",
    "    \"자료갱신일\",\n",
    "    orgId = \"116\",\n",
    "    tblId = \"DT_MLTM_2086\",\n",
    "    )\n",
    "df3_9.head(1)"
   ]
  },
  {
   "attachments": {},
   "cell_type": "markdown",
   "metadata": {},
   "source": [
    "## 통계목록"
   ]
  },
  {
   "cell_type": "code",
   "execution_count": null,
   "metadata": {},
   "outputs": [],
   "source": [
    "df4 = api.get_data(\n",
    "    \"통계목록\",\n",
    "    vwCd = \"MT_OTITLE\",\n",
    "    parentListId = \"110_20103\",\n",
    "    )\n",
    "df4.head(1)"
   ]
  },
  {
   "attachments": {},
   "cell_type": "markdown",
   "metadata": {},
   "source": [
    "## 통계자료"
   ]
  },
  {
   "cell_type": "code",
   "execution_count": null,
   "metadata": {},
   "outputs": [],
   "source": [
    "df5 = api.get_data(\n",
    "    \"통계자료\",\n",
    "    orgId = \"116\",\n",
    "    tblId = \"DT_MLTM_2086\",\n",
    "    itmId = \"ALL\",\n",
    "    objL1 = \"ALL\",\n",
    "    objL2 = \"ALL\",\n",
    "    prdSe = \"Y\",\n",
    "    startPrdeDe = \"2021\",\n",
    "    endPrdDe = \"2021\",\n",
    "    )\n",
    "df5.head(1)"
   ]
  }
 ],
 "metadata": {
  "hide_input": false,
  "kernelspec": {
   "display_name": "venv",
   "language": "python",
   "name": "python3"
  },
  "language_info": {
   "codemirror_mode": {
    "name": "ipython",
    "version": 3
   },
   "file_extension": ".py",
   "mimetype": "text/x-python",
   "name": "python",
   "nbconvert_exporter": "python",
   "pygments_lexer": "ipython3",
   "version": "3.9.12"
  },
  "toc": {
   "base_numbering": 1,
   "nav_menu": {},
   "number_sections": true,
   "sideBar": true,
   "skip_h1_title": false,
   "title_cell": "Table of Contents",
   "title_sidebar": "Contents",
   "toc_cell": false,
   "toc_position": {
    "height": "calc(100% - 180px)",
    "left": "10px",
    "top": "150px",
    "width": "234.707px"
   },
   "toc_section_display": true,
   "toc_window_display": true
  },
  "varInspector": {
   "cols": {
    "lenName": 16,
    "lenType": 16,
    "lenVar": 40
   },
   "kernels_config": {
    "python": {
     "delete_cmd_postfix": "",
     "delete_cmd_prefix": "del ",
     "library": "var_list.py",
     "varRefreshCmd": "print(var_dic_list())"
    },
    "r": {
     "delete_cmd_postfix": ") ",
     "delete_cmd_prefix": "rm(",
     "library": "var_list.r",
     "varRefreshCmd": "cat(var_dic_list()) "
    }
   },
   "oldHeight": 237.13578,
   "position": {
    "height": "440.117px",
    "left": "491.674px",
    "right": "20px",
    "top": "85.9445px",
    "width": "613.965px"
   },
   "types_to_exclude": [
    "module",
    "function",
    "builtin_function_or_method",
    "instance",
    "_Feature"
   ],
   "varInspector_section_display": "block",
   "window_display": false
  },
  "vscode": {
   "interpreter": {
    "hash": "fcea6e6e55b259976681c8a35a3648f8ff7299129df47a05aebb6686c5e7010e"
   }
  }
 },
 "nbformat": 4,
 "nbformat_minor": 4
}
