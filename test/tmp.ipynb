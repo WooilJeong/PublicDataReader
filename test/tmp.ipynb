{
 "cells": [
  {
   "cell_type": "code",
   "execution_count": 1,
   "metadata": {},
   "outputs": [],
   "source": [
    "import os\n",
    "import sys\n",
    "from pathlib import Path\n",
    "sys.path.append(str(Path(os.getcwd()).parent))"
   ]
  },
  {
   "cell_type": "code",
   "execution_count": 12,
   "metadata": {},
   "outputs": [],
   "source": [
    "import time\n",
    "import datetime\n",
    "import requests\n",
    "import xmltodict\n",
    "import requests\n",
    "import pandas as pd\n",
    "pd.set_option('display.max_columns', None)\n",
    "\n",
    "from config import API_KEY_INFO\n",
    "service_key = API_KEY_INFO.get(\"portal\")"
   ]
  },
  {
   "cell_type": "markdown",
   "metadata": {},
   "source": [
    "## 건축물대장, 건축인허가, 주택인허가, 건축소유자"
   ]
  },
  {
   "cell_type": "code",
   "execution_count": 3,
   "metadata": {},
   "outputs": [],
   "source": [
    "# from PublicDataReader import BuildingLedger, BuildingLicense, HousingLicense\n",
    "\n",
    "# api_1 = BuildingLedger(service_key)"
   ]
  },
  {
   "cell_type": "code",
   "execution_count": 7,
   "metadata": {},
   "outputs": [],
   "source": [
    "# from PublicDataReader import BuildingLedger, BuildingLicense, HousingLicense\n",
    "\n",
    "self = BuildingLedger(service_key)"
   ]
  },
  {
   "cell_type": "code",
   "execution_count": null,
   "metadata": {},
   "outputs": [],
   "source": [
    "df_1 = api_1.get_data(\n",
    "    ledger_type=\"총괄표제부\", \n",
    "    sigungu_code=\"41135\", \n",
    "    bdong_code=\"11000\", \n",
    "    bun=\"542\", \n",
    "    ji=\"\",\n",
    ")"
   ]
  },
  {
   "cell_type": "markdown",
   "metadata": {},
   "source": [
    "## 실거래가 인스턴스 생성"
   ]
  },
  {
   "cell_type": "code",
   "execution_count": null,
   "metadata": {},
   "outputs": [],
   "source": [
    "from PublicDataReader import TransactionPrice\n",
    "self = TransactionPrice(service_key)"
   ]
  },
  {
   "cell_type": "code",
   "execution_count": null,
   "metadata": {},
   "outputs": [],
   "source": [
    "# 기간 내 조회\n",
    "df = self.get_data(\n",
    "    property_type=\"아파트\",\n",
    "    trade_type=\"매매\",\n",
    "    sigungu_code=\"11650\",\n",
    "    start_year_month=\"202501\",\n",
    "    end_year_month=\"202502\",\n",
    ")\n",
    "\n",
    "df.tail(1)"
   ]
  },
  {
   "cell_type": "code",
   "execution_count": null,
   "metadata": {},
   "outputs": [],
   "source": [
    "# 기간 내 조회\n",
    "df = self.get_data(\n",
    "    property_type=\"아파트\",\n",
    "    trade_type=\"전월세\",\n",
    "    sigungu_code=\"11650\",\n",
    "    start_year_month=\"202501\",\n",
    "    end_year_month=\"202502\",\n",
    ")\n",
    "\n",
    "df.tail(1)"
   ]
  },
  {
   "cell_type": "code",
   "execution_count": null,
   "metadata": {},
   "outputs": [],
   "source": [
    "# 기간 내 조회\n",
    "df = self.get_data(\n",
    "    property_type=\"분양입주권\",\n",
    "    trade_type=\"매매\",\n",
    "    sigungu_code=\"11650\",\n",
    "    start_year_month=\"202201\",\n",
    "    end_year_month=\"202212\",\n",
    ")\n",
    "\n",
    "df.tail(1)"
   ]
  },
  {
   "cell_type": "code",
   "execution_count": null,
   "metadata": {},
   "outputs": [],
   "source": [
    "# 기간 내 조회\n",
    "df = self.get_data(\n",
    "    property_type=\"오피스텔\",\n",
    "    trade_type=\"매매\",\n",
    "    sigungu_code=\"11650\",\n",
    "    year_month=\"202212\",\n",
    ")\n",
    "\n",
    "df.tail(1)"
   ]
  },
  {
   "cell_type": "code",
   "execution_count": null,
   "metadata": {},
   "outputs": [],
   "source": [
    "# 기간 내 조회\n",
    "df = self.get_data(\n",
    "    property_type=\"오피스텔\",\n",
    "    trade_type=\"전월세\",\n",
    "    sigungu_code=\"11650\",\n",
    "    year_month=\"202212\",\n",
    ")\n",
    "\n",
    "df.tail(1)"
   ]
  },
  {
   "cell_type": "code",
   "execution_count": null,
   "metadata": {},
   "outputs": [],
   "source": [
    "# 기간 내 조회\n",
    "df = self.get_data(\n",
    "    property_type=\"연립다세대\",\n",
    "    trade_type=\"매매\",\n",
    "    sigungu_code=\"11650\",\n",
    "    year_month=\"202212\",\n",
    ")\n",
    "\n",
    "df.tail(1)"
   ]
  },
  {
   "cell_type": "code",
   "execution_count": null,
   "metadata": {},
   "outputs": [],
   "source": [
    "# 기간 내 조회\n",
    "df = self.get_data(\n",
    "    property_type=\"연립다세대\",\n",
    "    trade_type=\"전월세\",\n",
    "    sigungu_code=\"11650\",\n",
    "    year_month=\"202212\",\n",
    ")\n",
    "\n",
    "df.tail(1)"
   ]
  },
  {
   "cell_type": "code",
   "execution_count": null,
   "metadata": {},
   "outputs": [],
   "source": [
    "# 기간 내 조회\n",
    "df = self.get_data(\n",
    "    property_type=\"단독다가구\",\n",
    "    trade_type=\"매매\",\n",
    "    sigungu_code=\"11650\",\n",
    "    year_month=\"202212\",\n",
    ")\n",
    "\n",
    "df.tail(1)"
   ]
  },
  {
   "cell_type": "code",
   "execution_count": null,
   "metadata": {},
   "outputs": [],
   "source": [
    "# 기간 내 조회\n",
    "df = self.get_data(\n",
    "    property_type=\"단독다가구\",\n",
    "    trade_type=\"전월세\",\n",
    "    sigungu_code=\"11650\",\n",
    "    year_month=\"202212\",\n",
    ")\n",
    "\n",
    "df.tail(1)"
   ]
  },
  {
   "cell_type": "code",
   "execution_count": null,
   "metadata": {},
   "outputs": [],
   "source": [
    "# 기간 내 조회\n",
    "df = self.get_data(\n",
    "    property_type=\"토지\",\n",
    "    trade_type=\"매매\",\n",
    "    sigungu_code=\"11650\",\n",
    "    year_month=\"202212\",\n",
    ")\n",
    "\n",
    "df.tail(1)"
   ]
  },
  {
   "cell_type": "code",
   "execution_count": null,
   "metadata": {},
   "outputs": [],
   "source": [
    "# 기간 내 조회\n",
    "df = self.get_data(\n",
    "    property_type=\"상업업무용\",\n",
    "    trade_type=\"매매\",\n",
    "    sigungu_code=\"11650\",\n",
    "    year_month=\"202212\",\n",
    ")\n",
    "\n",
    "df.tail(1)"
   ]
  },
  {
   "cell_type": "code",
   "execution_count": null,
   "metadata": {},
   "outputs": [],
   "source": [
    "# 기간 내 조회\n",
    "df = self.get_data(\n",
    "    property_type=\"공장창고등\",\n",
    "    trade_type=\"매매\",\n",
    "    sigungu_code=\"11650\",\n",
    "    year_month=\"202212\",\n",
    ")\n",
    "df.tail(1)"
   ]
  },
  {
   "cell_type": "code",
   "execution_count": null,
   "metadata": {},
   "outputs": [],
   "source": []
  },
  {
   "cell_type": "code",
   "execution_count": null,
   "metadata": {},
   "outputs": [],
   "source": []
  },
  {
   "cell_type": "code",
   "execution_count": null,
   "metadata": {},
   "outputs": [],
   "source": []
  },
  {
   "cell_type": "code",
   "execution_count": null,
   "metadata": {},
   "outputs": [],
   "source": []
  },
  {
   "cell_type": "code",
   "execution_count": null,
   "metadata": {},
   "outputs": [],
   "source": []
  },
  {
   "cell_type": "code",
   "execution_count": null,
   "metadata": {},
   "outputs": [],
   "source": []
  }
 ],
 "metadata": {
  "hide_input": false,
  "kernelspec": {
   "display_name": "Python (pdr)",
   "language": "python",
   "name": "pdr"
  },
  "language_info": {
   "codemirror_mode": {
    "name": "ipython",
    "version": 3
   },
   "file_extension": ".py",
   "mimetype": "text/x-python",
   "name": "python",
   "nbconvert_exporter": "python",
   "pygments_lexer": "ipython3",
   "version": "3.9.19"
  },
  "toc": {
   "base_numbering": 1,
   "nav_menu": {},
   "number_sections": true,
   "sideBar": true,
   "skip_h1_title": false,
   "title_cell": "Table of Contents",
   "title_sidebar": "Contents",
   "toc_cell": false,
   "toc_position": {},
   "toc_section_display": true,
   "toc_window_display": false
  },
  "vscode": {
   "interpreter": {
    "hash": "fcea6e6e55b259976681c8a35a3648f8ff7299129df47a05aebb6686c5e7010e"
   }
  }
 },
 "nbformat": 4,
 "nbformat_minor": 4
}
