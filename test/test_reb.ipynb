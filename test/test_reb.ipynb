{
 "cells": [
  {
   "cell_type": "code",
   "execution_count": null,
   "metadata": {
    "ExecuteTime": {
     "end_time": "2022-12-02T08:23:39.858809Z",
     "start_time": "2022-12-02T08:23:39.839859Z"
    }
   },
   "outputs": [],
   "source": [
    "import os\n",
    "import sys\n",
    "from pathlib import Path\n",
    "sys.path.append(str(Path(os.getcwd()).parent))"
   ]
  },
  {
   "cell_type": "code",
   "execution_count": null,
   "metadata": {},
   "outputs": [],
   "source": [
    "from config import API_KEY_INFO\n",
    "service_key = API_KEY_INFO.get(\"portal\")"
   ]
  },
  {
   "cell_type": "code",
   "execution_count": null,
   "metadata": {},
   "outputs": [],
   "source": [
    "from PublicDataReader import Reb"
   ]
  },
  {
   "cell_type": "markdown",
   "metadata": {},
   "source": [
    "## 인스턴스 생성"
   ]
  },
  {
   "cell_type": "code",
   "execution_count": null,
   "metadata": {},
   "outputs": [],
   "source": [
    "api = Reb(service_key)"
   ]
  },
  {
   "cell_type": "markdown",
   "metadata": {},
   "source": [
    "## 분양정보"
   ]
  },
  {
   "cell_type": "code",
   "execution_count": null,
   "metadata": {},
   "outputs": [],
   "source": [
    "service_name = \"분양정보\"\n",
    "\n",
    "category_list = list(api.meta_dict[service_name].keys())\n",
    "it = iter(category_list)\n",
    "print(f\"{service_name} 카테고리 목록\")\n",
    "print(\", \".join(category_list))"
   ]
  },
  {
   "cell_type": "code",
   "execution_count": null,
   "metadata": {},
   "outputs": [],
   "source": [
    "category_name = next(it)\n",
    "print(f\"카테고리명: {category_name}\")\n",
    "\n",
    "df = api.get_data(\n",
    "    service_name, \n",
    "    category_name,\n",
    "    verbose=True,\n",
    "    )\n",
    "df.tail(1)"
   ]
  },
  {
   "cell_type": "markdown",
   "metadata": {},
   "source": [
    "## 청약경쟁률"
   ]
  },
  {
   "cell_type": "code",
   "execution_count": null,
   "metadata": {},
   "outputs": [],
   "source": [
    "service_name = \"청약경쟁률\"\n",
    "\n",
    "category_list = list(api.meta_dict[service_name].keys())\n",
    "it = iter(category_list)\n",
    "print(f\"{service_name} 카테고리 목록\")\n",
    "print(\", \".join(category_list))"
   ]
  },
  {
   "cell_type": "code",
   "execution_count": null,
   "metadata": {},
   "outputs": [],
   "source": [
    "category_name = next(it)\n",
    "print(f\"카테고리명: {category_name}\")\n",
    "\n",
    "df = api.get_data(\n",
    "    service_name, \n",
    "    category_name,\n",
    "    verbose=True,\n",
    "    )\n",
    "df.tail(1)"
   ]
  },
  {
   "cell_type": "markdown",
   "metadata": {},
   "source": [
    "## 청약당첨정보"
   ]
  },
  {
   "cell_type": "code",
   "execution_count": null,
   "metadata": {},
   "outputs": [],
   "source": [
    "service_name = \"청약당첨정보\"\n",
    "\n",
    "category_list = list(api.meta_dict[service_name].keys())\n",
    "it = iter(category_list)\n",
    "print(f\"{service_name} 카테고리 목록\")\n",
    "print(\", \".join(category_list))"
   ]
  },
  {
   "cell_type": "code",
   "execution_count": null,
   "metadata": {},
   "outputs": [],
   "source": [
    "category_name = next(it)\n",
    "print(f\"카테고리명: {category_name}\")\n",
    "\n",
    "df = api.get_data(\n",
    "    service_name, \n",
    "    category_name,\n",
    "    verbose=True,\n",
    "    )\n",
    "df.tail(1)"
   ]
  },
  {
   "cell_type": "markdown",
   "metadata": {},
   "source": [
    "## 공동주택 단지정보"
   ]
  },
  {
   "cell_type": "code",
   "execution_count": null,
   "metadata": {},
   "outputs": [],
   "source": [
    "service_name = \"공동주택단지정보\"\n",
    "\n",
    "category_list = list(api.meta_dict[service_name].keys())\n",
    "it = iter(category_list)\n",
    "print(f\"{service_name} 카테고리 목록\")\n",
    "print(\", \".join(category_list))"
   ]
  },
  {
   "cell_type": "code",
   "execution_count": null,
   "metadata": {},
   "outputs": [],
   "source": [
    "category_name = next(it)\n",
    "print(f\"카테고리명: {category_name}\")\n",
    "\n",
    "df = api.get_data(\n",
    "    service_name, \n",
    "    category_name,\n",
    "    verbose=True,\n",
    "    )\n",
    "df.tail(1)"
   ]
  },
  {
   "cell_type": "markdown",
   "metadata": {},
   "source": [
    "## 공동주택 실거래가격지수"
   ]
  },
  {
   "cell_type": "code",
   "execution_count": null,
   "metadata": {},
   "outputs": [],
   "source": [
    "service_name = \"공동주택실거래가격지수\"\n",
    "\n",
    "category_list = list(api.meta_dict[service_name].keys())\n",
    "it = iter(category_list)\n",
    "print(f\"{service_name} 카테고리 목록\")\n",
    "print(\", \".join(category_list))"
   ]
  },
  {
   "cell_type": "code",
   "execution_count": null,
   "metadata": {},
   "outputs": [],
   "source": [
    "category_name = next(it)\n",
    "print(f\"카테고리명: {category_name}\")\n",
    "\n",
    "df = api.get_data(\n",
    "    service_name, \n",
    "    category_name,\n",
    "    verbose=True,\n",
    "    )\n",
    "df.tail(1)"
   ]
  },
  {
   "cell_type": "markdown",
   "metadata": {},
   "source": [
    "## 주택"
   ]
  },
  {
   "cell_type": "code",
   "execution_count": null,
   "metadata": {},
   "outputs": [],
   "source": [
    "service_name = \"주택\"\n",
    "\n",
    "category_list = list(api.meta_dict[service_name].keys())\n",
    "it = iter(category_list)\n",
    "print(f\"{service_name} 카테고리 목록\")\n",
    "print(\", \".join(category_list))"
   ]
  },
  {
   "cell_type": "code",
   "execution_count": null,
   "metadata": {},
   "outputs": [],
   "source": [
    "category_name = next(it)\n",
    "print(f\"카테고리명: {category_name}\")\n",
    "\n",
    "df = api.get_data(\n",
    "    service_name, \n",
    "    category_name,\n",
    "    verbose=True,\n",
    "    )\n",
    "df.tail(1)"
   ]
  },
  {
   "cell_type": "markdown",
   "metadata": {},
   "source": [
    "## 주간아파트"
   ]
  },
  {
   "cell_type": "code",
   "execution_count": null,
   "metadata": {},
   "outputs": [],
   "source": [
    "service_name = \"주간아파트\"\n",
    "\n",
    "category_list = list(api.meta_dict[service_name].keys())\n",
    "it = iter(category_list)\n",
    "print(f\"{service_name} 카테고리 목록\")\n",
    "print(\", \".join(category_list))"
   ]
  },
  {
   "cell_type": "code",
   "execution_count": null,
   "metadata": {},
   "outputs": [],
   "source": [
    "category_name = next(it)\n",
    "print(f\"카테고리명: {category_name}\")\n",
    "\n",
    "df = api.get_data(\n",
    "    service_name, \n",
    "    category_name,\n",
    "    verbose=True,\n",
    "    )\n",
    "df.tail(1)"
   ]
  },
  {
   "cell_type": "markdown",
   "metadata": {},
   "source": [
    "## 오피스텔"
   ]
  },
  {
   "cell_type": "code",
   "execution_count": null,
   "metadata": {},
   "outputs": [],
   "source": [
    "service_name = \"오피스텔\"\n",
    "\n",
    "category_list = list(api.meta_dict[service_name].keys())\n",
    "it = iter(category_list)\n",
    "print(f\"{service_name} 카테고리 목록\")\n",
    "print(\", \".join(category_list))"
   ]
  },
  {
   "cell_type": "code",
   "execution_count": null,
   "metadata": {},
   "outputs": [],
   "source": [
    "category_name = next(it)\n",
    "print(f\"카테고리명: {category_name}\")\n",
    "\n",
    "df = api.get_data(\n",
    "    service_name, \n",
    "    category_name,\n",
    "    verbose=True,\n",
    "    )\n",
    "df.tail(1)"
   ]
  },
  {
   "cell_type": "markdown",
   "metadata": {},
   "source": [
    "## 상업용임대"
   ]
  },
  {
   "cell_type": "code",
   "execution_count": null,
   "metadata": {},
   "outputs": [],
   "source": [
    "service_name = \"상업용임대\"\n",
    "\n",
    "category_list = list(api.meta_dict[service_name].keys())\n",
    "it = iter(category_list)\n",
    "print(f\"{service_name} 카테고리 목록\")\n",
    "print(\", \".join(category_list))"
   ]
  },
  {
   "cell_type": "code",
   "execution_count": null,
   "metadata": {},
   "outputs": [],
   "source": [
    "category_name = next(it)\n",
    "print(f\"카테고리명: {category_name}\")\n",
    "\n",
    "df = api.get_data(\n",
    "    service_name, \n",
    "    category_name,\n",
    "    verbose=True,\n",
    "    )\n",
    "df.tail(1)"
   ]
  },
  {
   "cell_type": "markdown",
   "metadata": {},
   "source": [
    "## 월세가격"
   ]
  },
  {
   "cell_type": "code",
   "execution_count": null,
   "metadata": {},
   "outputs": [],
   "source": [
    "service_name = \"월세가격\"\n",
    "\n",
    "category_list = list(api.meta_dict[service_name].keys())\n",
    "it = iter(category_list)\n",
    "print(f\"{service_name} 카테고리 목록\")\n",
    "print(\", \".join(category_list))"
   ]
  },
  {
   "cell_type": "code",
   "execution_count": null,
   "metadata": {},
   "outputs": [],
   "source": [
    "category_name = next(it)\n",
    "print(f\"카테고리명: {category_name}\")\n",
    "\n",
    "df = api.get_data(\n",
    "    service_name, \n",
    "    category_name,\n",
    "    verbose=True,\n",
    "    )\n",
    "df.tail(1)"
   ]
  },
  {
   "cell_type": "markdown",
   "metadata": {},
   "source": [
    "## 부동산거래"
   ]
  },
  {
   "cell_type": "code",
   "execution_count": null,
   "metadata": {},
   "outputs": [],
   "source": [
    "service_name = \"부동산거래\"\n",
    "\n",
    "category_list = list(api.meta_dict[service_name].keys())\n",
    "it = iter(category_list)\n",
    "print(f\"{service_name} 카테고리 목록\")\n",
    "print(\", \".join(category_list))"
   ]
  },
  {
   "cell_type": "code",
   "execution_count": null,
   "metadata": {},
   "outputs": [],
   "source": [
    "category_name = next(it)\n",
    "print(f\"카테고리명: {category_name}\")\n",
    "\n",
    "df = api.get_data(\n",
    "    service_name, \n",
    "    category_name,\n",
    "    verbose=True,\n",
    "    )\n",
    "df.tail(1)"
   ]
  },
  {
   "cell_type": "markdown",
   "metadata": {},
   "source": [
    "## 지가변동률"
   ]
  },
  {
   "cell_type": "code",
   "execution_count": null,
   "metadata": {},
   "outputs": [],
   "source": [
    "service_name = \"지가변동률\"\n",
    "\n",
    "category_list = list(api.meta_dict[service_name].keys())\n",
    "it = iter(category_list)\n",
    "print(f\"{service_name} 카테고리 목록\")\n",
    "print(\", \".join(category_list))"
   ]
  },
  {
   "cell_type": "code",
   "execution_count": null,
   "metadata": {},
   "outputs": [],
   "source": [
    "category_name = next(it)\n",
    "print(f\"카테고리명: {category_name}\")\n",
    "\n",
    "df = api.get_data(\n",
    "    service_name, \n",
    "    category_name,\n",
    "    verbose=True,\n",
    "    )\n",
    "df.tail(1)"
   ]
  },
  {
   "cell_type": "markdown",
   "metadata": {},
   "source": [
    "## 연령대별 부동산거래"
   ]
  },
  {
   "cell_type": "code",
   "execution_count": null,
   "metadata": {},
   "outputs": [],
   "source": [
    "service_name = \"연령대별부동산거래\"\n",
    "\n",
    "category_list = list(api.meta_dict[service_name].keys())\n",
    "it = iter(category_list)\n",
    "print(f\"{service_name} 카테고리 목록\")\n",
    "print(\", \".join(category_list))"
   ]
  },
  {
   "cell_type": "code",
   "execution_count": null,
   "metadata": {},
   "outputs": [],
   "source": [
    "category_name = next(it)\n",
    "print(f\"카테고리명: {category_name}\")\n",
    "\n",
    "df = api.get_data(\n",
    "    service_name, \n",
    "    category_name,\n",
    "    verbose=True,\n",
    "    )\n",
    "df.tail(1)"
   ]
  },
  {
   "cell_type": "markdown",
   "metadata": {},
   "source": [
    "## 녹색건축 인증현황"
   ]
  },
  {
   "cell_type": "code",
   "execution_count": null,
   "metadata": {},
   "outputs": [],
   "source": [
    "service_name = \"녹색건축인증현황\"\n",
    "\n",
    "category_list = list(api.meta_dict[service_name].keys())\n",
    "it = iter(category_list)\n",
    "print(f\"{service_name} 카테고리 목록\")\n",
    "print(\", \".join(category_list))"
   ]
  },
  {
   "cell_type": "code",
   "execution_count": null,
   "metadata": {},
   "outputs": [],
   "source": [
    "category_name = next(it)\n",
    "print(f\"카테고리명: {category_name}\")\n",
    "\n",
    "df = api.get_data(\n",
    "    service_name, \n",
    "    category_name,\n",
    "    verbose=True,\n",
    "    )\n",
    "df.tail(1)"
   ]
  }
 ],
 "metadata": {
  "hide_input": false,
  "kernelspec": {
   "display_name": "Python 3 (ipykernel)",
   "language": "python",
   "name": "python3"
  },
  "language_info": {
   "codemirror_mode": {
    "name": "ipython",
    "version": 3
   },
   "file_extension": ".py",
   "mimetype": "text/x-python",
   "name": "python",
   "nbconvert_exporter": "python",
   "pygments_lexer": "ipython3",
   "version": "3.9.12 (main, Apr  4 2022, 05:22:27) [MSC v.1916 64 bit (AMD64)]"
  },
  "toc": {
   "base_numbering": 1,
   "nav_menu": {},
   "number_sections": true,
   "sideBar": true,
   "skip_h1_title": false,
   "title_cell": "Table of Contents",
   "title_sidebar": "Contents",
   "toc_cell": false,
   "toc_position": {
    "height": "calc(100% - 180px)",
    "left": "10px",
    "top": "150px",
    "width": "234.707px"
   },
   "toc_section_display": true,
   "toc_window_display": true
  },
  "varInspector": {
   "cols": {
    "lenName": 16,
    "lenType": 16,
    "lenVar": 40
   },
   "kernels_config": {
    "python": {
     "delete_cmd_postfix": "",
     "delete_cmd_prefix": "del ",
     "library": "var_list.py",
     "varRefreshCmd": "print(var_dic_list())"
    },
    "r": {
     "delete_cmd_postfix": ") ",
     "delete_cmd_prefix": "rm(",
     "library": "var_list.r",
     "varRefreshCmd": "cat(var_dic_list()) "
    }
   },
   "oldHeight": 237.13578,
   "position": {
    "height": "440.117px",
    "left": "491.674px",
    "right": "20px",
    "top": "85.9445px",
    "width": "613.965px"
   },
   "types_to_exclude": [
    "module",
    "function",
    "builtin_function_or_method",
    "instance",
    "_Feature"
   ],
   "varInspector_section_display": "block",
   "window_display": false
  },
  "vscode": {
   "interpreter": {
    "hash": "fcea6e6e55b259976681c8a35a3648f8ff7299129df47a05aebb6686c5e7010e"
   }
  }
 },
 "nbformat": 4,
 "nbformat_minor": 4
}
