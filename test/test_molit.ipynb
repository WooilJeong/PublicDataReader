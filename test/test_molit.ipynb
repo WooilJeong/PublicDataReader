{
 "cells": [
  {
   "cell_type": "code",
   "execution_count": null,
   "metadata": {},
   "outputs": [],
   "source": [
    "import os\n",
    "import sys\n",
    "from pathlib import Path\n",
    "sys.path.append(str(Path(os.getcwd()).parent))\n",
    "\n",
    "import pandas as pd\n",
    "pd.set_option('display.max_column', None)\n",
    "\n",
    "import requests\n",
    "import xmltodict\n",
    "import PublicDataReader as pdr\n",
    "from config import API_KEY_INFO\n",
    "print(pdr.__version__)\n",
    "service_key = API_KEY_INFO.get(\"portal\")"
   ]
  },
  {
   "cell_type": "code",
   "execution_count": null,
   "metadata": {},
   "outputs": [],
   "source": [
    "from PublicDataReader import TransactionPrice\n",
    "\n",
    "api = TransactionPrice(service_key)\n",
    "\n",
    "# 단일 월 조회\n",
    "df = api.get_data(\n",
    "    property_type=\"아파트\",\n",
    "    trade_type=\"매매\",\n",
    "    sigungu_code=\"11650\",\n",
    "    year_month=\"202212\",\n",
    ")\n",
    "print(len(df.columns))\n",
    "print(df.columns)\n",
    "display(df.head())"
   ]
  },
  {
   "cell_type": "markdown",
   "metadata": {},
   "source": [
    "- TransactionPrice Class"
   ]
  },
  {
   "cell_type": "code",
   "execution_count": null,
   "metadata": {},
   "outputs": [],
   "source": [
    "from PublicDataReader import TransactionPrice\n",
    "api1 = TransactionPrice(service_key)"
   ]
  },
  {
   "cell_type": "code",
   "execution_count": null,
   "metadata": {},
   "outputs": [],
   "source": [
    "tot = []\n",
    "for property_type, values in api1.meta_dict.items():\n",
    "    for trade_type, _ in values.items():\n",
    "        df = api1.get_data(\n",
    "            property_type=property_type,\n",
    "            trade_type=trade_type,\n",
    "            sigungu_code=\"11650\",\n",
    "            start_year_month=\"201901\",\n",
    "            end_year_month=\"201903\",\n",
    "            )\n",
    "        tot.append(df)\n",
    "        print(property_type, trade_type, len(df))"
   ]
  },
  {
   "cell_type": "code",
   "execution_count": null,
   "metadata": {},
   "outputs": [],
   "source": [
    "df = api1.get_data(\n",
    "    property_type=\"아파트\",\n",
    "    trade_type=\"매매\",\n",
    "    sigungu_code=\"41135\",\n",
    "    start_year_month=\"202201\",\n",
    "    end_year_month=\"202301\",\n",
    "    )\n",
    "df.tail()"
   ]
  },
  {
   "cell_type": "markdown",
   "metadata": {},
   "source": [
    "- BuildingLedger Class"
   ]
  },
  {
   "cell_type": "code",
   "execution_count": null,
   "metadata": {},
   "outputs": [],
   "source": [
    "from PublicDataReader import BuildingLedger\n",
    "api2 = BuildingLedger(service_key)"
   ]
  },
  {
   "cell_type": "code",
   "execution_count": null,
   "metadata": {},
   "outputs": [],
   "source": [
    "# tot = []\n",
    "# for ledger_type, values in api2.meta_dict.items():\n",
    "#     df = api2.get_data(\n",
    "#         ledger_type=ledger_type,\n",
    "#         sigungu_code=\"11650\",\n",
    "#         bdong_code=\"10700\",\n",
    "#         bun=\"20\",\n",
    "#         ji=\"43\",\n",
    "#     )\n",
    "#     tot.append(df)\n",
    "#     print(ledger_type, len(df))"
   ]
  },
  {
   "cell_type": "code",
   "execution_count": null,
   "metadata": {},
   "outputs": [],
   "source": [
    "df = api2.get_data(\n",
    "    ledger_type=\"소유자\",\n",
    "    sigungu_code=\"41135\",\n",
    "    bdong_code=\"11000\",\n",
    "    # plat_code=\"0\",\n",
    "    bun=\"540\",\n",
    "    ji=\"\",\n",
    "    )\n",
    "df.head()"
   ]
  },
  {
   "cell_type": "code",
   "execution_count": null,
   "metadata": {},
   "outputs": [],
   "source": [
    "from PublicDataReader import BuildingLedger\n",
    "\n",
    "# service_key = \"공공 데이터 포털에서 발급받은 서비스 키\"\n",
    "api = BuildingLedger(service_key)\n",
    "\n",
    "df = api.get_data(\n",
    "    ledger_type=\"소유자\", \n",
    "    sigungu_code=\"41135\", \n",
    "    bdong_code=\"11000\", \n",
    "    bun=\"542\", \n",
    "    ji=\"\",\n",
    ")\n",
    "df.head()"
   ]
  }
 ],
 "metadata": {
  "hide_input": false,
  "kernelspec": {
   "display_name": "Python (pdr)",
   "language": "python",
   "name": "pdr"
  },
  "language_info": {
   "codemirror_mode": {
    "name": "ipython",
    "version": 3
   },
   "file_extension": ".py",
   "mimetype": "text/x-python",
   "name": "python",
   "nbconvert_exporter": "python",
   "pygments_lexer": "ipython3",
   "version": "3.9.19"
  },
  "toc": {
   "base_numbering": 1,
   "nav_menu": {},
   "number_sections": true,
   "sideBar": true,
   "skip_h1_title": false,
   "title_cell": "Table of Contents",
   "title_sidebar": "Contents",
   "toc_cell": false,
   "toc_position": {},
   "toc_section_display": true,
   "toc_window_display": false
  },
  "vscode": {
   "interpreter": {
    "hash": "fcea6e6e55b259976681c8a35a3648f8ff7299129df47a05aebb6686c5e7010e"
   }
  }
 },
 "nbformat": 4,
 "nbformat_minor": 4
}
