{
 "cells": [
  {
   "cell_type": "code",
   "execution_count": null,
   "metadata": {},
   "outputs": [],
   "source": [
    "import os\n",
    "import sys\n",
    "from pathlib import Path\n",
    "sys.path.append(str(Path(os.getcwd()).parent))"
   ]
  },
  {
   "cell_type": "code",
   "execution_count": null,
   "metadata": {},
   "outputs": [],
   "source": [
    "import PublicDataReader as pdr\n",
    "from config import API_KEY_INFO\n",
    "print(pdr.__version__)\n",
    "serviceKey = API_KEY_INFO.get(\"portal2\")"
   ]
  },
  {
   "cell_type": "code",
   "execution_count": null,
   "metadata": {},
   "outputs": [],
   "source": [
    "from PublicDataReader import TransactionPrice\n",
    "\n",
    "api = TransactionPrice(serviceKey)"
   ]
  },
  {
   "cell_type": "code",
   "execution_count": null,
   "metadata": {},
   "outputs": [],
   "source": [
    "params = {\n",
    "    \"product_name\": \"아파트\",\n",
    "    \"trade_type\": \"전월세\",\n",
    "    \"sigungu_code\": \"41135\",\n",
    "    # \"year_month\": \"202301\",\n",
    "    \"start_year_month\": \"202301\",\n",
    "    \"end_year_month\": \"202301\",\n",
    "}\n",
    "\n",
    "df = api.get_data(**params)\n",
    "df"
   ]
  },
  {
   "cell_type": "code",
   "execution_count": null,
   "metadata": {},
   "outputs": [],
   "source": [
    "import requests\n",
    "import urllib.parse\n",
    "import xmltodict\n",
    "import pandas as pd\n",
    "\n",
    "\n",
    "product_name = \"공장창고등\"\n",
    "trade_type = \"매매\"\n",
    "\n",
    "\n",
    "url = api.meta_dict.get(product_name).get(trade_type)\n",
    "params = {\n",
    "    \"serviceKey\": urllib.parse.unquote(api.serviceKey),\n",
    "    \"LAWD_CD\": \"41135\",\n",
    "    \"DEAL_YMD\": \"202201\",\n",
    "    \"numOfRows\": \"99999\",\n",
    "}\n",
    "res = requests.get(url, params=params, verify=False)\n",
    "data = xmltodict.parse(res.text)['response']['body']['items']['item']\n",
    "if type(data) == list:\n",
    "    df = pd.DataFrame(data)\n",
    "elif type(data) == dict:\n",
    "    df = pd.DataFrame([data])"
   ]
  },
  {
   "cell_type": "code",
   "execution_count": null,
   "metadata": {},
   "outputs": [],
   "source": [
    "start_year_month = \"202210\"\n",
    "end_year_month = \"202212\"\n",
    "\n",
    "import datetime\n",
    "start_date = datetime.datetime.strptime(str(start_year_month), \"%Y%m\")\n",
    "start_date = datetime.datetime.strftime(start_date, \"%Y-%m\")\n",
    "end_date = datetime.datetime.strptime(str(end_year_month), \"%Y%m\")\n",
    "end_date = end_date + datetime.timedelta(days=31)\n",
    "end_date = datetime.datetime.strftime(end_date, \"%Y-%m\")\n",
    "ts = pd.date_range(start=start_date, end=end_date, freq=\"m\")\n",
    "date_list = list(ts.strftime(\"%Y%m\"))"
   ]
  }
 ],
 "metadata": {
  "kernelspec": {
   "display_name": "venv",
   "language": "python",
   "name": "python3"
  },
  "language_info": {
   "codemirror_mode": {
    "name": "ipython",
    "version": 3
   },
   "file_extension": ".py",
   "mimetype": "text/x-python",
   "name": "python",
   "nbconvert_exporter": "python",
   "pygments_lexer": "ipython3",
   "version": "3.9.12"
  },
  "orig_nbformat": 4,
  "vscode": {
   "interpreter": {
    "hash": "fcea6e6e55b259976681c8a35a3648f8ff7299129df47a05aebb6686c5e7010e"
   }
  }
 },
 "nbformat": 4,
 "nbformat_minor": 2
}
