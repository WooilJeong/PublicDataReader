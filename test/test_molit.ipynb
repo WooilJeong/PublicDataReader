{
 "cells": [
  {
   "cell_type": "code",
   "execution_count": 1,
   "metadata": {},
   "outputs": [],
   "source": [
    "import os\n",
    "import sys\n",
    "from pathlib import Path\n",
    "sys.path.append(str(Path(os.getcwd()).parent))"
   ]
  },
  {
   "cell_type": "code",
   "execution_count": 2,
   "metadata": {},
   "outputs": [
    {
     "name": "stdout",
     "output_type": "stream",
     "text": [
      "1.0.13\n"
     ]
    }
   ],
   "source": [
    "import PublicDataReader as pdr\n",
    "from config import API_KEY_INFO\n",
    "print(pdr.__version__)\n",
    "service_key = API_KEY_INFO.get(\"portal\")"
   ]
  },
  {
   "attachments": {},
   "cell_type": "markdown",
   "metadata": {},
   "source": [
    "- TransactionPrice Class"
   ]
  },
  {
   "cell_type": "code",
   "execution_count": null,
   "metadata": {},
   "outputs": [],
   "source": [
    "from PublicDataReader import TransactionPrice\n",
    "api1 = TransactionPrice(service_key)"
   ]
  },
  {
   "cell_type": "code",
   "execution_count": null,
   "metadata": {},
   "outputs": [],
   "source": [
    "# tot = []\n",
    "# for property_type, values in api1.meta_dict.items():\n",
    "#     for trade_type, _ in values.items():\n",
    "#         df = api1.get_data(\n",
    "#             property_type=property_type,\n",
    "#             trade_type=trade_type,\n",
    "#             sigungu_code=\"11650\",\n",
    "#             start_year_month=\"201901\",\n",
    "#             end_year_month=\"201903\",\n",
    "#             )\n",
    "#         tot.append(df)\n",
    "#         print(property_type, trade_type, len(df))"
   ]
  },
  {
   "cell_type": "code",
   "execution_count": null,
   "metadata": {},
   "outputs": [],
   "source": [
    "df = api1.get_data(\n",
    "    property_type=\"아파트\",\n",
    "    trade_type=\"매매\",\n",
    "    sigungu_code=\"41135\",\n",
    "    start_year_month=\"202201\",\n",
    "    end_year_month=\"202301\",\n",
    "    )\n",
    "df.tail()"
   ]
  },
  {
   "attachments": {},
   "cell_type": "markdown",
   "metadata": {},
   "source": [
    "- BuildingLedger Class"
   ]
  },
  {
   "cell_type": "code",
   "execution_count": 3,
   "metadata": {},
   "outputs": [],
   "source": [
    "from PublicDataReader import BuildingLedger\n",
    "api2 = BuildingLedger(service_key)"
   ]
  },
  {
   "cell_type": "code",
   "execution_count": 4,
   "metadata": {},
   "outputs": [
    {
     "data": {
      "text/plain": [
       "dict_keys(['기본개요', '총괄표제부', '표제부', '층별개요', '부속지번', '전유공용면적', '오수정화시설', '주택가격', '전유부', '지역지구구역'])"
      ]
     },
     "execution_count": 4,
     "metadata": {},
     "output_type": "execute_result"
    }
   ],
   "source": [
    "api2.meta_dict.keys()"
   ]
  },
  {
   "cell_type": "code",
   "execution_count": null,
   "metadata": {},
   "outputs": [],
   "source": [
    "# import PublicDataReader as pdr\n",
    "# code=pdr.code_bdong()\n",
    "# code.loc[\n",
    "#     (code['읍면동명']=='반포동') &\n",
    "#     (code['말소일자'].isna())\n",
    "# ]"
   ]
  },
  {
   "cell_type": "code",
   "execution_count": null,
   "metadata": {},
   "outputs": [],
   "source": [
    "# tot = []\n",
    "# for ledger_type, values in api2.meta_dict.items():\n",
    "#     df = api2.get_data(\n",
    "#         ledger_type=ledger_type,\n",
    "#         sigungu_code=\"11650\",\n",
    "#         bdong_code=\"10700\",\n",
    "#         bun=\"20\",\n",
    "#         ji=\"43\",\n",
    "#     )\n",
    "#     tot.append(df)\n",
    "#     print(ledger_type, len(df))"
   ]
  },
  {
   "cell_type": "code",
   "execution_count": 15,
   "metadata": {},
   "outputs": [
    {
     "data": {
      "text/html": [
       "<div>\n",
       "<style scoped>\n",
       "    .dataframe tbody tr th:only-of-type {\n",
       "        vertical-align: middle;\n",
       "    }\n",
       "\n",
       "    .dataframe tbody tr th {\n",
       "        vertical-align: top;\n",
       "    }\n",
       "\n",
       "    .dataframe thead th {\n",
       "        text-align: right;\n",
       "    }\n",
       "</style>\n",
       "<table border=\"1\" class=\"dataframe\">\n",
       "  <thead>\n",
       "    <tr style=\"text-align: right;\">\n",
       "      <th></th>\n",
       "      <th>건축면적</th>\n",
       "      <th>부속건축물면적</th>\n",
       "      <th>부속건축물수</th>\n",
       "      <th>건폐율</th>\n",
       "      <th>법정동코드</th>\n",
       "      <th>건물명</th>\n",
       "      <th>블록</th>\n",
       "      <th>번</th>\n",
       "      <th>외필지수</th>\n",
       "      <th>생성일자</th>\n",
       "      <th>...</th>\n",
       "      <th>대장종류코드명</th>\n",
       "      <th>순번</th>\n",
       "      <th>시군구코드</th>\n",
       "      <th>특수지명</th>\n",
       "      <th>착공일</th>\n",
       "      <th>연면적</th>\n",
       "      <th>총주차수</th>\n",
       "      <th>사용승인일</th>\n",
       "      <th>용적률</th>\n",
       "      <th>용적률산정연면적</th>\n",
       "    </tr>\n",
       "  </thead>\n",
       "  <tbody>\n",
       "    <tr>\n",
       "      <th>0</th>\n",
       "      <td>7756.72</td>\n",
       "      <td>38963.39</td>\n",
       "      <td>3</td>\n",
       "      <td>71.94</td>\n",
       "      <td>11000</td>\n",
       "      <td>힐스테이트 판교역(7-1BL)</td>\n",
       "      <td>None</td>\n",
       "      <td>0540</td>\n",
       "      <td>0</td>\n",
       "      <td>20220825</td>\n",
       "      <td>...</td>\n",
       "      <td>총괄표제부</td>\n",
       "      <td>1</td>\n",
       "      <td>41135</td>\n",
       "      <td>None</td>\n",
       "      <td>20181121</td>\n",
       "      <td>122211.55</td>\n",
       "      <td>883</td>\n",
       "      <td>20220822</td>\n",
       "      <td>599.69</td>\n",
       "      <td>64655.84</td>\n",
       "    </tr>\n",
       "  </tbody>\n",
       "</table>\n",
       "<p>1 rows × 65 columns</p>\n",
       "</div>"
      ],
      "text/plain": [
       "      건축면적   부속건축물면적 부속건축물수    건폐율  법정동코드               건물명    블록     번 외필지수  \\\n",
       "0  7756.72  38963.39      3  71.94  11000  힐스테이트 판교역(7-1BL)  None  0540    0   \n",
       "\n",
       "       생성일자  ... 대장종류코드명 순번  시군구코드  특수지명       착공일        연면적 총주차수     사용승인일  \\\n",
       "0  20220825  ...   총괄표제부  1  41135  None  20181121  122211.55  883  20220822   \n",
       "\n",
       "      용적률  용적률산정연면적  \n",
       "0  599.69  64655.84  \n",
       "\n",
       "[1 rows x 65 columns]"
      ]
     },
     "execution_count": 15,
     "metadata": {},
     "output_type": "execute_result"
    }
   ],
   "source": [
    "df = api2.get_data(\n",
    "    ledger_type=\"총괄표제부\",\n",
    "    sigungu_code=\"41135\",\n",
    "    bdong_code=\"11000\",\n",
    "    # plat_code=\"0\",\n",
    "    bun=\"540\",\n",
    "    ji=\"\",\n",
    "    )\n",
    "df.tail()"
   ]
  },
  {
   "attachments": {},
   "cell_type": "markdown",
   "metadata": {},
   "source": [
    "## Deprecated Class Test"
   ]
  },
  {
   "cell_type": "code",
   "execution_count": null,
   "metadata": {},
   "outputs": [],
   "source": [
    "from PublicDataReader import Transaction, Building\n",
    "\n",
    "old1 = Transaction(service_key, debug=False)\n",
    "old2 = Building(service_key, debug=False)"
   ]
  },
  {
   "cell_type": "code",
   "execution_count": null,
   "metadata": {},
   "outputs": [],
   "source": [
    "# df = old1.collect_data(\n",
    "#     prod=\"아파트\",\n",
    "#     trans=\"매매\",\n",
    "#     sigunguCode=\"41135\",\n",
    "#     startYearMonth=\"202201\",\n",
    "#     endYearMonth=\"202301\",\n",
    "# )"
   ]
  },
  {
   "cell_type": "code",
   "execution_count": null,
   "metadata": {},
   "outputs": [],
   "source": [
    "# df = old2.read_data(\n",
    "#     category=\"표제부\",\n",
    "#     sigunguCd=\"41135\",\n",
    "#     bjdongCd=\"11000\",\n",
    "#     bun=\"0540\",\n",
    "#     ji=\"0000\",\n",
    "# )\n",
    "# df"
   ]
  }
 ],
 "metadata": {
  "kernelspec": {
   "display_name": "venv",
   "language": "python",
   "name": "python3"
  },
  "language_info": {
   "codemirror_mode": {
    "name": "ipython",
    "version": 3
   },
   "file_extension": ".py",
   "mimetype": "text/x-python",
   "name": "python",
   "nbconvert_exporter": "python",
   "pygments_lexer": "ipython3",
   "version": "3.9.12"
  },
  "orig_nbformat": 4,
  "vscode": {
   "interpreter": {
    "hash": "fcea6e6e55b259976681c8a35a3648f8ff7299129df47a05aebb6686c5e7010e"
   }
  }
 },
 "nbformat": 4,
 "nbformat_minor": 2
}
