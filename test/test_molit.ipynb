{
 "cells": [
  {
   "cell_type": "code",
   "execution_count": null,
   "metadata": {},
   "outputs": [],
   "source": [
    "import os\n",
    "import sys\n",
    "from pathlib import Path\n",
    "sys.path.append(str(Path(os.getcwd()).parent))"
   ]
  },
  {
   "cell_type": "code",
   "execution_count": null,
   "metadata": {},
   "outputs": [],
   "source": [
    "import PublicDataReader as pdr\n",
    "from config import API_KEY_INFO\n",
    "print(pdr.__version__)\n",
    "service_key = API_KEY_INFO.get(\"portal\")"
   ]
  },
  {
   "attachments": {},
   "cell_type": "markdown",
   "metadata": {},
   "source": [
    "- TransactionPrice Class"
   ]
  },
  {
   "cell_type": "code",
   "execution_count": null,
   "metadata": {},
   "outputs": [],
   "source": [
    "from PublicDataReader import TransactionPrice\n",
    "api1 = TransactionPrice(service_key)"
   ]
  },
  {
   "cell_type": "code",
   "execution_count": null,
   "metadata": {},
   "outputs": [],
   "source": [
    "# tot = []\n",
    "# for property_type, values in api1.meta_dict.items():\n",
    "#     for trade_type, _ in values.items():\n",
    "#         df = api1.get_data(\n",
    "#             property_type=property_type,\n",
    "#             trade_type=trade_type,\n",
    "#             sigungu_code=\"11650\",\n",
    "#             start_year_month=\"201901\",\n",
    "#             end_year_month=\"201903\",\n",
    "#             )\n",
    "#         tot.append(df)\n",
    "#         print(property_type, trade_type, len(df))"
   ]
  },
  {
   "cell_type": "code",
   "execution_count": null,
   "metadata": {},
   "outputs": [],
   "source": [
    "df = api1.get_data(\n",
    "    property_type=\"아파트\",\n",
    "    trade_type=\"매매\",\n",
    "    sigungu_code=\"41135\",\n",
    "    start_year_month=\"202201\",\n",
    "    end_year_month=\"202301\",\n",
    "    )\n",
    "df.tail()"
   ]
  },
  {
   "attachments": {},
   "cell_type": "markdown",
   "metadata": {},
   "source": [
    "- BuildingLedger Class"
   ]
  },
  {
   "cell_type": "code",
   "execution_count": null,
   "metadata": {},
   "outputs": [],
   "source": [
    "from PublicDataReader import BuildingLedger\n",
    "api2 = BuildingLedger(service_key)"
   ]
  },
  {
   "cell_type": "code",
   "execution_count": null,
   "metadata": {},
   "outputs": [],
   "source": [
    "api2.meta_dict.keys()"
   ]
  },
  {
   "cell_type": "code",
   "execution_count": null,
   "metadata": {},
   "outputs": [],
   "source": [
    "# import PublicDataReader as pdr\n",
    "# code=pdr.code_bdong()\n",
    "# code.loc[\n",
    "#     (code['읍면동명']=='반포동') &\n",
    "#     (code['말소일자'].isna())\n",
    "# ]"
   ]
  },
  {
   "cell_type": "code",
   "execution_count": null,
   "metadata": {},
   "outputs": [],
   "source": [
    "# tot = []\n",
    "# for ledger_type, values in api2.meta_dict.items():\n",
    "#     df = api2.get_data(\n",
    "#         ledger_type=ledger_type,\n",
    "#         sigungu_code=\"11650\",\n",
    "#         bdong_code=\"10700\",\n",
    "#         bun=\"20\",\n",
    "#         ji=\"43\",\n",
    "#     )\n",
    "#     tot.append(df)\n",
    "#     print(ledger_type, len(df))"
   ]
  },
  {
   "cell_type": "code",
   "execution_count": null,
   "metadata": {},
   "outputs": [],
   "source": [
    "df = api2.get_data(\n",
    "    ledger_type=\"총괄표제부\",\n",
    "    sigungu_code=\"41135\",\n",
    "    bdong_code=\"11000\",\n",
    "    bun=\"540\",\n",
    "    ji=\"\",\n",
    "    )\n",
    "df.tail()"
   ]
  },
  {
   "attachments": {},
   "cell_type": "markdown",
   "metadata": {},
   "source": [
    "## Deprecated Class Test"
   ]
  },
  {
   "cell_type": "code",
   "execution_count": null,
   "metadata": {},
   "outputs": [],
   "source": [
    "from PublicDataReader import Transaction, Building\n",
    "\n",
    "old1 = Transaction(service_key, debug=False)\n",
    "old2 = Building(service_key, debug=False)"
   ]
  },
  {
   "cell_type": "code",
   "execution_count": null,
   "metadata": {},
   "outputs": [],
   "source": [
    "# df = old1.collect_data(\n",
    "#     prod=\"아파트\",\n",
    "#     trans=\"매매\",\n",
    "#     sigunguCode=\"41135\",\n",
    "#     startYearMonth=\"202201\",\n",
    "#     endYearMonth=\"202301\",\n",
    "# )"
   ]
  },
  {
   "cell_type": "code",
   "execution_count": null,
   "metadata": {},
   "outputs": [],
   "source": [
    "# df = old2.read_data(\n",
    "#     category=\"표제부\",\n",
    "#     sigunguCd=\"41135\",\n",
    "#     bjdongCd=\"11000\",\n",
    "#     bun=\"0540\",\n",
    "#     ji=\"0000\",\n",
    "# )\n",
    "# df"
   ]
  }
 ],
 "metadata": {
  "kernelspec": {
   "display_name": "venv",
   "language": "python",
   "name": "python3"
  },
  "language_info": {
   "codemirror_mode": {
    "name": "ipython",
    "version": 3
   },
   "file_extension": ".py",
   "mimetype": "text/x-python",
   "name": "python",
   "nbconvert_exporter": "python",
   "pygments_lexer": "ipython3",
   "version": "3.9.12"
  },
  "orig_nbformat": 4,
  "vscode": {
   "interpreter": {
    "hash": "fcea6e6e55b259976681c8a35a3648f8ff7299129df47a05aebb6686c5e7010e"
   }
  }
 },
 "nbformat": 4,
 "nbformat_minor": 2
}
