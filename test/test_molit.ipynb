{
 "cells": [
  {
   "cell_type": "code",
   "execution_count": null,
   "metadata": {},
   "outputs": [],
   "source": [
    "import os\n",
    "import sys\n",
    "from pathlib import Path\n",
    "sys.path.append(str(Path(os.getcwd()).parent))"
   ]
  },
  {
   "cell_type": "code",
   "execution_count": null,
   "metadata": {},
   "outputs": [],
   "source": [
    "import PublicDataReader as pdr\n",
    "from config import API_KEY_INFO\n",
    "print(pdr.__version__)\n",
    "serviceKey = API_KEY_INFO.get(\"portal2\")"
   ]
  },
  {
   "cell_type": "code",
   "execution_count": null,
   "metadata": {},
   "outputs": [],
   "source": [
    "from PublicDataReader import TransactionPrice\n",
    "\n",
    "api = TransactionPrice(serviceKey)"
   ]
  },
  {
   "cell_type": "code",
   "execution_count": null,
   "metadata": {},
   "outputs": [],
   "source": [
    "params = {\n",
    "    \"property_type\": \"공장창고등\",\n",
    "    \"trade_type\": \"매매\",\n",
    "    \"sigungu_code\": \"11650\",\n",
    "    \"year_month\": \"202201\",\n",
    "    \"start_year_month\": \"202201\",\n",
    "    \"end_year_month\": \"202301\",\n",
    "}\n",
    "\n",
    "df = api.get_data(**params)\n",
    "df"
   ]
  },
  {
   "cell_type": "code",
   "execution_count": null,
   "metadata": {},
   "outputs": [],
   "source": []
  },
  {
   "cell_type": "code",
   "execution_count": null,
   "metadata": {},
   "outputs": [],
   "source": []
  },
  {
   "cell_type": "code",
   "execution_count": null,
   "metadata": {},
   "outputs": [],
   "source": []
  },
  {
   "cell_type": "code",
   "execution_count": null,
   "metadata": {},
   "outputs": [],
   "source": []
  }
 ],
 "metadata": {
  "kernelspec": {
   "display_name": "venv",
   "language": "python",
   "name": "python3"
  },
  "language_info": {
   "codemirror_mode": {
    "name": "ipython",
    "version": 3
   },
   "file_extension": ".py",
   "mimetype": "text/x-python",
   "name": "python",
   "nbconvert_exporter": "python",
   "pygments_lexer": "ipython3",
   "version": "3.9.12"
  },
  "orig_nbformat": 4,
  "vscode": {
   "interpreter": {
    "hash": "fcea6e6e55b259976681c8a35a3648f8ff7299129df47a05aebb6686c5e7010e"
   }
  }
 },
 "nbformat": 4,
 "nbformat_minor": 2
}
