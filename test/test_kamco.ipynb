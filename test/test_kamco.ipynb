{
 "cells": [
  {
   "cell_type": "code",
   "execution_count": null,
   "metadata": {
    "ExecuteTime": {
     "end_time": "2022-12-02T08:23:39.858809Z",
     "start_time": "2022-12-02T08:23:39.839859Z"
    }
   },
   "outputs": [],
   "source": [
    "import os\n",
    "import sys\n",
    "from pathlib import Path\n",
    "sys.path.append(str(Path(os.getcwd()).parent))"
   ]
  },
  {
   "cell_type": "code",
   "execution_count": null,
   "metadata": {},
   "outputs": [],
   "source": [
    "import PublicDataReader as pdr\n",
    "from config import API_KEY_INFO\n",
    "print(pdr.__version__)\n",
    "serviceKey = API_KEY_INFO.get(\"portal2\")"
   ]
  },
  {
   "cell_type": "markdown",
   "metadata": {},
   "source": [
    "# Kamco API Instance"
   ]
  },
  {
   "cell_type": "code",
   "execution_count": null,
   "metadata": {},
   "outputs": [],
   "source": [
    "from PublicDataReader import Kamco\n",
    "API = Kamco(serviceKey)"
   ]
  },
  {
   "cell_type": "markdown",
   "metadata": {},
   "source": [
    "# 온비드코드조회서비스\n",
    "\n",
    "- [한국자산관리공사_온비드코드조회서비스](https://www.data.go.kr/tcs/dss/selectApiDataDetailView.do?publicDataPk=15000920)"
   ]
  },
  {
   "cell_type": "markdown",
   "metadata": {},
   "source": [
    "## 용도1 코드조회서비스 : 용도 상위 코드조회"
   ]
  },
  {
   "cell_type": "code",
   "execution_count": null,
   "metadata": {
    "ExecuteTime": {
     "end_time": "2022-12-02T08:23:41.559059Z",
     "start_time": "2022-12-02T08:23:41.480274Z"
    },
    "scrolled": true
   },
   "outputs": [],
   "source": [
    "service = \"온비드코드\"\n",
    "function = \"용도상위코드\"\n",
    "params = {}\n",
    "\n",
    "df = API.get_data(service, function, **params)\n",
    "df.head()"
   ]
  },
  {
   "cell_type": "markdown",
   "metadata": {},
   "source": [
    "## 용도2 코드조회서비스 : 용도 중간 코드조회"
   ]
  },
  {
   "cell_type": "code",
   "execution_count": null,
   "metadata": {
    "ExecuteTime": {
     "end_time": "2022-12-02T08:23:42.536190Z",
     "start_time": "2022-12-02T08:23:42.474559Z"
    }
   },
   "outputs": [],
   "source": [
    "service = \"온비드코드\"\n",
    "function = \"용도중간코드\"\n",
    "params = {\n",
    "    \"CTGR_ID\": \"10000\",\n",
    "}\n",
    "\n",
    "df = API.get_data(service, function, **params)\n",
    "df.head()"
   ]
  },
  {
   "cell_type": "markdown",
   "metadata": {},
   "source": [
    "## 용도3 코드조회서비스 : 용도 하위 코드조회"
   ]
  },
  {
   "cell_type": "code",
   "execution_count": null,
   "metadata": {
    "ExecuteTime": {
     "end_time": "2022-12-02T08:23:42.895978Z",
     "start_time": "2022-12-02T08:23:42.813691Z"
    }
   },
   "outputs": [],
   "source": [
    "service = \"온비드코드\"\n",
    "function = \"용도하위코드\"\n",
    "params = {\n",
    "    \"CTGR_ID\": \"10300\",\n",
    "}\n",
    "\n",
    "df = API.get_data(service, function, **params)\n",
    "df.head()"
   ]
  },
  {
   "cell_type": "markdown",
   "metadata": {},
   "source": [
    "## 주소1 조회 서비스 : 상위 주소 조회 (시도)"
   ]
  },
  {
   "cell_type": "code",
   "execution_count": null,
   "metadata": {
    "ExecuteTime": {
     "end_time": "2022-12-02T08:23:43.238525Z",
     "start_time": "2022-12-02T08:23:43.183261Z"
    }
   },
   "outputs": [],
   "source": [
    "service = \"온비드코드\"\n",
    "function = \"시도\"\n",
    "params = {}\n",
    "\n",
    "df = API.get_data(service, function, **params)\n",
    "df.head()"
   ]
  },
  {
   "cell_type": "markdown",
   "metadata": {},
   "source": [
    "## 주소2 조회 서비스 : 중간 주소 조회 (시군구)"
   ]
  },
  {
   "cell_type": "code",
   "execution_count": null,
   "metadata": {
    "ExecuteTime": {
     "end_time": "2022-12-02T08:23:43.970155Z",
     "start_time": "2022-12-02T08:23:43.900290Z"
    },
    "scrolled": true
   },
   "outputs": [],
   "source": [
    "service = \"온비드코드\"\n",
    "function = \"시군구\"\n",
    "params = {\n",
    "    \"ADDR1\": \"경기도\"\n",
    "}\n",
    "\n",
    "df = API.get_data(service, function, **params)\n",
    "df.head()"
   ]
  },
  {
   "cell_type": "markdown",
   "metadata": {},
   "source": [
    "## 주소3 조회 서비스 : 하위 주소 조회 (읍면동)"
   ]
  },
  {
   "cell_type": "code",
   "execution_count": null,
   "metadata": {
    "ExecuteTime": {
     "end_time": "2022-12-02T08:23:44.345688Z",
     "start_time": "2022-12-02T08:23:44.263166Z"
    },
    "scrolled": true
   },
   "outputs": [],
   "source": [
    "service = \"온비드코드\"\n",
    "function = \"읍면동\"\n",
    "params = {\n",
    "    \"ADDR1\": \"경기도\",\n",
    "    \"ADDR2\": \"성남시 분당구\",\n",
    "}\n",
    "\n",
    "df = API.get_data(service, function, **params)\n",
    "df.head()"
   ]
  },
  {
   "cell_type": "markdown",
   "metadata": {},
   "source": [
    "## 상세주소 조회 서비스 : 상세 주소 조회"
   ]
  },
  {
   "cell_type": "code",
   "execution_count": null,
   "metadata": {
    "ExecuteTime": {
     "end_time": "2022-12-02T08:23:44.688764Z",
     "start_time": "2022-12-02T08:23:44.632151Z"
    },
    "scrolled": true
   },
   "outputs": [],
   "source": [
    "service = \"온비드코드\"\n",
    "function = \"상세주소\"\n",
    "params = {\n",
    "    \"ADDR3\": \"정자동\",\n",
    "}\n",
    "\n",
    "df = API.get_data(service, function, **params)\n",
    "df.head()"
   ]
  },
  {
   "cell_type": "markdown",
   "metadata": {},
   "source": [
    "# 캠코공매물건조회서비스\n",
    "\n",
    "- [한국자산관리공사_캠코공매물건조회서비스](https://www.data.go.kr/data/15000851/openapi.do)"
   ]
  },
  {
   "cell_type": "markdown",
   "metadata": {},
   "source": [
    "## 캠코공매물건목록조회"
   ]
  },
  {
   "cell_type": "code",
   "execution_count": null,
   "metadata": {
    "ExecuteTime": {
     "end_time": "2022-12-02T08:23:45.153707Z",
     "start_time": "2022-12-02T08:23:45.148719Z"
    }
   },
   "outputs": [],
   "source": [
    "API.meta_dict['캠코공매물건']['기능'].keys()"
   ]
  },
  {
   "cell_type": "code",
   "execution_count": null,
   "metadata": {
    "ExecuteTime": {
     "end_time": "2022-12-02T08:24:06.867353Z",
     "start_time": "2022-12-02T08:23:45.326331Z"
    },
    "scrolled": true
   },
   "outputs": [],
   "source": [
    "service = \"캠코공매물건\"\n",
    "function = \"물건목록\"\n",
    "params = {\n",
    "    \"DPSL_MTD_CD\": \"0001\",\n",
    "    \"CTGR_HIRK_ID\": \"10000\",\n",
    "    \"CTGR_HIRK_ID_MID\": \"10200\",\n",
    "    \"SIDO\": \"서울특별시\",\n",
    "}\n",
    "\n",
    "df = API.get_data(service, function, **params)\n",
    "df.head()"
   ]
  },
  {
   "cell_type": "markdown",
   "metadata": {},
   "source": [
    "## 캠코공매공고목록조회"
   ]
  },
  {
   "cell_type": "code",
   "execution_count": null,
   "metadata": {
    "ExecuteTime": {
     "end_time": "2022-12-02T08:24:07.551154Z",
     "start_time": "2022-12-02T08:24:06.869320Z"
    },
    "scrolled": true
   },
   "outputs": [],
   "source": [
    "service = \"캠코공매물건\"\n",
    "function = \"공고목록\"\n",
    "params = {\n",
    "    \"PRPT_DVSN_CD\": \"0001\",\n",
    "}\n",
    "df = API.get_data(service, function, **params)\n",
    "df.head()"
   ]
  },
  {
   "cell_type": "markdown",
   "metadata": {},
   "source": [
    "## 캠코공매일정조회"
   ]
  },
  {
   "cell_type": "code",
   "execution_count": null,
   "metadata": {
    "ExecuteTime": {
     "end_time": "2022-12-02T08:24:08.112240Z",
     "start_time": "2022-12-02T08:24:07.552151Z"
    },
    "scrolled": true
   },
   "outputs": [],
   "source": [
    "service = \"캠코공매물건\"\n",
    "function = \"일정\"\n",
    "params = {\n",
    "    \"PRPT_DVSN_CD\": \"0001\"\n",
    "}\n",
    "\n",
    "df = API.get_data(service, function, **params)\n",
    "df"
   ]
  },
  {
   "cell_type": "markdown",
   "metadata": {},
   "source": [
    "## 캠코공매공고 기본정보 상세조회"
   ]
  },
  {
   "cell_type": "code",
   "execution_count": null,
   "metadata": {
    "ExecuteTime": {
     "end_time": "2022-12-02T08:24:08.707943Z",
     "start_time": "2022-12-02T08:24:08.520695Z"
    },
    "scrolled": true
   },
   "outputs": [],
   "source": [
    "service = \"캠코공매물건\"\n",
    "function = \"공고기본정보\"\n",
    "params = {\n",
    "    \"PLNM_NO\": \"697507\",\n",
    "    \"PBCT_NO\": \"9677799\",\n",
    "}\n",
    "\n",
    "df = API.get_data(service, function, **params)\n",
    "df"
   ]
  },
  {
   "cell_type": "markdown",
   "metadata": {},
   "source": [
    "## 캠코공매공고 공매일정 상세조회"
   ]
  },
  {
   "cell_type": "code",
   "execution_count": null,
   "metadata": {
    "ExecuteTime": {
     "end_time": "2022-12-02T08:24:08.707943Z",
     "start_time": "2022-12-02T08:24:08.520695Z"
    },
    "scrolled": true
   },
   "outputs": [],
   "source": [
    "service = \"캠코공매물건\"\n",
    "function = \"공고공매일정\"\n",
    "params = {\n",
    "    \"PLNM_NO\": \"697507\",\n",
    "    \"PBCT_NO\": \"9677799\",\n",
    "}\n",
    "\n",
    "df = API.get_data(service, function, **params)\n",
    "df"
   ]
  },
  {
   "cell_type": "markdown",
   "metadata": {},
   "source": [
    "## 캠코공매공고 첨부파일 상세조회"
   ]
  },
  {
   "cell_type": "code",
   "execution_count": null,
   "metadata": {
    "ExecuteTime": {
     "end_time": "2022-12-02T08:24:08.707943Z",
     "start_time": "2022-12-02T08:24:08.520695Z"
    },
    "scrolled": true
   },
   "outputs": [],
   "source": [
    "service = \"캠코공매물건\"\n",
    "function = \"공고첨부파일\"\n",
    "params = {\n",
    "    \"PLNM_NO\": \"464351\",\n",
    "    \"PBCT_NO\": \"9314139\",\n",
    "}\n",
    "\n",
    "df = API.get_data(service, function, **params)\n",
    "df"
   ]
  },
  {
   "cell_type": "markdown",
   "metadata": {},
   "source": [
    "# 이용기관공매물건조회서비스\n",
    "\n",
    "- [한국자산관리공사_이용기관공매물건조회서비스](https://www.data.go.kr/data/15000849/openapi.do)"
   ]
  },
  {
   "cell_type": "code",
   "execution_count": null,
   "metadata": {
    "ExecuteTime": {
     "end_time": "2022-12-02T08:24:08.723615Z",
     "start_time": "2022-12-02T08:24:08.709566Z"
    }
   },
   "outputs": [],
   "source": [
    "API.meta_dict['이용기관공매물건']['기능'].keys()"
   ]
  },
  {
   "cell_type": "markdown",
   "metadata": {},
   "source": [
    "## 이용기관공고목록조회"
   ]
  },
  {
   "cell_type": "code",
   "execution_count": null,
   "metadata": {
    "ExecuteTime": {
     "end_time": "2022-12-02T08:24:08.894178Z",
     "start_time": "2022-12-02T08:24:08.725581Z"
    },
    "scrolled": true
   },
   "outputs": [],
   "source": [
    "service = \"이용기관공매물건\"\n",
    "function = \"공고목록\"\n",
    "params = {\n",
    "    \"DPSL_MTD_CD\": \"0001\",\n",
    "    \"CTGR_HIRK_ID\": \"10000\",\n",
    "    \"CTGR_HIRK_ID_MID\": \"10200\",\n",
    "    \"SIDO\": \"경기도\",\n",
    "    \"SGK\": \"성남시 분당구\",\n",
    "}\n",
    "\n",
    "df = API.get_data(service, function, **params)\n",
    "df"
   ]
  },
  {
   "cell_type": "markdown",
   "metadata": {},
   "source": [
    "## 이용기관공매물건목록조회"
   ]
  },
  {
   "cell_type": "code",
   "execution_count": null,
   "metadata": {
    "ExecuteTime": {
     "end_time": "2022-12-02T08:24:09.126958Z",
     "start_time": "2022-12-02T08:24:08.895141Z"
    }
   },
   "outputs": [],
   "source": [
    "service = \"이용기관공매물건\"\n",
    "function = \"물건목록\"\n",
    "params = {\n",
    "    \"DPSL_MTD_CD\": \"0001\",\n",
    "    \"CTGR_HIRK_ID\": \"10000\",\n",
    "    \"CTGR_HIRK_ID_MID\": \"10200\",\n",
    "    \"SIDO\": \"경기도\",\n",
    "    \"SGK\": \"성남시 분당구\",\n",
    "}\n",
    "\n",
    "df = API.get_data(service, function, **params)\n",
    "df"
   ]
  },
  {
   "cell_type": "markdown",
   "metadata": {},
   "source": [
    "## 이용기관통합공고목록조회"
   ]
  },
  {
   "cell_type": "code",
   "execution_count": null,
   "metadata": {
    "ExecuteTime": {
     "end_time": "2022-12-02T08:24:10.088653Z",
     "start_time": "2022-12-02T08:24:09.129950Z"
    }
   },
   "outputs": [],
   "source": [
    "service = \"이용기관공매물건\"\n",
    "function = \"통합공고목록\"\n",
    "params = {\n",
    "    \"DPSL_MTD_CD\": \"0001\",\n",
    "    \"PLNM_KIND_CD\": \"0001\",\n",
    "    \"CTGR_HIRK_ID\": \"30000\",\n",
    "    \"ORG_NM\": \"한국폴리텍대학 익산캠퍼스\",\n",
    "}\n",
    "\n",
    "df = API.get_data(service, function, **params)\n",
    "df"
   ]
  },
  {
   "cell_type": "markdown",
   "metadata": {},
   "source": [
    "## 이용기관매각공고목록조회"
   ]
  },
  {
   "cell_type": "code",
   "execution_count": null,
   "metadata": {
    "ExecuteTime": {
     "end_time": "2022-12-02T08:24:10.978047Z",
     "start_time": "2022-12-02T08:24:10.089651Z"
    }
   },
   "outputs": [],
   "source": [
    "service = \"이용기관공매물건\"\n",
    "function = \"매각공고목록\"\n",
    "params = {\n",
    "    \"PLNM_KIND_CD\": \"0001\",\n",
    "    \"CTGR_HIRK_ID\": \"30000\",\n",
    "    \"ORG_NM\": \"한국폴리텍대학 익산캠퍼스\",\n",
    "}\n",
    "\n",
    "df = API.get_data(service, function, **params)\n",
    "df"
   ]
  },
  {
   "cell_type": "markdown",
   "metadata": {},
   "source": [
    "## 이용기관임대공고목록조회"
   ]
  },
  {
   "cell_type": "code",
   "execution_count": null,
   "metadata": {
    "ExecuteTime": {
     "end_time": "2022-12-02T08:24:12.655834Z",
     "start_time": "2022-12-02T08:24:10.979045Z"
    }
   },
   "outputs": [],
   "source": [
    "service = \"이용기관공매물건\"\n",
    "function = \"임대공고목록\"\n",
    "params = {\n",
    "    \"PLNM_KIND_CD\": \"0001\",\n",
    "    \"CTGR_HIRK_ID\": \"30000\",\n",
    "}\n",
    "\n",
    "df = API.get_data(service, function, **params)\n",
    "df"
   ]
  },
  {
   "cell_type": "markdown",
   "metadata": {},
   "source": [
    "## 이용기관마감임박공고목록조회"
   ]
  },
  {
   "cell_type": "code",
   "execution_count": null,
   "metadata": {
    "ExecuteTime": {
     "end_time": "2022-12-02T08:25:55.491585Z",
     "start_time": "2022-12-02T08:25:51.487057Z"
    }
   },
   "outputs": [],
   "source": [
    "service = \"이용기관공매물건\"\n",
    "function = \"마감임박공고목록\"\n",
    "params = {\n",
    "    \"DPSL_MTD_CD\": \"0001\",\n",
    "    \"PLNM_KIND_CD\": \"0001\",\n",
    "    \"CTGR_HIRK_ID\": \"10000\",\n",
    "    \"SIDO\": \"경기도\",\n",
    "}\n",
    "\n",
    "df = API.get_data(service, function, **params)\n",
    "df"
   ]
  },
  {
   "cell_type": "markdown",
   "metadata": {},
   "source": [
    "# 정부재산정보공개조회서비스\n",
    "\n",
    "- [한국자산관리공사_정부재산정보공개조회서비스](https://www.data.go.kr/data/15000907/openapi.do)"
   ]
  },
  {
   "cell_type": "code",
   "execution_count": null,
   "metadata": {
    "ExecuteTime": {
     "end_time": "2022-12-02T08:24:14.151017Z",
     "start_time": "2022-12-02T08:24:14.137053Z"
    }
   },
   "outputs": [],
   "source": [
    "API.meta_dict['정부재산정보공개']['기능'].keys()"
   ]
  },
  {
   "cell_type": "markdown",
   "metadata": {},
   "source": [
    "## 정부재산정보공개정보목록조회"
   ]
  },
  {
   "cell_type": "code",
   "execution_count": null,
   "metadata": {
    "ExecuteTime": {
     "end_time": "2022-12-02T08:24:15.337807Z",
     "start_time": "2022-12-02T08:24:14.153011Z"
    }
   },
   "outputs": [],
   "source": [
    "service = \"정부재산정보공개\"\n",
    "function = \"정부재산정보공개정보목록\"\n",
    "params = {\n",
    "    \"CTGR_HIRK_ID\": \"10000\",\n",
    "    \"SIDO\": \"충청남도\",\n",
    "    \"SGK\": \"태안군\",\n",
    "    \"EMD\": \"고남면\",\n",
    "}\n",
    "\n",
    "df = API.get_data(service, function, **params)\n",
    "df.head()"
   ]
  },
  {
   "cell_type": "markdown",
   "metadata": {},
   "source": [
    "## 정부재산정보공개정보상세조회"
   ]
  },
  {
   "cell_type": "code",
   "execution_count": null,
   "metadata": {
    "ExecuteTime": {
     "end_time": "2022-12-02T08:24:16.564625Z",
     "start_time": "2022-12-02T08:24:16.503763Z"
    }
   },
   "outputs": [],
   "source": [
    "service = \"정부재산정보공개\"\n",
    "function = \"정부재산정보공개정보상세\"\n",
    "params = {\n",
    "    \"CLTR_NO\": \"3211132\",\n",
    "}\n",
    "\n",
    "df = API.get_data(service, function, **params)\n",
    "df"
   ]
  },
  {
   "cell_type": "markdown",
   "metadata": {},
   "source": [
    "## 캠코관리재산정보공개목록정보조회"
   ]
  },
  {
   "cell_type": "code",
   "execution_count": null,
   "metadata": {
    "ExecuteTime": {
     "end_time": "2022-12-02T08:24:16.564625Z",
     "start_time": "2022-12-02T08:24:16.503763Z"
    }
   },
   "outputs": [],
   "source": [
    "service = \"정부재산정보공개\"\n",
    "function = \"캠코관리재산정보공개목록정보\"\n",
    "params = {\n",
    "    \"CTGR_HIRK_ID\": \"10000\",\n",
    "    \"SIDO\": \"충청남도\",\n",
    "    \"SGK\": \"태안군\",\n",
    "    \"EMD\": \"고남면\",\n",
    "}\n",
    "\n",
    "df = API.get_data(service, function, **params)\n",
    "df.head()"
   ]
  },
  {
   "cell_type": "markdown",
   "metadata": {},
   "source": [
    "## 캠코관리재산정보공개정보상세조회"
   ]
  },
  {
   "cell_type": "code",
   "execution_count": null,
   "metadata": {
    "ExecuteTime": {
     "end_time": "2022-12-02T08:24:16.564625Z",
     "start_time": "2022-12-02T08:24:16.503763Z"
    }
   },
   "outputs": [],
   "source": [
    "service = \"정부재산정보공개\"\n",
    "function = \"캠코관리재산정보공개정보상세\"\n",
    "params = {\n",
    "    \"CLTR_NO\": \"3211132\",\n",
    "\n",
    "}\n",
    "\n",
    "df = API.get_data(service, function, **params)\n",
    "df"
   ]
  },
  {
   "cell_type": "markdown",
   "metadata": {},
   "source": [
    "# 물건정보조회서비스\n",
    "\n",
    "- [한국자산관리공사_물건정보조회서비스](https://www.data.go.kr/data/15000837/openapi.do)"
   ]
  },
  {
   "cell_type": "code",
   "execution_count": null,
   "metadata": {
    "ExecuteTime": {
     "end_time": "2022-12-02T08:24:16.596447Z",
     "start_time": "2022-12-02T08:24:16.565622Z"
    }
   },
   "outputs": [],
   "source": [
    "API.meta_dict['물건정보']['기능'].keys()"
   ]
  },
  {
   "cell_type": "markdown",
   "metadata": {},
   "source": [
    "## 통합용도별물건목록조회"
   ]
  },
  {
   "cell_type": "code",
   "execution_count": null,
   "metadata": {
    "ExecuteTime": {
     "end_time": "2022-12-02T08:24:16.765930Z",
     "start_time": "2022-12-02T08:24:16.597415Z"
    }
   },
   "outputs": [],
   "source": [
    "service = \"물건정보\"\n",
    "function = \"통합용도별물건목록\"\n",
    "params = {\n",
    "    \"CTGR_HIRK_ID\": \"10000\",\n",
    "    \"SIDO\": \"충청남도\",\n",
    "    \"SGK\": \"태안군\",\n",
    "    \"EMD\": \"고남면\",\n",
    "}\n",
    "\n",
    "df = API.get_data(service, function, **params)\n",
    "df.head()"
   ]
  },
  {
   "cell_type": "markdown",
   "metadata": {},
   "source": [
    "## 통합새로운물건목록조회"
   ]
  },
  {
   "cell_type": "code",
   "execution_count": null,
   "metadata": {
    "ExecuteTime": {
     "end_time": "2022-12-02T08:24:21.053113Z",
     "start_time": "2022-12-02T08:24:20.928838Z"
    }
   },
   "outputs": [],
   "source": [
    "service = \"물건정보\"\n",
    "function = \"통합새로운물건목록\"\n",
    "params = {\n",
    "    \"DPSL_MTD_CD\": \"0001\",\n",
    "    \"CTGR_HIRK_ID\": \"10000\",\n",
    "    \"CTGR_HIRK_ID_MID\": \"10200\",\n",
    "    \"SIDO\": \"서울특별시\",\n",
    "}\n",
    "\n",
    "df = API.get_data(service, function, **params)\n",
    "df.head()"
   ]
  },
  {
   "cell_type": "markdown",
   "metadata": {},
   "source": [
    "## 통합마감임박물건목록조회"
   ]
  },
  {
   "cell_type": "code",
   "execution_count": null,
   "metadata": {
    "ExecuteTime": {
     "end_time": "2022-12-02T08:24:21.053113Z",
     "start_time": "2022-12-02T08:24:20.928838Z"
    },
    "scrolled": true
   },
   "outputs": [],
   "source": [
    "service = \"물건정보\"\n",
    "function = \"통합마감임박물건목록\"\n",
    "params = {\n",
    "    \"DPSL_MTD_CD\": \"0001\",\n",
    "    \"CTGR_HIRK_ID\": \"10000\",\n",
    "    \"CTGR_HIRK_ID_MID\": \"10200\",\n",
    "    \"SIDO\": \"충청남도\",\n",
    "}\n",
    "\n",
    "df = API.get_data(service, function, **params)\n",
    "df.head()"
   ]
  },
  {
   "cell_type": "markdown",
   "metadata": {},
   "source": [
    "## 통합수의계약가능물건목록조회"
   ]
  },
  {
   "cell_type": "code",
   "execution_count": null,
   "metadata": {
    "ExecuteTime": {
     "end_time": "2022-12-02T08:24:21.053113Z",
     "start_time": "2022-12-02T08:24:20.928838Z"
    }
   },
   "outputs": [],
   "source": [
    "service = \"물건정보\"\n",
    "function = \"통합수의계약가능물건목록\"\n",
    "params = {\n",
    "    \"DPSL_MTD_CD\": \"0001\",\n",
    "    \"CTGR_HIRK_ID\": \"10000\",\n",
    "    \"CTGR_HIRK_ID_MID\": \"10200\",\n",
    "    \"SIDO\": \"서울특별시\",\n",
    "}\n",
    "\n",
    "df = API.get_data(service, function, **params)\n",
    "df.head()"
   ]
  },
  {
   "cell_type": "markdown",
   "metadata": {},
   "source": [
    "## 통합50%체감물건목록조회"
   ]
  },
  {
   "cell_type": "code",
   "execution_count": null,
   "metadata": {
    "ExecuteTime": {
     "end_time": "2022-12-02T08:24:21.053113Z",
     "start_time": "2022-12-02T08:24:20.928838Z"
    }
   },
   "outputs": [],
   "source": [
    "service = \"물건정보\"\n",
    "function = \"통합50%체감물건목록\"\n",
    "params = {\n",
    "    \"DPSL_MTD_CD\": \"0001\",\n",
    "    \"CTGR_HIRK_ID\": \"10000\",\n",
    "    \"CTGR_HIRK_ID_MID\": \"10200\",\n",
    "    \"SIDO\": \"서울특별시\",\n",
    "}\n",
    "\n",
    "df = API.get_data(service, function, **params)\n",
    "df.head()"
   ]
  },
  {
   "cell_type": "markdown",
   "metadata": {},
   "source": [
    "## 통합클릭탑20물건목록조회"
   ]
  },
  {
   "cell_type": "code",
   "execution_count": null,
   "metadata": {
    "ExecuteTime": {
     "end_time": "2022-12-02T08:24:21.053113Z",
     "start_time": "2022-12-02T08:24:20.928838Z"
    }
   },
   "outputs": [],
   "source": [
    "service = \"물건정보\"\n",
    "function = \"통합클릭탑20물건목록\"\n",
    "params = {}\n",
    "\n",
    "df = API.get_data(service, function, **params)\n",
    "df.head()"
   ]
  },
  {
   "cell_type": "markdown",
   "metadata": {},
   "source": [
    "## 통합관심탑20물건목록조회"
   ]
  },
  {
   "cell_type": "code",
   "execution_count": null,
   "metadata": {
    "ExecuteTime": {
     "end_time": "2022-12-02T08:24:21.053113Z",
     "start_time": "2022-12-02T08:24:20.928838Z"
    }
   },
   "outputs": [],
   "source": [
    "service = \"물건정보\"\n",
    "function = \"통합관심탑20물건목록\"\n",
    "params = {}\n",
    "\n",
    "df = API.get_data(service, function, **params)\n",
    "df.head()"
   ]
  },
  {
   "cell_type": "markdown",
   "metadata": {},
   "source": [
    "## 통합용도별물건 기본정보 상세조회"
   ]
  },
  {
   "cell_type": "code",
   "execution_count": null,
   "metadata": {
    "ExecuteTime": {
     "end_time": "2022-12-02T08:24:21.053113Z",
     "start_time": "2022-12-02T08:24:20.928838Z"
    }
   },
   "outputs": [],
   "source": [
    "service = \"물건정보\"\n",
    "function = \"통합용도별물건기본정보상세\"\n",
    "params = {\n",
    "    \"CLTR_NO\": \"1226758\",\n",
    "    \"PBCT_NO\": \"9301922\",\n",
    "}\n",
    "\n",
    "df = API.get_data(service, function, **params)\n",
    "df.head()"
   ]
  },
  {
   "cell_type": "markdown",
   "metadata": {},
   "source": [
    "## 통합용도별물건 감정평가서정보 상세조회"
   ]
  },
  {
   "cell_type": "code",
   "execution_count": null,
   "metadata": {
    "ExecuteTime": {
     "end_time": "2022-12-02T08:24:21.053113Z",
     "start_time": "2022-12-02T08:24:20.928838Z"
    }
   },
   "outputs": [],
   "source": [
    "service = \"물건정보\"\n",
    "function = \"통합용도별물건감정평가서정보상세\"\n",
    "params = {\n",
    "    \"CLTR_NO\": \"1226758\",\n",
    "    \"PBCT_NO\": \"9301922\",\n",
    "}\n",
    "\n",
    "df = API.get_data(service, function, **params)\n",
    "df"
   ]
  },
  {
   "cell_type": "markdown",
   "metadata": {},
   "source": [
    "## 통합용도별물건 임대차정보 상세조회"
   ]
  },
  {
   "cell_type": "code",
   "execution_count": null,
   "metadata": {
    "ExecuteTime": {
     "end_time": "2022-12-02T08:24:21.053113Z",
     "start_time": "2022-12-02T08:24:20.928838Z"
    }
   },
   "outputs": [],
   "source": [
    "service = \"물건정보\"\n",
    "function = \"통합용도별물건임대차정보상세\"\n",
    "params = {\n",
    "    \"CLTR_NO\": \"1600012\",\n",
    "    \"PBCT_NO\": \"9638282\",\n",
    "}\n",
    "\n",
    "df = API.get_data(service, function, **params)\n",
    "df.head()"
   ]
  },
  {
   "cell_type": "markdown",
   "metadata": {},
   "source": [
    "## 통합용도별물건 권리종류정보 상세조회"
   ]
  },
  {
   "cell_type": "code",
   "execution_count": null,
   "metadata": {
    "ExecuteTime": {
     "end_time": "2022-12-02T08:24:21.053113Z",
     "start_time": "2022-12-02T08:24:20.928838Z"
    }
   },
   "outputs": [],
   "source": [
    "service = \"물건정보\"\n",
    "function = \"통합용도별물건권리종류정보상세\"\n",
    "params = {\n",
    "    \"CLTR_NO\": \"1226758\",\n",
    "    \"PBCT_NO\": \"9301922\",\n",
    "}\n",
    "\n",
    "df = API.get_data(service, function, **params)\n",
    "df"
   ]
  },
  {
   "cell_type": "markdown",
   "metadata": {},
   "source": [
    "## 통합용도별물건 공매일정 상세조회"
   ]
  },
  {
   "cell_type": "code",
   "execution_count": null,
   "metadata": {
    "ExecuteTime": {
     "end_time": "2022-12-02T08:24:21.053113Z",
     "start_time": "2022-12-02T08:24:20.928838Z"
    },
    "scrolled": true
   },
   "outputs": [],
   "source": [
    "service = \"물건정보\"\n",
    "function = \"통합용도별물건공매일정상세\"\n",
    "params = {\n",
    "    \"CLTR_NO\": \"1226758\",\n",
    "    \"PBCT_NO\": \"9301922\",\n",
    "}\n",
    "\n",
    "df = API.get_data(service, function, **params)\n",
    "df"
   ]
  },
  {
   "cell_type": "markdown",
   "metadata": {},
   "source": [
    "## 통합용도별물건 입찰이력 상세조회"
   ]
  },
  {
   "cell_type": "code",
   "execution_count": null,
   "metadata": {
    "ExecuteTime": {
     "end_time": "2022-12-02T08:24:21.053113Z",
     "start_time": "2022-12-02T08:24:20.928838Z"
    }
   },
   "outputs": [],
   "source": [
    "service = \"물건정보\"\n",
    "function = \"통합용도별물건입찰이력상세\"\n",
    "params = {\n",
    "    \"CLTR_NO\": \"1226758\",\n",
    "    \"PBCT_NO\": \"9301922\",\n",
    "}\n",
    "\n",
    "df = API.get_data(service, function, **params)\n",
    "df.head()"
   ]
  },
  {
   "cell_type": "markdown",
   "metadata": {},
   "source": [
    "## 통합용도별물건 주주정보 상세조회"
   ]
  },
  {
   "cell_type": "code",
   "execution_count": null,
   "metadata": {
    "ExecuteTime": {
     "end_time": "2022-12-02T08:24:21.053113Z",
     "start_time": "2022-12-02T08:24:20.928838Z"
    }
   },
   "outputs": [],
   "source": [
    "service = \"물건정보\"\n",
    "function = \"통합용도별물건주주정보상세\"\n",
    "params = {\n",
    "    \"CLTR_NO\": \"1176660\",\n",
    "    \"PBCT_NO\": \"9272855\",\n",
    "}\n",
    "\n",
    "df = API.get_data(service, function, **params)\n",
    "df.head()"
   ]
  },
  {
   "cell_type": "markdown",
   "metadata": {},
   "source": [
    "## 통합용도별물건 법인현황정보 상세조회"
   ]
  },
  {
   "cell_type": "code",
   "execution_count": null,
   "metadata": {
    "ExecuteTime": {
     "end_time": "2022-12-02T08:24:21.053113Z",
     "start_time": "2022-12-02T08:24:20.928838Z"
    }
   },
   "outputs": [],
   "source": [
    "service = \"물건정보\"\n",
    "function = \"통합용도별물건법인현황정보상세\"\n",
    "params = {\n",
    "    \"CLTR_NO\": \"1176660\",\n",
    "    \"PBCT_NO\": \"9272855\",\n",
    "}\n",
    "\n",
    "df = API.get_data(service, function, **params)\n",
    "df.head()"
   ]
  }
 ],
 "metadata": {
  "hide_input": false,
  "kernelspec": {
   "display_name": "Python 3.9.12 ('venv': venv)",
   "language": "python",
   "name": "python3"
  },
  "language_info": {
   "codemirror_mode": {
    "name": "ipython",
    "version": 3
   },
   "file_extension": ".py",
   "mimetype": "text/x-python",
   "name": "python",
   "nbconvert_exporter": "python",
   "pygments_lexer": "ipython3",
   "version": "3.9.12"
  },
  "toc": {
   "base_numbering": 1,
   "nav_menu": {},
   "number_sections": true,
   "sideBar": true,
   "skip_h1_title": false,
   "title_cell": "Table of Contents",
   "title_sidebar": "Contents",
   "toc_cell": false,
   "toc_position": {
    "height": "calc(100% - 180px)",
    "left": "10px",
    "top": "150px",
    "width": "234.707px"
   },
   "toc_section_display": true,
   "toc_window_display": true
  },
  "varInspector": {
   "cols": {
    "lenName": 16,
    "lenType": 16,
    "lenVar": 40
   },
   "kernels_config": {
    "python": {
     "delete_cmd_postfix": "",
     "delete_cmd_prefix": "del ",
     "library": "var_list.py",
     "varRefreshCmd": "print(var_dic_list())"
    },
    "r": {
     "delete_cmd_postfix": ") ",
     "delete_cmd_prefix": "rm(",
     "library": "var_list.r",
     "varRefreshCmd": "cat(var_dic_list()) "
    }
   },
   "oldHeight": 237.13578,
   "position": {
    "height": "440.117px",
    "left": "491.674px",
    "right": "20px",
    "top": "85.9445px",
    "width": "613.965px"
   },
   "types_to_exclude": [
    "module",
    "function",
    "builtin_function_or_method",
    "instance",
    "_Feature"
   ],
   "varInspector_section_display": "block",
   "window_display": false
  },
  "vscode": {
   "interpreter": {
    "hash": "fcea6e6e55b259976681c8a35a3648f8ff7299129df47a05aebb6686c5e7010e"
   }
  }
 },
 "nbformat": 4,
 "nbformat_minor": 4
}
