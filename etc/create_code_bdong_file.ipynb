{
 "cells": [
  {
   "cell_type": "code",
   "execution_count": 6,
   "metadata": {},
   "outputs": [],
   "source": [
    "import pandas as pd\n",
    "import json\n",
    "\n",
    "# 법정동코드 최신 엑셀 파일 데이터프레임으로 로드\n",
    "df = pd.read_excel(\"./PublicDataReader/raw/KIKcd_B.20220701(말소코드포함).xlsx\", dtype=str)\n"
   ]
  },
  {
   "cell_type": "code",
   "execution_count": 8,
   "metadata": {},
   "outputs": [],
   "source": [
    "df['시도코드'] = df['법정동코드'].str[:2]\n",
    "df['시군구코드'] = df['법정동코드'].str[:5]\n",
    "df = df[['시도코드','시도명','시군구코드','시군구명','법정동코드','읍면동명','동리명','생성일자','말소일자']]"
   ]
  },
  {
   "cell_type": "code",
   "execution_count": 10,
   "metadata": {},
   "outputs": [],
   "source": [
    "# 데이터프레임을 딕셔너리로 변환\n",
    "df_dict = df.to_dict()\n",
    "\n",
    "with open(\"./PublicDataReader/raw/code_bdong.json\", \"w\") as f:\n",
    "    f.write(json.dumps(df_dict))\n",
    "    f.close()"
   ]
  }
 ],
 "metadata": {
  "kernelspec": {
   "display_name": "Python 3.9.7 ('venv': venv)",
   "language": "python",
   "name": "python3"
  },
  "language_info": {
   "codemirror_mode": {
    "name": "ipython",
    "version": 3
   },
   "file_extension": ".py",
   "mimetype": "text/x-python",
   "name": "python",
   "nbconvert_exporter": "python",
   "pygments_lexer": "ipython3",
   "version": "3.9.7"
  },
  "orig_nbformat": 4,
  "vscode": {
   "interpreter": {
    "hash": "fcea6e6e55b259976681c8a35a3648f8ff7299129df47a05aebb6686c5e7010e"
   }
  }
 },
 "nbformat": 4,
 "nbformat_minor": 2
}
