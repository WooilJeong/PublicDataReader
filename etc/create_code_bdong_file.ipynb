{
 "cells": [
  {
   "cell_type": "code",
   "execution_count": 1,
   "metadata": {},
   "outputs": [],
   "source": [
    "import pandas as pd\n",
    "import json\n",
    "import glob\n",
    "\n",
    "법정동코드_경로 = glob.glob(\"../PublicDataReader/raw/KIKcd_B*.xlsx\")[0]\n",
    "행정동코드_경로 = glob.glob(\"../PublicDataReader/raw/KIKcd_H*.xlsx\")[0]\n",
    "혼합코드_경로 = glob.glob(\"../PublicDataReader/raw/KIKmix*.xlsx\")[0]\n",
    "\n",
    "법정동코드 = pd.read_excel(법정동코드_경로, dtype=str)\n",
    "행정동코드 = pd.read_excel(행정동코드_경로, dtype=str)\n",
    "혼합코드 = pd.read_excel(혼합코드_경로, dtype=str)"
   ]
  },
  {
   "cell_type": "code",
   "execution_count": 2,
   "metadata": {},
   "outputs": [],
   "source": [
    "법정동코드['시도코드'] = 법정동코드['법정동코드'].str[:2]\n",
    "법정동코드['시군구코드'] = 법정동코드['법정동코드'].str[:5]\n",
    "컬럼목록 = ['시도코드','시도명','시군구코드','시군구명','법정동코드','읍면동명','동리명','생성일자','말소일자']\n",
    "법정동코드 = 법정동코드[컬럼목록]"
   ]
  },
  {
   "cell_type": "code",
   "execution_count": 3,
   "metadata": {},
   "outputs": [],
   "source": [
    "행정동코드['시도코드'] = 행정동코드['행정동코드'].str[:2]\n",
    "행정동코드['시군구코드'] = 행정동코드['행정동코드'].str[:5]\n",
    "컬럼목록 = ['시도코드','시도명','시군구코드','시군구명','행정동코드','읍면동명','생성일자','말소일자']\n",
    "행정동코드 = 행정동코드[컬럼목록]"
   ]
  },
  {
   "cell_type": "code",
   "execution_count": 4,
   "metadata": {},
   "outputs": [],
   "source": [
    "혼합코드['시도코드'] = 혼합코드['행정동코드'].str[:2]\n",
    "혼합코드['시군구코드'] = 혼합코드['행정동코드'].str[:5]\n",
    "컬럼목록 = ['시도코드','시도명','시군구코드','시군구명','행정동코드','읍면동명','법정동코드','동리명','생성일자','말소일자']\n",
    "혼합코드 = 혼합코드[컬럼목록]"
   ]
  },
  {
   "cell_type": "code",
   "execution_count": 5,
   "metadata": {},
   "outputs": [],
   "source": [
    "# 데이터프레임을 딕셔너리로 변환\n",
    "법정동코드_딕셔너리 = 법정동코드.to_dict()\n",
    "행정동코드_딕셔너리 = 행정동코드.to_dict()\n",
    "혼합코드_딕셔너리 = 혼합코드.to_dict()\n",
    "\n",
    "with open(\"../PublicDataReader/raw/code_bdong.json\", \"w\") as f:\n",
    "    f.write(json.dumps(법정동코드_딕셔너리))\n",
    "    f.close()\n",
    "\n",
    "with open(\"../PublicDataReader/raw/code_hdong.json\", \"w\") as f:\n",
    "    f.write(json.dumps(행정동코드_딕셔너리))\n",
    "    f.close()\n",
    "\n",
    "with open(\"../PublicDataReader/raw/code_hdong_bdong.json\", \"w\") as f:\n",
    "    f.write(json.dumps(혼합코드_딕셔너리))\n",
    "    f.close()"
   ]
  },
  {
   "attachments": {},
   "cell_type": "markdown",
   "metadata": {},
   "source": [
    "- 데이터 출처: [행정기관(행정동) 및 관할구역(법정동) 변경내역(2023. 5. 1. 시행)](https://www.mois.go.kr/frt/bbs/type001/commonSelectBoardArticle.do?bbsId=BBSMSTR_000000000052&nttId=100215)"
   ]
  }
 ],
 "metadata": {
  "kernelspec": {
   "display_name": "Python 3.9.7 ('venv': venv)",
   "language": "python",
   "name": "python3"
  },
  "language_info": {
   "codemirror_mode": {
    "name": "ipython",
    "version": 3
   },
   "file_extension": ".py",
   "mimetype": "text/x-python",
   "name": "python",
   "nbconvert_exporter": "python",
   "pygments_lexer": "ipython3",
   "version": "3.9.12"
  },
  "orig_nbformat": 4,
  "vscode": {
   "interpreter": {
    "hash": "fcea6e6e55b259976681c8a35a3648f8ff7299129df47a05aebb6686c5e7010e"
   }
  }
 },
 "nbformat": 4,
 "nbformat_minor": 2
}
