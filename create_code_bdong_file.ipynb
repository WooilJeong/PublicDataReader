{
 "cells": [
  {
   "cell_type": "code",
   "execution_count": 4,
   "metadata": {},
   "outputs": [],
   "source": [
    "import pandas as pd\n",
    "import json\n",
    "\n",
    "# 법정동코드 최신 엑셀 파일 데이터프레임으로 로드\n",
    "df = pd.read_excel(\"./PublicDataReader/raw/KIKcd_B.20220701(말소코드포함).xlsx\")\n",
    "# 데이터프레임을 딕셔너리로 변환\n",
    "df_dict = df.to_dict()\n",
    "\n",
    "with open(\"./PublicDataReader/raw/code_bdong.json\", \"w\") as f:\n",
    "    f.write(json.dumps(df_dict))\n",
    "    f.close()"
   ]
  }
 ],
 "metadata": {
  "kernelspec": {
   "display_name": "Python 3.8.5 ('venv': venv)",
   "language": "python",
   "name": "python3"
  },
  "language_info": {
   "codemirror_mode": {
    "name": "ipython",
    "version": 3
   },
   "file_extension": ".py",
   "mimetype": "text/x-python",
   "name": "python",
   "nbconvert_exporter": "python",
   "pygments_lexer": "ipython3",
   "version": "3.8.5"
  },
  "orig_nbformat": 4,
  "vscode": {
   "interpreter": {
    "hash": "fc0796ae8d695a872433787de6f786d64f33e7a71cb149dcf4f613e8a950a352"
   }
  }
 },
 "nbformat": 4,
 "nbformat_minor": 2
}
