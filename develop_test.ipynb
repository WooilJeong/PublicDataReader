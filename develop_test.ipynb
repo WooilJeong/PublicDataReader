{
 "cells": [
  {
   "cell_type": "code",
   "execution_count": 1,
   "metadata": {
    "ExecuteTime": {
     "end_time": "2021-11-15T16:15:05.203055Z",
     "start_time": "2021-11-15T16:15:05.189494Z"
    }
   },
   "outputs": [
    {
     "name": "stdout",
     "output_type": "stream",
     "text": [
      "2022.07.13\n",
      "['__version__', '__author__', '__contact__', '__github__', 'Transaction', 'Building', 'StoreInfo', 'Transportation', 'code_bdong']\n"
     ]
    }
   ],
   "source": [
    "# 1. 라이브러리 임포트 및 버전 확인하기\n",
    "import PublicDataReader as pdr\n",
    "from config import API_KEY_INFO\n",
    "print(pdr.__version__)"
   ]
  },
  {
   "cell_type": "code",
   "execution_count": 2,
   "metadata": {},
   "outputs": [],
   "source": [
    "# 2. 공공 데이터 포털 OpenAPI 서비스 인증키 입력하기\n",
    "serviceKey = API_KEY_INFO.get(\"portal\")"
   ]
  },
  {
   "cell_type": "code",
   "execution_count": 3,
   "metadata": {},
   "outputs": [
    {
     "name": "stderr",
     "output_type": "stream",
     "text": [
      "[INFO] 아파트 매매 조회 서비스 정상 - (00) NORMAL SERVICE.\n",
      "[INFO] 아파트 전월세 조회 서비스 정상 - (00) NORMAL SERVICE.\n",
      "[ERROR] 오피스텔 매매 조회 서비스 오류 - (99) DEADLINE HAS EXPIRED ERROR.\n",
      "[INFO] 오피스텔 전월세 조회 서비스 정상 - (00) NORMAL SERVICE.\n",
      "[ERROR] 단독다가구 매매 조회 서비스 오류 - (99) SERVICE ACCESS DENIED ERROR.\n",
      "[ERROR] 단독다가구 전월세 조회 서비스 오류 - (99) DEADLINE HAS EXPIRED ERROR.\n",
      "[ERROR] 연립다세대 매매 조회 서비스 오류 - (99) DEADLINE HAS EXPIRED ERROR.\n",
      "[ERROR] 연립다세대 전월세 조회 서비스 오류 - (99) DEADLINE HAS EXPIRED ERROR.\n",
      "[INFO] 상업업무용 매매 조회 서비스 정상 - (00) NORMAL SERVICE.\n",
      "[ERROR] 토지 매매 조회 서비스 오류 - (99) DEADLINE HAS EXPIRED ERROR.\n",
      "[ERROR] 분양입주권 매매 조회 서비스 오류 - (99) DEADLINE HAS EXPIRED ERROR.\n",
      "[ERROR] 공장창고등 매매 조회 서비스 오류 - (99) SERVICE ACCESS DENIED ERROR.\n"
     ]
    }
   ],
   "source": [
    "# 3. 국토교통부 실거래가 정보 조회 OpenAPI 세션 정의하기\n",
    "# debug: True이면 모든 메시지 출력, False이면 오류 메시지만 출력 (기본값: False)\n",
    "ts = pdr.Transaction(serviceKey, debug=True)"
   ]
  },
  {
   "cell_type": "code",
   "execution_count": null,
   "metadata": {},
   "outputs": [],
   "source": []
  },
  {
   "cell_type": "code",
   "execution_count": null,
   "metadata": {},
   "outputs": [],
   "source": []
  },
  {
   "cell_type": "code",
   "execution_count": null,
   "metadata": {},
   "outputs": [],
   "source": []
  },
  {
   "cell_type": "code",
   "execution_count": null,
   "metadata": {},
   "outputs": [],
   "source": []
  },
  {
   "cell_type": "code",
   "execution_count": null,
   "metadata": {},
   "outputs": [],
   "source": []
  },
  {
   "cell_type": "code",
   "execution_count": null,
   "metadata": {},
   "outputs": [],
   "source": []
  },
  {
   "cell_type": "code",
   "execution_count": null,
   "metadata": {
    "ExecuteTime": {
     "end_time": "2021-11-15T15:42:40.724236Z",
     "start_time": "2021-11-15T15:42:40.706149Z"
    }
   },
   "outputs": [],
   "source": [
    "import PublicDataReader as pdr\n",
    "from config import OpenAPI\n",
    "import pandas as pd\n",
    "import datetime\n",
    "import logging\n",
    "import requests\n",
    "from bs4 import BeautifulSoup\n",
    "\n",
    "# DataFrame 디스플레이 설정\n",
    "pd.set_option('display.max_columns', 250)\n",
    "pd.set_option('display.max_rows', 250)\n",
    "pd.set_option('display.width', 100)\n",
    "\n",
    "print(pdr.__all__)\n",
    "print(pdr.__version__)\n",
    "# print(pdr.__info__)"
   ]
  },
  {
   "cell_type": "code",
   "execution_count": null,
   "metadata": {
    "ExecuteTime": {
     "end_time": "2021-11-15T15:42:44.269894Z",
     "start_time": "2021-11-15T15:42:41.391792Z"
    }
   },
   "outputs": [],
   "source": [
    "# 공공 데이터 포털 서비스키\n",
    "serviceKey = OpenAPI['molit']\n",
    "\n",
    "# 실거래가\n",
    "ts = pdr.Transaction(serviceKey, debug=False)\n",
    "# 건축물대장\n",
    "bd = pdr.Building(serviceKey, debug=False)\n",
    "# 상가업소\n",
    "si = pdr.StoreInfo(serviceKey, debug=False)"
   ]
  },
  {
   "cell_type": "code",
   "execution_count": null,
   "metadata": {
    "ExecuteTime": {
     "end_time": "2021-11-15T07:53:08.983369Z",
     "start_time": "2021-11-15T07:53:08.969351Z"
    }
   },
   "outputs": [],
   "source": [
    "# 서울 열린데이터 광장 서비스키\n",
    "seoulServiceKey = OpenAPI['seoul']\n",
    "\n",
    "# 지하철승하차\n",
    "self = pdr.Transportation(seoulServiceKey, debug=True)"
   ]
  },
  {
   "cell_type": "code",
   "execution_count": null,
   "metadata": {
    "ExecuteTime": {
     "end_time": "2021-11-15T07:47:11.642078Z",
     "start_time": "2021-11-15T07:47:10.881749Z"
    }
   },
   "outputs": [],
   "source": [
    "category = \"지하철승하차\"\n",
    "date = \"20211101\"\n",
    "df = self.read_data(category, date=date)\n",
    "df"
   ]
  },
  {
   "cell_type": "code",
   "execution_count": null,
   "metadata": {
    "ExecuteTime": {
     "end_time": "2021-11-15T07:48:13.374435Z",
     "start_time": "2021-11-15T07:48:09.162682Z"
    },
    "scrolled": true
   },
   "outputs": [],
   "source": [
    "category = \"버스승하차\"\n",
    "date = \"20211031\"\n",
    "df = self.read_data(category, date=date)\n",
    "df"
   ]
  },
  {
   "cell_type": "code",
   "execution_count": null,
   "metadata": {},
   "outputs": [],
   "source": []
  },
  {
   "cell_type": "code",
   "execution_count": null,
   "metadata": {},
   "outputs": [],
   "source": []
  },
  {
   "cell_type": "code",
   "execution_count": null,
   "metadata": {
    "ExecuteTime": {
     "end_time": "2021-11-15T05:38:39.998208Z",
     "start_time": "2021-11-15T05:38:39.908212Z"
    },
    "scrolled": false
   },
   "outputs": [],
   "source": [
    "# 행정구역코드 조회\n",
    "code = pdr.code_list()\n",
    "code"
   ]
  },
  {
   "cell_type": "code",
   "execution_count": null,
   "metadata": {
    "ExecuteTime": {
     "end_time": "2021-11-15T05:40:59.319237Z",
     "start_time": "2021-11-15T05:40:57.697225Z"
    }
   },
   "outputs": [],
   "source": [
    "# 실거래가 조회\n",
    "prod = \"아파트\"\n",
    "trans = \"매매\"\n",
    "sigunguCode = \"41135\"\n",
    "startYearMonth = \"202110\"\n",
    "endYearMonth = \"202111\"\n",
    "\n",
    "df = ts.collect_data(prod, trans, sigunguCode, startYearMonth, endYearMonth)\n",
    "df.tail(1)"
   ]
  },
  {
   "cell_type": "code",
   "execution_count": null,
   "metadata": {
    "ExecuteTime": {
     "end_time": "2021-11-15T05:41:02.393897Z",
     "start_time": "2021-11-15T05:41:02.221648Z"
    }
   },
   "outputs": [],
   "source": [
    "# 건축물대장 조회\n",
    "category = \"총괄표제부\"\n",
    "sigunguCd = \"41135\"\n",
    "bjdongCd = \"11000\"\n",
    "bun = \"0542\"\n",
    "ji = \"0000\"\n",
    "\n",
    "df = bd.read_data(category=category, sigunguCd=sigunguCd, bjdongCd=bjdongCd, bun=bun, ji=ji)\n",
    "df.tail(1)"
   ]
  },
  {
   "cell_type": "code",
   "execution_count": null,
   "metadata": {
    "ExecuteTime": {
     "end_time": "2021-11-15T05:41:07.786403Z",
     "start_time": "2021-11-15T05:41:06.973734Z"
    }
   },
   "outputs": [],
   "source": [
    "# 상가업소 조회\n",
    "category = \"지번상가\"\n",
    "key = '1165010100108120002'\n",
    "indsLclsCd = 'Q'\n",
    "\n",
    "df = si.read_data(category=category, key=key, indsLclsCd=indsLclsCd)\n",
    "df.tail(1)"
   ]
  },
  {
   "cell_type": "code",
   "execution_count": null,
   "metadata": {},
   "outputs": [],
   "source": []
  },
  {
   "cell_type": "code",
   "execution_count": null,
   "metadata": {},
   "outputs": [],
   "source": []
  },
  {
   "cell_type": "markdown",
   "metadata": {},
   "source": [
    "## 컬럼 리스트 추출"
   ]
  },
  {
   "cell_type": "code",
   "execution_count": null,
   "metadata": {
    "ExecuteTime": {
     "end_time": "2021-11-10T08:30:22.486468Z",
     "start_time": "2021-11-10T08:30:15.941628Z"
    },
    "scrolled": true
   },
   "outputs": [],
   "source": [
    "# LAWD_CD=11680\n",
    "# DEAL_YMD=202110\n",
    "\n",
    "\n",
    "# for prod in ['아파트','오피스텔','단독다가구','연립다세대','상업업무용','분양입주권','토지']:\n",
    "#     for trans in ['매매', '전월세']:\n",
    "#         try:\n",
    "#             print()\n",
    "#             print(f\">> {prod} {trans}\")\n",
    "#             print()\n",
    "#             service_url = self.metaDict[prod][trans]['url']\n",
    "\n",
    "#             # URL\n",
    "#             url=f\"\"\"\\\n",
    "# {service_url}\\\n",
    "# &LAWD_CD={str(LAWD_CD)}\\\n",
    "# &DEAL_YMD={str(DEAL_YMD)}\\\n",
    "# &numOfRows=99999\\\n",
    "#             \"\"\"\n",
    "\n",
    "#             result = requests.get(url, verify=False)\n",
    "#             xmlsoup = BeautifulSoup(result.text, \"lxml-xml\")\n",
    "#             item = xmlsoup.find(\"item\")\n",
    "\n",
    "#             col_list = []\n",
    "#             for i in item:\n",
    "#                 col_list.append(i.name)\n",
    "#             for col in col_list: \n",
    "#                 print(f\"'{col}'\", end=',')\n",
    "                \n",
    "#         except:\n",
    "#             print(\"Error\")\n",
    "#             pass"
   ]
  },
  {
   "cell_type": "markdown",
   "metadata": {},
   "source": [
    "### Features\n",
    "\n",
    "- 공통\n",
    "\n",
    "    - 로깅 기능\n",
    "        - 세션 초기화 시 `debug` 인자 추가\n",
    "            - False(Default): 오류 레벨만 출력\n",
    "            - True: 모든 레벨 출력\n",
    "        - OPEN API 에러 코드 출력\n",
    "\n",
    "    - Air Korea Open API 모듈 제거\n",
    "    \n",
    "    - 법정동코드 테이블 조회 함수 추가\n",
    "\n",
    "- 부동산 실거래가\n",
    "\n",
    "    - 데이터 조회 메서드 일원화\n",
    "        - molit.read_data('아파트', '매매', '11680', '202111')\n",
    "            - 서비스별 End-point 및 컬럼 매핑 딕셔너리 추가\n",
    "    - 데이터 수집 메서드 신규 메서드 추가\n",
    "        - molit.collect_data('아파트', '매매', '11680', '202101', '202103')\n",
    "\n",
    "- 건축물대장\n",
    "    \n",
    "    - 데이터 조회 메서드 일원화\n",
    "        - molit.read_data(category, sigunguCd=sigunguCd, bjdongCd=bjdongCd, bun=bun, ji=ji)\n",
    "        \n",
    "- 서울 열린데이터 광장\n",
    "    - 교통\n",
    "        - 지하철 호선별 역별 승하차\n",
    "        - 버스 노선별 정류장별 승하차"
   ]
  }
 ],
 "metadata": {
  "hide_input": false,
  "kernelspec": {
   "display_name": "Python 3.8.5 ('venv': venv)",
   "language": "python",
   "name": "python3"
  },
  "language_info": {
   "codemirror_mode": {
    "name": "ipython",
    "version": 3
   },
   "file_extension": ".py",
   "mimetype": "text/x-python",
   "name": "python",
   "nbconvert_exporter": "python",
   "pygments_lexer": "ipython3",
   "version": "3.8.5"
  },
  "toc": {
   "base_numbering": 1,
   "nav_menu": {},
   "number_sections": true,
   "sideBar": true,
   "skip_h1_title": false,
   "title_cell": "Table of Contents",
   "title_sidebar": "Contents",
   "toc_cell": false,
   "toc_position": {},
   "toc_section_display": true,
   "toc_window_display": false
  },
  "varInspector": {
   "cols": {
    "lenName": 16,
    "lenType": 16,
    "lenVar": 40
   },
   "kernels_config": {
    "python": {
     "delete_cmd_postfix": "",
     "delete_cmd_prefix": "del ",
     "library": "var_list.py",
     "varRefreshCmd": "print(var_dic_list())"
    },
    "r": {
     "delete_cmd_postfix": ") ",
     "delete_cmd_prefix": "rm(",
     "library": "var_list.r",
     "varRefreshCmd": "cat(var_dic_list()) "
    }
   },
   "types_to_exclude": [
    "module",
    "function",
    "builtin_function_or_method",
    "instance",
    "_Feature"
   ],
   "window_display": false
  },
  "vscode": {
   "interpreter": {
    "hash": "fc0796ae8d695a872433787de6f786d64f33e7a71cb149dcf4f613e8a950a352"
   }
  }
 },
 "nbformat": 4,
 "nbformat_minor": 4
}
