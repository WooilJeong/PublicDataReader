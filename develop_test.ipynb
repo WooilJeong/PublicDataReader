{
 "cells": [
  {
   "cell_type": "code",
   "execution_count": 1,
   "metadata": {
    "ExecuteTime": {
     "end_time": "2021-11-15T16:15:05.203055Z",
     "start_time": "2021-11-15T16:15:05.189494Z"
    }
   },
   "outputs": [
    {
     "name": "stdout",
     "output_type": "stream",
     "text": [
      "1.0.0\n"
     ]
    }
   ],
   "source": [
    "import PublicDataReader as pdr\n",
    "from config import API_KEY_INFO\n",
    "print(pdr.__version__)\n",
    "_portal = API_KEY_INFO.get(\"portal\")\n",
    "_seoul = API_KEY_INFO.get(\"seoul\")"
   ]
  },
  {
   "cell_type": "code",
   "execution_count": 2,
   "metadata": {},
   "outputs": [
    {
     "name": "stderr",
     "output_type": "stream",
     "text": [
      "[INFO] 아파트 매매 조회 서비스 정상 - (00) NORMAL SERVICE.\n",
      "[INFO] 아파트 전월세 조회 서비스 정상 - (00) NORMAL SERVICE.\n",
      "[INFO] 오피스텔 매매 조회 서비스 정상 - (00) NORMAL SERVICE.\n",
      "[INFO] 오피스텔 전월세 조회 서비스 정상 - (00) NORMAL SERVICE.\n",
      "[INFO] 단독다가구 매매 조회 서비스 정상 - (00) NORMAL SERVICE.\n",
      "[INFO] 단독다가구 전월세 조회 서비스 정상 - (00) NORMAL SERVICE.\n",
      "[INFO] 연립다세대 매매 조회 서비스 정상 - (00) NORMAL SERVICE.\n",
      "[INFO] 연립다세대 전월세 조회 서비스 정상 - (00) NORMAL SERVICE.\n",
      "[INFO] 상업업무용 매매 조회 서비스 정상 - (00) NORMAL SERVICE.\n",
      "[INFO] 토지 매매 조회 서비스 정상 - (00) NORMAL SERVICE.\n",
      "[INFO] 분양입주권 매매 조회 서비스 정상 - (00) NORMAL SERVICE.\n",
      "[INFO] 공장창고등 매매 조회 서비스 정상 - (00) NORMAL SERVICE.\n",
      "[INFO] 기본개요 조회 서비스 정상 - (00) NORMAL SERVICE.\n",
      "[INFO] 총괄표제부 조회 서비스 정상 - (00) NORMAL SERVICE.\n",
      "[INFO] 표제부 조회 서비스 정상 - (00) NORMAL SERVICE.\n",
      "[INFO] 층별개요 조회 서비스 정상 - (00) NORMAL SERVICE.\n",
      "[INFO] 부속지번 조회 서비스 정상 - (00) NORMAL SERVICE.\n",
      "[INFO] 전유공용면적 조회 서비스 정상 - (00) NORMAL SERVICE.\n",
      "[INFO] 오수정화시설 조회 서비스 정상 - (00) NORMAL SERVICE.\n",
      "[INFO] 주택가격 조회 서비스 정상 - (00) NORMAL SERVICE.\n",
      "[INFO] 전유부 조회 서비스 정상 - (00) NORMAL SERVICE.\n",
      "[INFO] 지역지구구역 조회 서비스 정상 - (00) NORMAL SERVICE.\n"
     ]
    }
   ],
   "source": [
    "ts = pdr.Transaction(_portal, debug=True)\n",
    "bd = pdr.Building(_portal, debug=True)\n",
    "si = pdr.StoreInfo(_portal, debug=True)\n",
    "se = pdr.Transportation(_seoul, debug=True)"
   ]
  }
 ],
 "metadata": {
  "hide_input": false,
  "kernelspec": {
   "display_name": "Python 3.8.5 ('venv': venv)",
   "language": "python",
   "name": "python3"
  },
  "language_info": {
   "codemirror_mode": {
    "name": "ipython",
    "version": 3
   },
   "file_extension": ".py",
   "mimetype": "text/x-python",
   "name": "python",
   "nbconvert_exporter": "python",
   "pygments_lexer": "ipython3",
   "version": "3.8.5"
  },
  "toc": {
   "base_numbering": 1,
   "nav_menu": {},
   "number_sections": true,
   "sideBar": true,
   "skip_h1_title": false,
   "title_cell": "Table of Contents",
   "title_sidebar": "Contents",
   "toc_cell": false,
   "toc_position": {},
   "toc_section_display": true,
   "toc_window_display": false
  },
  "varInspector": {
   "cols": {
    "lenName": 16,
    "lenType": 16,
    "lenVar": 40
   },
   "kernels_config": {
    "python": {
     "delete_cmd_postfix": "",
     "delete_cmd_prefix": "del ",
     "library": "var_list.py",
     "varRefreshCmd": "print(var_dic_list())"
    },
    "r": {
     "delete_cmd_postfix": ") ",
     "delete_cmd_prefix": "rm(",
     "library": "var_list.r",
     "varRefreshCmd": "cat(var_dic_list()) "
    }
   },
   "types_to_exclude": [
    "module",
    "function",
    "builtin_function_or_method",
    "instance",
    "_Feature"
   ],
   "window_display": false
  },
  "vscode": {
   "interpreter": {
    "hash": "fc0796ae8d695a872433787de6f786d64f33e7a71cb149dcf4f613e8a950a352"
   }
  }
 },
 "nbformat": 4,
 "nbformat_minor": 4
}
