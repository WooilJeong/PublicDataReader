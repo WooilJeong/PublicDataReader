{
 "cells": [
  {
   "cell_type": "markdown",
   "metadata": {},
   "source": [
    "# KOSIS OPEN API"
   ]
  },
  {
   "cell_type": "code",
   "execution_count": 1,
   "metadata": {
    "ExecuteTime": {
     "end_time": "2021-11-15T16:15:05.203055Z",
     "start_time": "2021-11-15T16:15:05.189494Z"
    }
   },
   "outputs": [
    {
     "name": "stdout",
     "output_type": "stream",
     "text": [
      "1.0.1\n"
     ]
    }
   ],
   "source": [
    "import PublicDataReader as pdr\n",
    "from config import API_KEY_INFO\n",
    "print(pdr.__version__)\n",
    "_kosis = API_KEY_INFO.get(\"kosis\")"
   ]
  },
  {
   "cell_type": "markdown",
   "metadata": {},
   "source": [
    "## KOSIS 통합검색"
   ]
  },
  {
   "cell_type": "code",
   "execution_count": 3,
   "metadata": {},
   "outputs": [
    {
     "data": {
      "text/html": [
       "<div>\n",
       "<style scoped>\n",
       "    .dataframe tbody tr th:only-of-type {\n",
       "        vertical-align: middle;\n",
       "    }\n",
       "\n",
       "    .dataframe tbody tr th {\n",
       "        vertical-align: top;\n",
       "    }\n",
       "\n",
       "    .dataframe thead th {\n",
       "        text-align: right;\n",
       "    }\n",
       "</style>\n",
       "<table border=\"1\" class=\"dataframe\">\n",
       "  <thead>\n",
       "    <tr style=\"text-align: right;\">\n",
       "      <th></th>\n",
       "      <th>ORG_ID</th>\n",
       "      <th>ORG_NM</th>\n",
       "      <th>TBL_ID</th>\n",
       "      <th>TBL_NM</th>\n",
       "      <th>STAT_ID</th>\n",
       "      <th>STAT_NM</th>\n",
       "      <th>VW_CD</th>\n",
       "      <th>MT_ATITLE</th>\n",
       "      <th>FULL_PATH_ID</th>\n",
       "      <th>CONTENTS</th>\n",
       "      <th>STRT_PRD_DE</th>\n",
       "      <th>END_PRD_DE</th>\n",
       "      <th>ITEM03</th>\n",
       "      <th>REC_TBL_SE</th>\n",
       "      <th>TBL_VIEW_URL</th>\n",
       "      <th>LINK_URL</th>\n",
       "      <th>STAT_DB_CNT</th>\n",
       "      <th>QUERY</th>\n",
       "    </tr>\n",
       "  </thead>\n",
       "  <tbody>\n",
       "    <tr>\n",
       "      <th>0</th>\n",
       "      <td>116</td>\n",
       "      <td>국토교통부</td>\n",
       "      <td>DT_MLTM_2086</td>\n",
       "      <td>미분양현황_종합</td>\n",
       "      <td>1998033</td>\n",
       "      <td>미분양주택현황보고</td>\n",
       "      <td>MT_ZTITLE</td>\n",
       "      <td>주거 &gt; 미분양주택현황보고</td>\n",
       "      <td>I1 &gt; I1_2</td>\n",
       "      <td>대분류 구분 부문별미분양현황 시도별미분양현황 규모별미분양현황 세종특별자치시 지방 계...</td>\n",
       "      <td>2001</td>\n",
       "      <td>2021</td>\n",
       "      <td>해당연도 12월말 기준 자료 : 국토교통부 주택토지실 주택정책관 주택정책과</td>\n",
       "      <td>N</td>\n",
       "      <td>https://kosis.kr/statisticsList/statisticsList...</td>\n",
       "      <td>http://kosis.kr/statHtml/statHtml.do?orgId=116...</td>\n",
       "      <td>897</td>\n",
       "      <td>미분양</td>\n",
       "    </tr>\n",
       "  </tbody>\n",
       "</table>\n",
       "</div>"
      ],
      "text/plain": [
       "  ORG_ID ORG_NM        TBL_ID    TBL_NM  STAT_ID    STAT_NM      VW_CD  \\\n",
       "0    116  국토교통부  DT_MLTM_2086  미분양현황_종합  1998033  미분양주택현황보고  MT_ZTITLE   \n",
       "\n",
       "        MT_ATITLE FULL_PATH_ID  \\\n",
       "0  주거 > 미분양주택현황보고    I1 > I1_2   \n",
       "\n",
       "                                            CONTENTS STRT_PRD_DE END_PRD_DE  \\\n",
       "0  대분류 구분 부문별미분양현황 시도별미분양현황 규모별미분양현황 세종특별자치시 지방 계...        2001       2021   \n",
       "\n",
       "                                      ITEM03 REC_TBL_SE  \\\n",
       "0  해당연도 12월말 기준 자료 : 국토교통부 주택토지실 주택정책관 주택정책과          N   \n",
       "\n",
       "                                        TBL_VIEW_URL  \\\n",
       "0  https://kosis.kr/statisticsList/statisticsList...   \n",
       "\n",
       "                                            LINK_URL STAT_DB_CNT QUERY  \n",
       "0  http://kosis.kr/statHtml/statHtml.do?orgId=116...         897   미분양  "
      ]
     },
     "execution_count": 3,
     "metadata": {},
     "output_type": "execute_result"
    }
   ],
   "source": [
    "# KOSIS OPEN API 인스턴스 생성\n",
    "serviceName = \"KOSIS통합검색\"\n",
    "kosis = pdr.Kosis(_kosis, serviceName)\n",
    "\n",
    "# 파라미터\n",
    "searchNm = \"미분양\"\n",
    "\n",
    "# 데이터 조회\n",
    "df = kosis.get_data(searchNm=searchNm)\n",
    "df.head(1)"
   ]
  },
  {
   "cell_type": "markdown",
   "metadata": {},
   "source": [
    "## 통계설명"
   ]
  },
  {
   "cell_type": "code",
   "execution_count": 17,
   "metadata": {},
   "outputs": [
    {
     "data": {
      "text/html": [
       "<div>\n",
       "<style scoped>\n",
       "    .dataframe tbody tr th:only-of-type {\n",
       "        vertical-align: middle;\n",
       "    }\n",
       "\n",
       "    .dataframe tbody tr th {\n",
       "        vertical-align: top;\n",
       "    }\n",
       "\n",
       "    .dataframe thead th {\n",
       "        text-align: right;\n",
       "    }\n",
       "</style>\n",
       "<table border=\"1\" class=\"dataframe\">\n",
       "  <thead>\n",
       "    <tr style=\"text-align: right;\">\n",
       "      <th></th>\n",
       "      <th>writingTel</th>\n",
       "      <th>statsEnd</th>\n",
       "      <th>statsPeriod</th>\n",
       "      <th>examinObjArea</th>\n",
       "      <th>statsField</th>\n",
       "      <th>statsNm</th>\n",
       "      <th>pubPeriod</th>\n",
       "      <th>examinPd</th>\n",
       "      <th>josaUnit</th>\n",
       "      <th>publictMth</th>\n",
       "      <th>...</th>\n",
       "      <th>applyGroup</th>\n",
       "      <th>statsKind</th>\n",
       "      <th>josaItm</th>\n",
       "      <th>writingSystem</th>\n",
       "      <th>confmNo</th>\n",
       "      <th>basisLaw</th>\n",
       "      <th>examinTrgetPd</th>\n",
       "      <th>pubExtent</th>\n",
       "      <th>statsContinue</th>\n",
       "      <th>dataCollectMth</th>\n",
       "    </tr>\n",
       "  </thead>\n",
       "  <tbody>\n",
       "    <tr>\n",
       "      <th>0</th>\n",
       "      <td>국토교통부 주택토지실 주택정책관 주택정책과 (☎ 044-201-3336)</td>\n",
       "      <td>일반통계</td>\n",
       "      <td>월</td>\n",
       "      <td>전국</td>\n",
       "      <td>주거/국토이용</td>\n",
       "      <td>미분양주택현황보고</td>\n",
       "      <td>월</td>\n",
       "      <td>매월 1일~15일</td>\n",
       "      <td>기타전국의 미분양 주택 현황</td>\n",
       "      <td>전산망(인터넷), 간행물http://stat.molit.go.kr)국토교통통계연보(...</td>\n",
       "      <td>...</td>\n",
       "      <td>(주) 해당없음</td>\n",
       "      <td>일반통계 / 보고통계</td>\n",
       "      <td>∎ 작성항목(2개 부문 6개항목) - 전체 미분양 현황: 지역별(광역시/시군구) 세...</td>\n",
       "      <td>구·시·군→시·도→국토교통부</td>\n",
       "      <td>116025</td>\n",
       "      <td>주택법</td>\n",
       "      <td>1월1일~12월31일(매월말)</td>\n",
       "      <td>시군구</td>\n",
       "      <td>계속통계</td>\n",
       "      <td>행정집계</td>\n",
       "    </tr>\n",
       "  </tbody>\n",
       "</table>\n",
       "<p>1 rows × 22 columns</p>\n",
       "</div>"
      ],
      "text/plain": [
       "                                 writingTel statsEnd statsPeriod  \\\n",
       "0  국토교통부 주택토지실 주택정책관 주택정책과 (☎ 044-201-3336)     일반통계           월   \n",
       "\n",
       "  examinObjArea statsField    statsNm pubPeriod   examinPd         josaUnit  \\\n",
       "0            전국    주거/국토이용  미분양주택현황보고         월  매월 1일~15일  기타전국의 미분양 주택 현황   \n",
       "\n",
       "                                          publictMth  ... applyGroup  \\\n",
       "0  전산망(인터넷), 간행물http://stat.molit.go.kr)국토교통통계연보(...  ...   (주) 해당없음   \n",
       "\n",
       "     statsKind                                            josaItm  \\\n",
       "0  일반통계 / 보고통계  ∎ 작성항목(2개 부문 6개항목) - 전체 미분양 현황: 지역별(광역시/시군구) 세...   \n",
       "\n",
       "     writingSystem confmNo basisLaw     examinTrgetPd pubExtent statsContinue  \\\n",
       "0  구·시·군→시·도→국토교통부  116025      주택법  1월1일~12월31일(매월말)       시군구          계속통계   \n",
       "\n",
       "  dataCollectMth  \n",
       "0           행정집계  \n",
       "\n",
       "[1 rows x 22 columns]"
      ]
     },
     "execution_count": 17,
     "metadata": {},
     "output_type": "execute_result"
    }
   ],
   "source": [
    "# KOSIS OPEN API 인스턴스 생성\n",
    "serviceName = \"통계설명\"\n",
    "kosis = pdr.Kosis(_kosis, serviceName)\n",
    "\n",
    "# 파라미터\n",
    "orgId = \"101\"\n",
    "tblId = \"DT_1YL202001E\"\n",
    "metaItm = \"ALL\"\n",
    "\n",
    "# 데이터 조회\n",
    "df = kosis.get_data(orgId=orgId, tblId=tblId, metaItm=metaItm)\n",
    "df.head(1)"
   ]
  },
  {
   "cell_type": "markdown",
   "metadata": {},
   "source": [
    "## 통계표 설명"
   ]
  },
  {
   "cell_type": "markdown",
   "metadata": {},
   "source": [
    "### 통계표 명칭"
   ]
  },
  {
   "cell_type": "code",
   "execution_count": 4,
   "metadata": {},
   "outputs": [
    {
     "data": {
      "text/html": [
       "<div>\n",
       "<style scoped>\n",
       "    .dataframe tbody tr th:only-of-type {\n",
       "        vertical-align: middle;\n",
       "    }\n",
       "\n",
       "    .dataframe tbody tr th {\n",
       "        vertical-align: top;\n",
       "    }\n",
       "\n",
       "    .dataframe thead th {\n",
       "        text-align: right;\n",
       "    }\n",
       "</style>\n",
       "<table border=\"1\" class=\"dataframe\">\n",
       "  <thead>\n",
       "    <tr style=\"text-align: right;\">\n",
       "      <th></th>\n",
       "      <th>TBL_NM</th>\n",
       "    </tr>\n",
       "  </thead>\n",
       "  <tbody>\n",
       "    <tr>\n",
       "      <th>0</th>\n",
       "      <td>미분양주택현황(시도/시/군/구)</td>\n",
       "    </tr>\n",
       "  </tbody>\n",
       "</table>\n",
       "</div>"
      ],
      "text/plain": [
       "              TBL_NM\n",
       "0  미분양주택현황(시도/시/군/구)"
      ]
     },
     "execution_count": 4,
     "metadata": {},
     "output_type": "execute_result"
    }
   ],
   "source": [
    "# KOSIS OPEN API 인스턴스 생성\n",
    "serviceName = \"통계표설명\"\n",
    "kosis = pdr.Kosis(_kosis, serviceName)\n",
    "\n",
    "# 파라미터\n",
    "detailServiceName = \"통계표명칭\"\n",
    "orgId = \"101\"\n",
    "tblId = \"DT_1YL202001E\"\n",
    "\n",
    "# 데이터 조회\n",
    "df = kosis.get_data(orgId=orgId, tblId=tblId, detailServiceName=detailServiceName)\n",
    "df.head(1)"
   ]
  },
  {
   "cell_type": "markdown",
   "metadata": {},
   "source": [
    "### 기관 명칭"
   ]
  },
  {
   "cell_type": "code",
   "execution_count": 5,
   "metadata": {},
   "outputs": [
    {
     "data": {
      "text/html": [
       "<div>\n",
       "<style scoped>\n",
       "    .dataframe tbody tr th:only-of-type {\n",
       "        vertical-align: middle;\n",
       "    }\n",
       "\n",
       "    .dataframe tbody tr th {\n",
       "        vertical-align: top;\n",
       "    }\n",
       "\n",
       "    .dataframe thead th {\n",
       "        text-align: right;\n",
       "    }\n",
       "</style>\n",
       "<table border=\"1\" class=\"dataframe\">\n",
       "  <thead>\n",
       "    <tr style=\"text-align: right;\">\n",
       "      <th></th>\n",
       "      <th>ORG_NM</th>\n",
       "      <th>ORG_NM_ENG</th>\n",
       "    </tr>\n",
       "  </thead>\n",
       "  <tbody>\n",
       "    <tr>\n",
       "      <th>0</th>\n",
       "      <td>통계청</td>\n",
       "      <td>Statistics Korea</td>\n",
       "    </tr>\n",
       "  </tbody>\n",
       "</table>\n",
       "</div>"
      ],
      "text/plain": [
       "  ORG_NM        ORG_NM_ENG\n",
       "0    통계청  Statistics Korea"
      ]
     },
     "execution_count": 5,
     "metadata": {},
     "output_type": "execute_result"
    }
   ],
   "source": [
    "# KOSIS OPEN API 인스턴스 생성\n",
    "serviceName = \"통계표설명\"\n",
    "kosis = pdr.Kosis(_kosis, serviceName)\n",
    "\n",
    "# 파라미터\n",
    "detailServiceName = \"기관명칭\"\n",
    "orgId = \"101\"\n",
    "\n",
    "# 데이터 조회\n",
    "df = kosis.get_data(orgId=orgId, detailServiceName=detailServiceName)\n",
    "df.head(1)"
   ]
  },
  {
   "cell_type": "markdown",
   "metadata": {},
   "source": [
    "### 수록정보"
   ]
  },
  {
   "cell_type": "code",
   "execution_count": 6,
   "metadata": {},
   "outputs": [
    {
     "data": {
      "text/html": [
       "<div>\n",
       "<style scoped>\n",
       "    .dataframe tbody tr th:only-of-type {\n",
       "        vertical-align: middle;\n",
       "    }\n",
       "\n",
       "    .dataframe tbody tr th {\n",
       "        vertical-align: top;\n",
       "    }\n",
       "\n",
       "    .dataframe thead th {\n",
       "        text-align: right;\n",
       "    }\n",
       "</style>\n",
       "<table border=\"1\" class=\"dataframe\">\n",
       "  <thead>\n",
       "    <tr style=\"text-align: right;\">\n",
       "      <th></th>\n",
       "      <th>TBL_NM</th>\n",
       "    </tr>\n",
       "  </thead>\n",
       "  <tbody>\n",
       "    <tr>\n",
       "      <th>0</th>\n",
       "      <td>미분양주택현황(시도/시/군/구)</td>\n",
       "    </tr>\n",
       "  </tbody>\n",
       "</table>\n",
       "</div>"
      ],
      "text/plain": [
       "              TBL_NM\n",
       "0  미분양주택현황(시도/시/군/구)"
      ]
     },
     "execution_count": 6,
     "metadata": {},
     "output_type": "execute_result"
    }
   ],
   "source": [
    "# KOSIS OPEN API 인스턴스 생성\n",
    "serviceName = \"통계표설명\"\n",
    "kosis = pdr.Kosis(_kosis, serviceName)\n",
    "\n",
    "# 파라미터\n",
    "detailServiceName = \"통계표명칭\"\n",
    "orgId = \"101\"\n",
    "tblId = \"DT_1YL202001E\"\n",
    "\n",
    "# 데이터 조회\n",
    "df = kosis.get_data(orgId=orgId, tblId=tblId, detailServiceName=detailServiceName)\n",
    "df.head(1)"
   ]
  },
  {
   "cell_type": "markdown",
   "metadata": {},
   "source": [
    "### 분류/항목"
   ]
  },
  {
   "cell_type": "code",
   "execution_count": 7,
   "metadata": {},
   "outputs": [
    {
     "data": {
      "text/html": [
       "<div>\n",
       "<style scoped>\n",
       "    .dataframe tbody tr th:only-of-type {\n",
       "        vertical-align: middle;\n",
       "    }\n",
       "\n",
       "    .dataframe tbody tr th {\n",
       "        vertical-align: top;\n",
       "    }\n",
       "\n",
       "    .dataframe thead th {\n",
       "        text-align: right;\n",
       "    }\n",
       "</style>\n",
       "<table border=\"1\" class=\"dataframe\">\n",
       "  <thead>\n",
       "    <tr style=\"text-align: right;\">\n",
       "      <th></th>\n",
       "      <th>ITM_NM</th>\n",
       "      <th>TBL_ID</th>\n",
       "      <th>ITM_NM_ENG</th>\n",
       "      <th>ITM_ID</th>\n",
       "      <th>OBJ_NM</th>\n",
       "      <th>OBJ_NM_ENG</th>\n",
       "      <th>ORG_ID</th>\n",
       "      <th>OBJ_ID</th>\n",
       "      <th>OBJ_ID_SN</th>\n",
       "    </tr>\n",
       "  </thead>\n",
       "  <tbody>\n",
       "    <tr>\n",
       "      <th>0</th>\n",
       "      <td>미분양현황</td>\n",
       "      <td>DT_1YL202001E</td>\n",
       "      <td>Unsold Housing</td>\n",
       "      <td>13103871087T1</td>\n",
       "      <td>항목</td>\n",
       "      <td>Item code list</td>\n",
       "      <td>101</td>\n",
       "      <td>ITEM</td>\n",
       "      <td>NaN</td>\n",
       "    </tr>\n",
       "  </tbody>\n",
       "</table>\n",
       "</div>"
      ],
      "text/plain": [
       "  ITM_NM         TBL_ID      ITM_NM_ENG         ITM_ID OBJ_NM      OBJ_NM_ENG  \\\n",
       "0  미분양현황  DT_1YL202001E  Unsold Housing  13103871087T1     항목  Item code list   \n",
       "\n",
       "  ORG_ID OBJ_ID OBJ_ID_SN  \n",
       "0    101   ITEM       NaN  "
      ]
     },
     "execution_count": 7,
     "metadata": {},
     "output_type": "execute_result"
    }
   ],
   "source": [
    "# KOSIS OPEN API 인스턴스 생성\n",
    "serviceName = \"통계표설명\"\n",
    "kosis = pdr.Kosis(_kosis, serviceName)\n",
    "\n",
    "# 파라미터\n",
    "detailServiceName = \"분류항목\"\n",
    "orgId = \"101\"\n",
    "tblId = \"DT_1YL202001E\"\n",
    "\n",
    "# 데이터 조회\n",
    "df = kosis.get_data(orgId=orgId, tblId=tblId, detailServiceName=detailServiceName)\n",
    "df.head(1)"
   ]
  },
  {
   "cell_type": "markdown",
   "metadata": {},
   "source": [
    "### 주석"
   ]
  },
  {
   "cell_type": "code",
   "execution_count": 8,
   "metadata": {},
   "outputs": [
    {
     "data": {
      "text/html": [
       "<div>\n",
       "<style scoped>\n",
       "    .dataframe tbody tr th:only-of-type {\n",
       "        vertical-align: middle;\n",
       "    }\n",
       "\n",
       "    .dataframe tbody tr th {\n",
       "        vertical-align: top;\n",
       "    }\n",
       "\n",
       "    .dataframe thead th {\n",
       "        text-align: right;\n",
       "    }\n",
       "</style>\n",
       "<table border=\"1\" class=\"dataframe\">\n",
       "  <thead>\n",
       "    <tr style=\"text-align: right;\">\n",
       "      <th></th>\n",
       "      <th>CMMT_DC</th>\n",
       "      <th>CMMT_NM</th>\n",
       "    </tr>\n",
       "  </thead>\n",
       "  <tbody>\n",
       "    <tr>\n",
       "      <th>0</th>\n",
       "      <td>■ &lt;b&gt;자료제공처:&lt;/b&gt; 통계청 통계정책과</td>\n",
       "      <td>통계표</td>\n",
       "    </tr>\n",
       "  </tbody>\n",
       "</table>\n",
       "</div>"
      ],
      "text/plain": [
       "                     CMMT_DC CMMT_NM\n",
       "0  ■ <b>자료제공처:</b> 통계청 통계정책과     통계표"
      ]
     },
     "execution_count": 8,
     "metadata": {},
     "output_type": "execute_result"
    }
   ],
   "source": [
    "# KOSIS OPEN API 인스턴스 생성\n",
    "serviceName = \"통계표설명\"\n",
    "kosis = pdr.Kosis(_kosis, serviceName)\n",
    "\n",
    "# 파라미터\n",
    "detailServiceName = \"주석\"\n",
    "orgId = \"101\"\n",
    "tblId = \"DT_1YL202001E\"\n",
    "\n",
    "# 데이터 조회\n",
    "df = kosis.get_data(orgId=orgId, tblId=tblId, detailServiceName=detailServiceName)\n",
    "df.head(1)"
   ]
  },
  {
   "cell_type": "markdown",
   "metadata": {},
   "source": [
    "### 단위"
   ]
  },
  {
   "cell_type": "code",
   "execution_count": 9,
   "metadata": {},
   "outputs": [
    {
     "data": {
      "text/html": [
       "<div>\n",
       "<style scoped>\n",
       "    .dataframe tbody tr th:only-of-type {\n",
       "        vertical-align: middle;\n",
       "    }\n",
       "\n",
       "    .dataframe tbody tr th {\n",
       "        vertical-align: top;\n",
       "    }\n",
       "\n",
       "    .dataframe thead th {\n",
       "        text-align: right;\n",
       "    }\n",
       "</style>\n",
       "<table border=\"1\" class=\"dataframe\">\n",
       "  <thead>\n",
       "    <tr style=\"text-align: right;\">\n",
       "      <th></th>\n",
       "      <th>UNIT_NM</th>\n",
       "      <th>UNIT_NM_ENG</th>\n",
       "    </tr>\n",
       "  </thead>\n",
       "  <tbody>\n",
       "    <tr>\n",
       "      <th>0</th>\n",
       "      <td>호</td>\n",
       "      <td>House</td>\n",
       "    </tr>\n",
       "  </tbody>\n",
       "</table>\n",
       "</div>"
      ],
      "text/plain": [
       "  UNIT_NM UNIT_NM_ENG\n",
       "0       호       House"
      ]
     },
     "execution_count": 9,
     "metadata": {},
     "output_type": "execute_result"
    }
   ],
   "source": [
    "# KOSIS OPEN API 인스턴스 생성\n",
    "serviceName = \"통계표설명\"\n",
    "kosis = pdr.Kosis(_kosis, serviceName)\n",
    "\n",
    "# 파라미터\n",
    "detailServiceName = \"단위\"\n",
    "orgId = \"101\"\n",
    "tblId = \"DT_1YL202001E\"\n",
    "\n",
    "# 데이터 조회\n",
    "df = kosis.get_data(orgId=orgId, tblId=tblId, detailServiceName=detailServiceName)\n",
    "df.head(1)"
   ]
  },
  {
   "cell_type": "markdown",
   "metadata": {},
   "source": [
    "### 출처"
   ]
  },
  {
   "cell_type": "code",
   "execution_count": 10,
   "metadata": {},
   "outputs": [
    {
     "data": {
      "text/html": [
       "<div>\n",
       "<style scoped>\n",
       "    .dataframe tbody tr th:only-of-type {\n",
       "        vertical-align: middle;\n",
       "    }\n",
       "\n",
       "    .dataframe tbody tr th {\n",
       "        vertical-align: top;\n",
       "    }\n",
       "\n",
       "    .dataframe thead th {\n",
       "        text-align: right;\n",
       "    }\n",
       "</style>\n",
       "<table border=\"1\" class=\"dataframe\">\n",
       "  <thead>\n",
       "    <tr style=\"text-align: right;\">\n",
       "      <th></th>\n",
       "      <th>JOSA_NM</th>\n",
       "      <th>DEPT_NM</th>\n",
       "      <th>DEPT_PHONE</th>\n",
       "    </tr>\n",
       "  </thead>\n",
       "  <tbody>\n",
       "    <tr>\n",
       "      <th>0</th>\n",
       "      <td>「미분양주택현황보고」</td>\n",
       "      <td>국토교통부 주택토지실 주택정책관 주택정책과</td>\n",
       "      <td>044-201-3336</td>\n",
       "    </tr>\n",
       "  </tbody>\n",
       "</table>\n",
       "</div>"
      ],
      "text/plain": [
       "       JOSA_NM                  DEPT_NM    DEPT_PHONE\n",
       "0  「미분양주택현황보고」  국토교통부 주택토지실 주택정책관 주택정책과  044-201-3336"
      ]
     },
     "execution_count": 10,
     "metadata": {},
     "output_type": "execute_result"
    }
   ],
   "source": [
    "# KOSIS OPEN API 인스턴스 생성\n",
    "serviceName = \"통계표설명\"\n",
    "kosis = pdr.Kosis(_kosis, serviceName)\n",
    "\n",
    "# 파라미터\n",
    "detailServiceName = \"출처\"\n",
    "orgId = \"101\"\n",
    "tblId = \"DT_1YL202001E\"\n",
    "\n",
    "# 데이터 조회\n",
    "df = kosis.get_data(orgId=orgId, tblId=tblId, detailServiceName=detailServiceName)\n",
    "df.head(1)"
   ]
  },
  {
   "cell_type": "markdown",
   "metadata": {},
   "source": [
    "### 가중치"
   ]
  },
  {
   "cell_type": "code",
   "execution_count": 11,
   "metadata": {},
   "outputs": [
    {
     "name": "stdout",
     "output_type": "stream",
     "text": [
      "Dataframe Failed!\n"
     ]
    }
   ],
   "source": [
    "# KOSIS OPEN API 인스턴스 생성\n",
    "serviceName = \"통계표설명\"\n",
    "kosis = pdr.Kosis(_kosis, serviceName)\n",
    "\n",
    "# 파라미터\n",
    "detailServiceName = \"가중치\"\n",
    "orgId = \"101\"\n",
    "tblId = \"DT_1YL202001E\"\n",
    "\n",
    "# 데이터 조회\n",
    "df = kosis.get_data(orgId=orgId, tblId=tblId, detailServiceName=detailServiceName)\n",
    "df"
   ]
  },
  {
   "cell_type": "markdown",
   "metadata": {},
   "source": [
    "### 자료갱신일"
   ]
  },
  {
   "cell_type": "code",
   "execution_count": 16,
   "metadata": {},
   "outputs": [
    {
     "data": {
      "text/html": [
       "<div>\n",
       "<style scoped>\n",
       "    .dataframe tbody tr th:only-of-type {\n",
       "        vertical-align: middle;\n",
       "    }\n",
       "\n",
       "    .dataframe tbody tr th {\n",
       "        vertical-align: top;\n",
       "    }\n",
       "\n",
       "    .dataframe thead th {\n",
       "        text-align: right;\n",
       "    }\n",
       "</style>\n",
       "<table border=\"1\" class=\"dataframe\">\n",
       "  <thead>\n",
       "    <tr style=\"text-align: right;\">\n",
       "      <th></th>\n",
       "      <th>ORG_NM</th>\n",
       "      <th>TBL_NM</th>\n",
       "      <th>PRD_SE</th>\n",
       "      <th>PRD_DE</th>\n",
       "      <th>SEND_DE</th>\n",
       "    </tr>\n",
       "  </thead>\n",
       "  <tbody>\n",
       "    <tr>\n",
       "      <th>0</th>\n",
       "      <td>통계청</td>\n",
       "      <td>미분양주택현황(시도/시/군/구)</td>\n",
       "      <td>월</td>\n",
       "      <td>200012</td>\n",
       "      <td>2022-04-08</td>\n",
       "    </tr>\n",
       "    <tr>\n",
       "      <th>1</th>\n",
       "      <td>통계청</td>\n",
       "      <td>미분양주택현황(시도/시/군/구)</td>\n",
       "      <td>월</td>\n",
       "      <td>200112</td>\n",
       "      <td>2022-04-08</td>\n",
       "    </tr>\n",
       "    <tr>\n",
       "      <th>2</th>\n",
       "      <td>통계청</td>\n",
       "      <td>미분양주택현황(시도/시/군/구)</td>\n",
       "      <td>월</td>\n",
       "      <td>200212</td>\n",
       "      <td>2022-04-08</td>\n",
       "    </tr>\n",
       "    <tr>\n",
       "      <th>3</th>\n",
       "      <td>통계청</td>\n",
       "      <td>미분양주택현황(시도/시/군/구)</td>\n",
       "      <td>월</td>\n",
       "      <td>200312</td>\n",
       "      <td>2022-04-08</td>\n",
       "    </tr>\n",
       "    <tr>\n",
       "      <th>4</th>\n",
       "      <td>통계청</td>\n",
       "      <td>미분양주택현황(시도/시/군/구)</td>\n",
       "      <td>월</td>\n",
       "      <td>200412</td>\n",
       "      <td>2022-04-08</td>\n",
       "    </tr>\n",
       "    <tr>\n",
       "      <th>...</th>\n",
       "      <td>...</td>\n",
       "      <td>...</td>\n",
       "      <td>...</td>\n",
       "      <td>...</td>\n",
       "      <td>...</td>\n",
       "    </tr>\n",
       "    <tr>\n",
       "      <th>190</th>\n",
       "      <td>통계청</td>\n",
       "      <td>미분양주택현황(시도/시/군/구)</td>\n",
       "      <td>월</td>\n",
       "      <td>202204</td>\n",
       "      <td>2022-06-14</td>\n",
       "    </tr>\n",
       "    <tr>\n",
       "      <th>191</th>\n",
       "      <td>통계청</td>\n",
       "      <td>미분양주택현황(시도/시/군/구)</td>\n",
       "      <td>월</td>\n",
       "      <td>202205</td>\n",
       "      <td>2022-07-07</td>\n",
       "    </tr>\n",
       "    <tr>\n",
       "      <th>192</th>\n",
       "      <td>통계청</td>\n",
       "      <td>미분양주택현황(시도/시/군/구)</td>\n",
       "      <td>월</td>\n",
       "      <td>202206</td>\n",
       "      <td>2022-08-04</td>\n",
       "    </tr>\n",
       "    <tr>\n",
       "      <th>193</th>\n",
       "      <td>통계청</td>\n",
       "      <td>미분양주택현황(시도/시/군/구)</td>\n",
       "      <td>월</td>\n",
       "      <td>202207</td>\n",
       "      <td>2022-09-07</td>\n",
       "    </tr>\n",
       "    <tr>\n",
       "      <th>194</th>\n",
       "      <td>통계청</td>\n",
       "      <td>미분양주택현황(시도/시/군/구)</td>\n",
       "      <td>월</td>\n",
       "      <td>202208</td>\n",
       "      <td>2022-10-12</td>\n",
       "    </tr>\n",
       "  </tbody>\n",
       "</table>\n",
       "<p>195 rows × 5 columns</p>\n",
       "</div>"
      ],
      "text/plain": [
       "    ORG_NM             TBL_NM PRD_SE  PRD_DE     SEND_DE\n",
       "0      통계청  미분양주택현황(시도/시/군/구)      월  200012  2022-04-08\n",
       "1      통계청  미분양주택현황(시도/시/군/구)      월  200112  2022-04-08\n",
       "2      통계청  미분양주택현황(시도/시/군/구)      월  200212  2022-04-08\n",
       "3      통계청  미분양주택현황(시도/시/군/구)      월  200312  2022-04-08\n",
       "4      통계청  미분양주택현황(시도/시/군/구)      월  200412  2022-04-08\n",
       "..     ...                ...    ...     ...         ...\n",
       "190    통계청  미분양주택현황(시도/시/군/구)      월  202204  2022-06-14\n",
       "191    통계청  미분양주택현황(시도/시/군/구)      월  202205  2022-07-07\n",
       "192    통계청  미분양주택현황(시도/시/군/구)      월  202206  2022-08-04\n",
       "193    통계청  미분양주택현황(시도/시/군/구)      월  202207  2022-09-07\n",
       "194    통계청  미분양주택현황(시도/시/군/구)      월  202208  2022-10-12\n",
       "\n",
       "[195 rows x 5 columns]"
      ]
     },
     "execution_count": 16,
     "metadata": {},
     "output_type": "execute_result"
    }
   ],
   "source": [
    "# KOSIS OPEN API 인스턴스 생성\n",
    "serviceName = \"통계표설명\"\n",
    "kosis = pdr.Kosis(_kosis, serviceName)\n",
    "\n",
    "# 파라미터\n",
    "detailServiceName = \"자료갱신일\"\n",
    "orgId = \"101\"\n",
    "tblId = \"DT_1YL202001E\"\n",
    "\n",
    "# 데이터 조회\n",
    "df = kosis.get_data(orgId=orgId, tblId=tblId, detailServiceName=detailServiceName)\n",
    "df"
   ]
  },
  {
   "cell_type": "markdown",
   "metadata": {},
   "source": [
    "## 통계목록"
   ]
  },
  {
   "cell_type": "code",
   "execution_count": 13,
   "metadata": {},
   "outputs": [
    {
     "data": {
      "text/html": [
       "<div>\n",
       "<style scoped>\n",
       "    .dataframe tbody tr th:only-of-type {\n",
       "        vertical-align: middle;\n",
       "    }\n",
       "\n",
       "    .dataframe tbody tr th {\n",
       "        vertical-align: top;\n",
       "    }\n",
       "\n",
       "    .dataframe thead th {\n",
       "        text-align: right;\n",
       "    }\n",
       "</style>\n",
       "<table border=\"1\" class=\"dataframe\">\n",
       "  <thead>\n",
       "    <tr style=\"text-align: right;\">\n",
       "      <th></th>\n",
       "      <th>TBL_NM</th>\n",
       "      <th>TBL_ID</th>\n",
       "      <th>VW_CD</th>\n",
       "      <th>VW_NM</th>\n",
       "      <th>ORG_ID</th>\n",
       "      <th>REC_TBL_SE</th>\n",
       "    </tr>\n",
       "  </thead>\n",
       "  <tbody>\n",
       "    <tr>\n",
       "      <th>0</th>\n",
       "      <td>현 거주지 성, 연령 및 1년 전 거주지 기준 이동자유형별 인구(1세이상) - 읍면...</td>\n",
       "      <td>DT_1PB1607</td>\n",
       "      <td>MT_OTITLE</td>\n",
       "      <td>국내통계 기관별</td>\n",
       "      <td>101</td>\n",
       "      <td>N</td>\n",
       "    </tr>\n",
       "    <tr>\n",
       "      <th>1</th>\n",
       "      <td>현 거주지 성, 연령 및 1년 전 거주지 이동 인구(1세이상) - 시도</td>\n",
       "      <td>DT_1PB1608</td>\n",
       "      <td>MT_OTITLE</td>\n",
       "      <td>국내통계 기관별</td>\n",
       "      <td>101</td>\n",
       "      <td>N</td>\n",
       "    </tr>\n",
       "    <tr>\n",
       "      <th>2</th>\n",
       "      <td>현 거주지, 성 및 1년 전 거주지 기준 이동자유형별 인구(1세이상) - 읍면동(연...</td>\n",
       "      <td>DT_1PB2009</td>\n",
       "      <td>MT_OTITLE</td>\n",
       "      <td>국내통계 기관별</td>\n",
       "      <td>101</td>\n",
       "      <td>N</td>\n",
       "    </tr>\n",
       "  </tbody>\n",
       "</table>\n",
       "</div>"
      ],
      "text/plain": [
       "                                              TBL_NM      TBL_ID      VW_CD  \\\n",
       "0  현 거주지 성, 연령 및 1년 전 거주지 기준 이동자유형별 인구(1세이상) - 읍면...  DT_1PB1607  MT_OTITLE   \n",
       "1            현 거주지 성, 연령 및 1년 전 거주지 이동 인구(1세이상) - 시도  DT_1PB1608  MT_OTITLE   \n",
       "2  현 거주지, 성 및 1년 전 거주지 기준 이동자유형별 인구(1세이상) - 읍면동(연...  DT_1PB2009  MT_OTITLE   \n",
       "\n",
       "      VW_NM ORG_ID REC_TBL_SE  \n",
       "0  국내통계 기관별    101          N  \n",
       "1  국내통계 기관별    101          N  \n",
       "2  국내통계 기관별    101          N  "
      ]
     },
     "execution_count": 13,
     "metadata": {},
     "output_type": "execute_result"
    }
   ],
   "source": [
    "# KOSIS OPEN API 인스턴스 생성\n",
    "serviceName = \"통계목록\"\n",
    "kosis = pdr.Kosis(_kosis, serviceName)\n",
    "\n",
    "# 파라미터\n",
    "vwCd = \"MT_OTITLE\"\n",
    "parentListId = \"MT_CTITLE_A1_2015_1_10_30\"\n",
    "\n",
    "# 데이터 조회\n",
    "df = kosis.get_data(vwCd=vwCd, parentListId=parentListId)\n",
    "df"
   ]
  },
  {
   "cell_type": "markdown",
   "metadata": {},
   "source": [
    "## 통계자료"
   ]
  },
  {
   "cell_type": "code",
   "execution_count": 32,
   "metadata": {},
   "outputs": [
    {
     "name": "stdout",
     "output_type": "stream",
     "text": [
      "Dataframe Failed!\n"
     ]
    },
    {
     "ename": "AttributeError",
     "evalue": "'NoneType' object has no attribute 'head'",
     "output_type": "error",
     "traceback": [
      "\u001b[1;31m---------------------------------------------------------------------------\u001b[0m",
      "\u001b[1;31mAttributeError\u001b[0m                            Traceback (most recent call last)",
      "\u001b[1;32md:\\github\\PublicDataReader\\test_kosis.ipynb 셀 29\u001b[0m in \u001b[0;36m<cell line: 16>\u001b[1;34m()\u001b[0m\n\u001b[0;32m     <a href='vscode-notebook-cell:/d%3A/github/PublicDataReader/test_kosis.ipynb#X40sZmlsZQ%3D%3D?line=13'>14</a>\u001b[0m \u001b[39m# 데이터 조회\u001b[39;00m\n\u001b[0;32m     <a href='vscode-notebook-cell:/d%3A/github/PublicDataReader/test_kosis.ipynb#X40sZmlsZQ%3D%3D?line=14'>15</a>\u001b[0m df \u001b[39m=\u001b[39m kosis\u001b[39m.\u001b[39mget_data(orgId\u001b[39m=\u001b[39morgId, tblId\u001b[39m=\u001b[39mtblId, objL1\u001b[39m=\u001b[39mobjL1, itmId\u001b[39m=\u001b[39mitmId, prdSe\u001b[39m=\u001b[39mprdSe, startPrdDe\u001b[39m=\u001b[39mstartPrdDe, endPrdDe\u001b[39m=\u001b[39mendPrdDe)\n\u001b[1;32m---> <a href='vscode-notebook-cell:/d%3A/github/PublicDataReader/test_kosis.ipynb#X40sZmlsZQ%3D%3D?line=15'>16</a>\u001b[0m df\u001b[39m.\u001b[39;49mhead()\n",
      "\u001b[1;31mAttributeError\u001b[0m: 'NoneType' object has no attribute 'head'"
     ]
    }
   ],
   "source": [
    "# KOSIS OPEN API 인스턴스 생성\n",
    "serviceName = \"통계자료\"\n",
    "kosis = pdr.Kosis(_kosis, serviceName)\n",
    "\n",
    "# 파라미터\n",
    "orgId = \"101\"\n",
    "tblId = \"DT_1YL202001E\"\n",
    "objL1 = \"13102871087A.0002\"\n",
    "itmId = \"13103871087T1\"\n",
    "prdSe = \"M\"\n",
    "startPrdDe = \"201501\"\n",
    "endPrdDe = \"202208\"\n",
    "\n",
    "# 데이터 조회\n",
    "df = kosis.get_data(orgId=orgId, tblId=tblId, objL1=objL1, itmId=itmId, prdSe=prdSe, startPrdDe=startPrdDe, endPrdDe=endPrdDe)\n",
    "df.head()"
   ]
  }
 ],
 "metadata": {
  "hide_input": false,
  "kernelspec": {
   "display_name": "Python 3.9.12 ('base')",
   "language": "python",
   "name": "python3"
  },
  "language_info": {
   "codemirror_mode": {
    "name": "ipython",
    "version": 3
   },
   "file_extension": ".py",
   "mimetype": "text/x-python",
   "name": "python",
   "nbconvert_exporter": "python",
   "pygments_lexer": "ipython3",
   "version": "3.9.12"
  },
  "toc": {
   "base_numbering": 1,
   "nav_menu": {},
   "number_sections": true,
   "sideBar": true,
   "skip_h1_title": false,
   "title_cell": "Table of Contents",
   "title_sidebar": "Contents",
   "toc_cell": false,
   "toc_position": {},
   "toc_section_display": true,
   "toc_window_display": false
  },
  "varInspector": {
   "cols": {
    "lenName": 16,
    "lenType": 16,
    "lenVar": 40
   },
   "kernels_config": {
    "python": {
     "delete_cmd_postfix": "",
     "delete_cmd_prefix": "del ",
     "library": "var_list.py",
     "varRefreshCmd": "print(var_dic_list())"
    },
    "r": {
     "delete_cmd_postfix": ") ",
     "delete_cmd_prefix": "rm(",
     "library": "var_list.r",
     "varRefreshCmd": "cat(var_dic_list()) "
    }
   },
   "types_to_exclude": [
    "module",
    "function",
    "builtin_function_or_method",
    "instance",
    "_Feature"
   ],
   "window_display": false
  },
  "vscode": {
   "interpreter": {
    "hash": "bf36e43d91273cda28ef8173803dc98b9ff2c112c9a311d9da2b51870a73ee88"
   }
  }
 },
 "nbformat": 4,
 "nbformat_minor": 4
}
