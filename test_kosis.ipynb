{
 "cells": [
  {
   "cell_type": "markdown",
   "metadata": {},
   "source": [
    "# KOSIS OPEN API"
   ]
  },
  {
   "cell_type": "code",
   "execution_count": 42,
   "metadata": {
    "ExecuteTime": {
     "end_time": "2021-11-15T16:15:05.203055Z",
     "start_time": "2021-11-15T16:15:05.189494Z"
    }
   },
   "outputs": [
    {
     "name": "stdout",
     "output_type": "stream",
     "text": [
      "1.0.1\n"
     ]
    }
   ],
   "source": [
    "import PublicDataReader as pdr\n",
    "from config import API_KEY_INFO\n",
    "print(pdr.__version__)\n",
    "_kosis = API_KEY_INFO.get(\"kosis\")"
   ]
  },
  {
   "cell_type": "markdown",
   "metadata": {},
   "source": [
    "## KOSIS 통합검색"
   ]
  },
  {
   "cell_type": "code",
   "execution_count": 44,
   "metadata": {},
   "outputs": [
    {
     "data": {
      "text/html": [
       "<div>\n",
       "<style scoped>\n",
       "    .dataframe tbody tr th:only-of-type {\n",
       "        vertical-align: middle;\n",
       "    }\n",
       "\n",
       "    .dataframe tbody tr th {\n",
       "        vertical-align: top;\n",
       "    }\n",
       "\n",
       "    .dataframe thead th {\n",
       "        text-align: right;\n",
       "    }\n",
       "</style>\n",
       "<table border=\"1\" class=\"dataframe\">\n",
       "  <thead>\n",
       "    <tr style=\"text-align: right;\">\n",
       "      <th></th>\n",
       "      <th>ORG_ID</th>\n",
       "      <th>ORG_NM</th>\n",
       "      <th>TBL_ID</th>\n",
       "      <th>TBL_NM</th>\n",
       "      <th>STAT_ID</th>\n",
       "      <th>STAT_NM</th>\n",
       "      <th>VW_CD</th>\n",
       "      <th>MT_ATITLE</th>\n",
       "      <th>FULL_PATH_ID</th>\n",
       "      <th>CONTENTS</th>\n",
       "      <th>STRT_PRD_DE</th>\n",
       "      <th>END_PRD_DE</th>\n",
       "      <th>ITEM03</th>\n",
       "      <th>REC_TBL_SE</th>\n",
       "      <th>TBL_VIEW_URL</th>\n",
       "      <th>LINK_URL</th>\n",
       "      <th>STAT_DB_CNT</th>\n",
       "      <th>QUERY</th>\n",
       "    </tr>\n",
       "  </thead>\n",
       "  <tbody>\n",
       "    <tr>\n",
       "      <th>0</th>\n",
       "      <td>101</td>\n",
       "      <td>행정안전부</td>\n",
       "      <td>DT_1B04006</td>\n",
       "      <td>행정구역(시군구)별/1세별 주민등록인구</td>\n",
       "      <td>2008001</td>\n",
       "      <td>주민등록인구현황</td>\n",
       "      <td>MT_ZTITLE</td>\n",
       "      <td>인구 &gt; 주민등록인구현황</td>\n",
       "      <td>A &gt; A_7</td>\n",
       "      <td>행정구역(시군구)별 연령별 남자인구수 여자인구수 총인구수 안성시 포천시 강릉시 고성...</td>\n",
       "      <td>2008</td>\n",
       "      <td>2022</td>\n",
       "      <td>* 등록구분의 ＂전체＂는 ＂거주자＂, ＂거주불명자＂, ＂재외국민＂이 포함된 자료입니...</td>\n",
       "      <td>N</td>\n",
       "      <td>https://kosis.kr/statisticsList/statisticsList...</td>\n",
       "      <td>http://kosis.kr/statHtml/statHtml.do?orgId=101...</td>\n",
       "      <td>1</td>\n",
       "      <td>행정구역(시군구)별/1세별 주민등록인구</td>\n",
       "    </tr>\n",
       "  </tbody>\n",
       "</table>\n",
       "</div>"
      ],
      "text/plain": [
       "  ORG_ID ORG_NM      TBL_ID                 TBL_NM  STAT_ID   STAT_NM  \\\n",
       "0    101  행정안전부  DT_1B04006  행정구역(시군구)별/1세별 주민등록인구  2008001  주민등록인구현황   \n",
       "\n",
       "       VW_CD      MT_ATITLE FULL_PATH_ID  \\\n",
       "0  MT_ZTITLE  인구 > 주민등록인구현황      A > A_7   \n",
       "\n",
       "                                            CONTENTS STRT_PRD_DE END_PRD_DE  \\\n",
       "0  행정구역(시군구)별 연령별 남자인구수 여자인구수 총인구수 안성시 포천시 강릉시 고성...        2008       2022   \n",
       "\n",
       "                                              ITEM03 REC_TBL_SE  \\\n",
       "0  * 등록구분의 ＂전체＂는 ＂거주자＂, ＂거주불명자＂, ＂재외국민＂이 포함된 자료입니...          N   \n",
       "\n",
       "                                        TBL_VIEW_URL  \\\n",
       "0  https://kosis.kr/statisticsList/statisticsList...   \n",
       "\n",
       "                                            LINK_URL STAT_DB_CNT  \\\n",
       "0  http://kosis.kr/statHtml/statHtml.do?orgId=101...           1   \n",
       "\n",
       "                   QUERY  \n",
       "0  행정구역(시군구)별/1세별 주민등록인구  "
      ]
     },
     "execution_count": 44,
     "metadata": {},
     "output_type": "execute_result"
    }
   ],
   "source": [
    "# KOSIS OPEN API 인스턴스 생성\n",
    "serviceName = \"KOSIS통합검색\"\n",
    "kosis = pdr.Kosis(_kosis, serviceName)\n",
    "\n",
    "# 파라미터\n",
    "searchNm = \"행정구역(시군구)별/1세별 주민등록인구\"\n",
    "\n",
    "# 데이터 조회\n",
    "df = kosis.get_data(searchNm=searchNm)\n",
    "df.head()"
   ]
  },
  {
   "cell_type": "markdown",
   "metadata": {},
   "source": [
    "## 통계설명"
   ]
  },
  {
   "cell_type": "code",
   "execution_count": 45,
   "metadata": {},
   "outputs": [
    {
     "data": {
      "text/html": [
       "<div>\n",
       "<style scoped>\n",
       "    .dataframe tbody tr th:only-of-type {\n",
       "        vertical-align: middle;\n",
       "    }\n",
       "\n",
       "    .dataframe tbody tr th {\n",
       "        vertical-align: top;\n",
       "    }\n",
       "\n",
       "    .dataframe thead th {\n",
       "        text-align: right;\n",
       "    }\n",
       "</style>\n",
       "<table border=\"1\" class=\"dataframe\">\n",
       "  <thead>\n",
       "    <tr style=\"text-align: right;\">\n",
       "      <th></th>\n",
       "      <th>writingTel</th>\n",
       "      <th>statsEnd</th>\n",
       "      <th>examinObjArea</th>\n",
       "      <th>statsPeriod</th>\n",
       "      <th>statsField</th>\n",
       "      <th>statsNm</th>\n",
       "      <th>publictMth</th>\n",
       "      <th>statsKind</th>\n",
       "      <th>examinHistory</th>\n",
       "      <th>josaItm</th>\n",
       "      <th>...</th>\n",
       "      <th>josaUnit</th>\n",
       "      <th>confmDt</th>\n",
       "      <th>writingPurps</th>\n",
       "      <th>mainTermExpl</th>\n",
       "      <th>applyGroup</th>\n",
       "      <th>examinObjrange</th>\n",
       "      <th>dataUserNote</th>\n",
       "      <th>writingSystem</th>\n",
       "      <th>examinTrgetPd</th>\n",
       "      <th>dataCollectMth</th>\n",
       "    </tr>\n",
       "  </thead>\n",
       "  <tbody>\n",
       "    <tr>\n",
       "      <th>0</th>\n",
       "      <td>행정안전부민과 (☎ 044-205-3158)</td>\n",
       "      <td>일반통계</td>\n",
       "      <td>전국</td>\n",
       "      <td>월</td>\n",
       "      <td>인구</td>\n",
       "      <td>주민등록인구현황</td>\n",
       "      <td>전산망(인터넷)미 발 간주민등록 인구통계 홈페이지(https://jumin.mois...</td>\n",
       "      <td>일반통계 / 보고통계</td>\n",
       "      <td>ㅇ 최초작성년도 : 2008년 ㅇ 주요연혁 - 2008년 1월 8일 통계작성 승인-...</td>\n",
       "      <td>ㅇ전국 지방자치단체별 주민등록인구 현황 행정기관별, 연령별, 성별, 세대수, 세대원...</td>\n",
       "      <td>...</td>\n",
       "      <td>ㅇ17개 시도, 시군구, 읍면동별 성별, 연령별 인구 및 세대 현황 주민등록기준 읍...</td>\n",
       "      <td>20080108</td>\n",
       "      <td>ㅇ“주민등록법”에 의한 주민등록인구 및 세대현황에 대하여 전국단위의 행정기관별(시도...</td>\n",
       "      <td>주민등록 세대 : 주거 및 생계를 같이하는 사람의 집단인구증감 : 전월인구 대비 금...</td>\n",
       "      <td>(주) 해당없음</td>\n",
       "      <td>ㅇ 주민등록 인구 : 주민등록법에 의거 주민등록표에 기재된 인구로 거주자, 거주불명...</td>\n",
       "      <td>1. 자료내용 : 주민등록(거주자, 거주불명자, 재외국민)이 되어 있는 자의 인구,...</td>\n",
       "      <td>시·군·구 주민등록시스템(자치행정과, 정보통신담당관실) → 행정안전부 주민등록전산정...</td>\n",
       "      <td>매월 말일</td>\n",
       "      <td>행정집계</td>\n",
       "    </tr>\n",
       "  </tbody>\n",
       "</table>\n",
       "<p>1 rows × 25 columns</p>\n",
       "</div>"
      ],
      "text/plain": [
       "                 writingTel statsEnd examinObjArea statsPeriod statsField  \\\n",
       "0  행정안전부민과 (☎ 044-205-3158)     일반통계            전국           월         인구   \n",
       "\n",
       "    statsNm                                         publictMth    statsKind  \\\n",
       "0  주민등록인구현황  전산망(인터넷)미 발 간주민등록 인구통계 홈페이지(https://jumin.mois...  일반통계 / 보고통계   \n",
       "\n",
       "                                       examinHistory  \\\n",
       "0  ㅇ 최초작성년도 : 2008년 ㅇ 주요연혁 - 2008년 1월 8일 통계작성 승인-...   \n",
       "\n",
       "                                             josaItm  ...  \\\n",
       "0  ㅇ전국 지방자치단체별 주민등록인구 현황 행정기관별, 연령별, 성별, 세대수, 세대원...  ...   \n",
       "\n",
       "                                            josaUnit   confmDt  \\\n",
       "0  ㅇ17개 시도, 시군구, 읍면동별 성별, 연령별 인구 및 세대 현황 주민등록기준 읍...  20080108   \n",
       "\n",
       "                                        writingPurps  \\\n",
       "0  ㅇ“주민등록법”에 의한 주민등록인구 및 세대현황에 대하여 전국단위의 행정기관별(시도...   \n",
       "\n",
       "                                        mainTermExpl applyGroup  \\\n",
       "0  주민등록 세대 : 주거 및 생계를 같이하는 사람의 집단인구증감 : 전월인구 대비 금...   (주) 해당없음   \n",
       "\n",
       "                                      examinObjrange  \\\n",
       "0  ㅇ 주민등록 인구 : 주민등록법에 의거 주민등록표에 기재된 인구로 거주자, 거주불명...   \n",
       "\n",
       "                                        dataUserNote  \\\n",
       "0  1. 자료내용 : 주민등록(거주자, 거주불명자, 재외국민)이 되어 있는 자의 인구,...   \n",
       "\n",
       "                                       writingSystem examinTrgetPd  \\\n",
       "0  시·군·구 주민등록시스템(자치행정과, 정보통신담당관실) → 행정안전부 주민등록전산정...         매월 말일   \n",
       "\n",
       "  dataCollectMth  \n",
       "0           행정집계  \n",
       "\n",
       "[1 rows x 25 columns]"
      ]
     },
     "execution_count": 45,
     "metadata": {},
     "output_type": "execute_result"
    }
   ],
   "source": [
    "# KOSIS OPEN API 인스턴스 생성\n",
    "serviceName = \"통계설명\"\n",
    "kosis = pdr.Kosis(_kosis, serviceName)\n",
    "\n",
    "# 파라미터\n",
    "orgId = \"101\"\n",
    "tblId = \"DT_1B04006\"\n",
    "metaItm = \"ALL\"\n",
    "\n",
    "# 데이터 조회\n",
    "df = kosis.get_data(orgId=orgId, tblId=tblId, metaItm=metaItm)\n",
    "df.head(1)"
   ]
  },
  {
   "cell_type": "markdown",
   "metadata": {},
   "source": [
    "## 통계표 설명"
   ]
  },
  {
   "cell_type": "markdown",
   "metadata": {},
   "source": [
    "### 통계표 명칭"
   ]
  },
  {
   "cell_type": "code",
   "execution_count": 46,
   "metadata": {},
   "outputs": [
    {
     "data": {
      "text/html": [
       "<div>\n",
       "<style scoped>\n",
       "    .dataframe tbody tr th:only-of-type {\n",
       "        vertical-align: middle;\n",
       "    }\n",
       "\n",
       "    .dataframe tbody tr th {\n",
       "        vertical-align: top;\n",
       "    }\n",
       "\n",
       "    .dataframe thead th {\n",
       "        text-align: right;\n",
       "    }\n",
       "</style>\n",
       "<table border=\"1\" class=\"dataframe\">\n",
       "  <thead>\n",
       "    <tr style=\"text-align: right;\">\n",
       "      <th></th>\n",
       "      <th>TBL_NM</th>\n",
       "      <th>TBL_NM_ENG</th>\n",
       "    </tr>\n",
       "  </thead>\n",
       "  <tbody>\n",
       "    <tr>\n",
       "      <th>0</th>\n",
       "      <td>행정구역(시군구)별/1세별 주민등록인구</td>\n",
       "      <td>Resident Population in Five-Year Age Groups (2...</td>\n",
       "    </tr>\n",
       "  </tbody>\n",
       "</table>\n",
       "</div>"
      ],
      "text/plain": [
       "                  TBL_NM                                         TBL_NM_ENG\n",
       "0  행정구역(시군구)별/1세별 주민등록인구  Resident Population in Five-Year Age Groups (2..."
      ]
     },
     "execution_count": 46,
     "metadata": {},
     "output_type": "execute_result"
    }
   ],
   "source": [
    "# KOSIS OPEN API 인스턴스 생성\n",
    "serviceName = \"통계표설명\"\n",
    "kosis = pdr.Kosis(_kosis, serviceName)\n",
    "\n",
    "# 파라미터\n",
    "detailServiceName = \"통계표명칭\"\n",
    "orgId = \"101\"\n",
    "tblId = \"DT_1B04006\"\n",
    "\n",
    "# 데이터 조회\n",
    "df = kosis.get_data(orgId=orgId, tblId=tblId, detailServiceName=detailServiceName)\n",
    "df.head(1)"
   ]
  },
  {
   "cell_type": "markdown",
   "metadata": {},
   "source": [
    "### 기관 명칭"
   ]
  },
  {
   "cell_type": "code",
   "execution_count": 47,
   "metadata": {},
   "outputs": [
    {
     "data": {
      "text/html": [
       "<div>\n",
       "<style scoped>\n",
       "    .dataframe tbody tr th:only-of-type {\n",
       "        vertical-align: middle;\n",
       "    }\n",
       "\n",
       "    .dataframe tbody tr th {\n",
       "        vertical-align: top;\n",
       "    }\n",
       "\n",
       "    .dataframe thead th {\n",
       "        text-align: right;\n",
       "    }\n",
       "</style>\n",
       "<table border=\"1\" class=\"dataframe\">\n",
       "  <thead>\n",
       "    <tr style=\"text-align: right;\">\n",
       "      <th></th>\n",
       "      <th>ORG_NM</th>\n",
       "      <th>ORG_NM_ENG</th>\n",
       "    </tr>\n",
       "  </thead>\n",
       "  <tbody>\n",
       "    <tr>\n",
       "      <th>0</th>\n",
       "      <td>통계청</td>\n",
       "      <td>Statistics Korea</td>\n",
       "    </tr>\n",
       "  </tbody>\n",
       "</table>\n",
       "</div>"
      ],
      "text/plain": [
       "  ORG_NM        ORG_NM_ENG\n",
       "0    통계청  Statistics Korea"
      ]
     },
     "execution_count": 47,
     "metadata": {},
     "output_type": "execute_result"
    }
   ],
   "source": [
    "# KOSIS OPEN API 인스턴스 생성\n",
    "serviceName = \"통계표설명\"\n",
    "kosis = pdr.Kosis(_kosis, serviceName)\n",
    "\n",
    "# 파라미터\n",
    "detailServiceName = \"기관명칭\"\n",
    "orgId = \"101\"\n",
    "\n",
    "# 데이터 조회\n",
    "df = kosis.get_data(orgId=orgId, detailServiceName=detailServiceName)\n",
    "df.head(1)"
   ]
  },
  {
   "cell_type": "markdown",
   "metadata": {},
   "source": [
    "### 수록정보"
   ]
  },
  {
   "cell_type": "code",
   "execution_count": 48,
   "metadata": {},
   "outputs": [
    {
     "data": {
      "text/html": [
       "<div>\n",
       "<style scoped>\n",
       "    .dataframe tbody tr th:only-of-type {\n",
       "        vertical-align: middle;\n",
       "    }\n",
       "\n",
       "    .dataframe tbody tr th {\n",
       "        vertical-align: top;\n",
       "    }\n",
       "\n",
       "    .dataframe thead th {\n",
       "        text-align: right;\n",
       "    }\n",
       "</style>\n",
       "<table border=\"1\" class=\"dataframe\">\n",
       "  <thead>\n",
       "    <tr style=\"text-align: right;\">\n",
       "      <th></th>\n",
       "      <th>TBL_NM</th>\n",
       "      <th>TBL_NM_ENG</th>\n",
       "    </tr>\n",
       "  </thead>\n",
       "  <tbody>\n",
       "    <tr>\n",
       "      <th>0</th>\n",
       "      <td>행정구역(시군구)별/1세별 주민등록인구</td>\n",
       "      <td>Resident Population in Five-Year Age Groups (2...</td>\n",
       "    </tr>\n",
       "  </tbody>\n",
       "</table>\n",
       "</div>"
      ],
      "text/plain": [
       "                  TBL_NM                                         TBL_NM_ENG\n",
       "0  행정구역(시군구)별/1세별 주민등록인구  Resident Population in Five-Year Age Groups (2..."
      ]
     },
     "execution_count": 48,
     "metadata": {},
     "output_type": "execute_result"
    }
   ],
   "source": [
    "# KOSIS OPEN API 인스턴스 생성\n",
    "serviceName = \"통계표설명\"\n",
    "kosis = pdr.Kosis(_kosis, serviceName)\n",
    "\n",
    "# 파라미터\n",
    "detailServiceName = \"통계표명칭\"\n",
    "orgId = \"101\"\n",
    "tblId = \"DT_1B04006\"\n",
    "\n",
    "# 데이터 조회\n",
    "df = kosis.get_data(orgId=orgId, tblId=tblId, detailServiceName=detailServiceName)\n",
    "df.head(1)"
   ]
  },
  {
   "cell_type": "markdown",
   "metadata": {},
   "source": [
    "### 분류/항목"
   ]
  },
  {
   "cell_type": "code",
   "execution_count": 49,
   "metadata": {},
   "outputs": [
    {
     "data": {
      "text/html": [
       "<div>\n",
       "<style scoped>\n",
       "    .dataframe tbody tr th:only-of-type {\n",
       "        vertical-align: middle;\n",
       "    }\n",
       "\n",
       "    .dataframe tbody tr th {\n",
       "        vertical-align: top;\n",
       "    }\n",
       "\n",
       "    .dataframe thead th {\n",
       "        text-align: right;\n",
       "    }\n",
       "</style>\n",
       "<table border=\"1\" class=\"dataframe\">\n",
       "  <thead>\n",
       "    <tr style=\"text-align: right;\">\n",
       "      <th></th>\n",
       "      <th>ITM_NM</th>\n",
       "      <th>TBL_ID</th>\n",
       "      <th>ITM_NM_ENG</th>\n",
       "      <th>ITM_ID</th>\n",
       "      <th>OBJ_NM</th>\n",
       "      <th>OBJ_NM_ENG</th>\n",
       "      <th>ORG_ID</th>\n",
       "      <th>OBJ_ID</th>\n",
       "      <th>OBJ_ID_SN</th>\n",
       "      <th>UP_ITM_ID</th>\n",
       "    </tr>\n",
       "  </thead>\n",
       "  <tbody>\n",
       "    <tr>\n",
       "      <th>0</th>\n",
       "      <td>총인구수</td>\n",
       "      <td>DT_1B04006</td>\n",
       "      <td>Population</td>\n",
       "      <td>T2</td>\n",
       "      <td>항목</td>\n",
       "      <td>Item code list</td>\n",
       "      <td>101</td>\n",
       "      <td>ITEM</td>\n",
       "      <td>NaN</td>\n",
       "      <td>NaN</td>\n",
       "    </tr>\n",
       "  </tbody>\n",
       "</table>\n",
       "</div>"
      ],
      "text/plain": [
       "  ITM_NM      TBL_ID  ITM_NM_ENG ITM_ID OBJ_NM      OBJ_NM_ENG ORG_ID OBJ_ID  \\\n",
       "0   총인구수  DT_1B04006  Population     T2     항목  Item code list    101   ITEM   \n",
       "\n",
       "  OBJ_ID_SN UP_ITM_ID  \n",
       "0       NaN       NaN  "
      ]
     },
     "execution_count": 49,
     "metadata": {},
     "output_type": "execute_result"
    }
   ],
   "source": [
    "# KOSIS OPEN API 인스턴스 생성\n",
    "serviceName = \"통계표설명\"\n",
    "kosis = pdr.Kosis(_kosis, serviceName)\n",
    "\n",
    "# 파라미터\n",
    "detailServiceName = \"분류항목\"\n",
    "orgId = \"101\"\n",
    "tblId = \"DT_1B04006\"\n",
    "\n",
    "# 데이터 조회\n",
    "df = kosis.get_data(orgId=orgId, tblId=tblId, detailServiceName=detailServiceName)\n",
    "df.head(1)"
   ]
  },
  {
   "cell_type": "markdown",
   "metadata": {},
   "source": [
    "### 주석"
   ]
  },
  {
   "cell_type": "code",
   "execution_count": 50,
   "metadata": {},
   "outputs": [
    {
     "data": {
      "text/html": [
       "<div>\n",
       "<style scoped>\n",
       "    .dataframe tbody tr th:only-of-type {\n",
       "        vertical-align: middle;\n",
       "    }\n",
       "\n",
       "    .dataframe tbody tr th {\n",
       "        vertical-align: top;\n",
       "    }\n",
       "\n",
       "    .dataframe thead th {\n",
       "        text-align: right;\n",
       "    }\n",
       "</style>\n",
       "<table border=\"1\" class=\"dataframe\">\n",
       "  <thead>\n",
       "    <tr style=\"text-align: right;\">\n",
       "      <th></th>\n",
       "      <th>CMMT_DC</th>\n",
       "      <th>CMMT_NM</th>\n",
       "      <th>ITM_NM</th>\n",
       "      <th>ITM_ID</th>\n",
       "      <th>OBJ_NM</th>\n",
       "      <th>OBJ_ID</th>\n",
       "    </tr>\n",
       "  </thead>\n",
       "  <tbody>\n",
       "    <tr>\n",
       "      <th>0</th>\n",
       "      <td>* 등록구분의 \"전체\"는 \"거주자\", \"거주불명자\", \"재외국민\"이 포함된 자료입니다.</td>\n",
       "      <td>통계표</td>\n",
       "      <td>NaN</td>\n",
       "      <td>NaN</td>\n",
       "      <td>NaN</td>\n",
       "      <td>NaN</td>\n",
       "    </tr>\n",
       "  </tbody>\n",
       "</table>\n",
       "</div>"
      ],
      "text/plain": [
       "                                            CMMT_DC CMMT_NM ITM_NM ITM_ID  \\\n",
       "0  * 등록구분의 \"전체\"는 \"거주자\", \"거주불명자\", \"재외국민\"이 포함된 자료입니다.     통계표    NaN    NaN   \n",
       "\n",
       "  OBJ_NM OBJ_ID  \n",
       "0    NaN    NaN  "
      ]
     },
     "execution_count": 50,
     "metadata": {},
     "output_type": "execute_result"
    }
   ],
   "source": [
    "# KOSIS OPEN API 인스턴스 생성\n",
    "serviceName = \"통계표설명\"\n",
    "kosis = pdr.Kosis(_kosis, serviceName)\n",
    "\n",
    "# 파라미터\n",
    "detailServiceName = \"주석\"\n",
    "orgId = \"101\"\n",
    "tblId = \"DT_1B04006\"\n",
    "\n",
    "# 데이터 조회\n",
    "df = kosis.get_data(orgId=orgId, tblId=tblId, detailServiceName=detailServiceName)\n",
    "df.head(1)"
   ]
  },
  {
   "cell_type": "markdown",
   "metadata": {},
   "source": [
    "### 단위"
   ]
  },
  {
   "cell_type": "code",
   "execution_count": 52,
   "metadata": {},
   "outputs": [
    {
     "name": "stdout",
     "output_type": "stream",
     "text": [
      "Dataframe Failed!\n"
     ]
    }
   ],
   "source": [
    "# KOSIS OPEN API 인스턴스 생성\n",
    "serviceName = \"통계표설명\"\n",
    "kosis = pdr.Kosis(_kosis, serviceName)\n",
    "\n",
    "# 파라미터\n",
    "detailServiceName = \"단위\"\n",
    "orgId = \"101\"\n",
    "tblId = \"DT_1B04006\"\n",
    "\n",
    "# 데이터 조회\n",
    "df = kosis.get_data(orgId=orgId, tblId=tblId, detailServiceName=detailServiceName)\n",
    "df"
   ]
  },
  {
   "cell_type": "markdown",
   "metadata": {},
   "source": [
    "### 출처"
   ]
  },
  {
   "cell_type": "code",
   "execution_count": 53,
   "metadata": {},
   "outputs": [
    {
     "data": {
      "text/html": [
       "<div>\n",
       "<style scoped>\n",
       "    .dataframe tbody tr th:only-of-type {\n",
       "        vertical-align: middle;\n",
       "    }\n",
       "\n",
       "    .dataframe tbody tr th {\n",
       "        vertical-align: top;\n",
       "    }\n",
       "\n",
       "    .dataframe thead th {\n",
       "        text-align: right;\n",
       "    }\n",
       "</style>\n",
       "<table border=\"1\" class=\"dataframe\">\n",
       "  <thead>\n",
       "    <tr style=\"text-align: right;\">\n",
       "      <th></th>\n",
       "      <th>JOSA_NM</th>\n",
       "      <th>DEPT_NM</th>\n",
       "      <th>DEPT_PHONE</th>\n",
       "    </tr>\n",
       "  </thead>\n",
       "  <tbody>\n",
       "    <tr>\n",
       "      <th>0</th>\n",
       "      <td>「주민등록인구현황」</td>\n",
       "      <td>주민과</td>\n",
       "      <td>044-205-3158</td>\n",
       "    </tr>\n",
       "  </tbody>\n",
       "</table>\n",
       "</div>"
      ],
      "text/plain": [
       "      JOSA_NM DEPT_NM    DEPT_PHONE\n",
       "0  「주민등록인구현황」     주민과  044-205-3158"
      ]
     },
     "execution_count": 53,
     "metadata": {},
     "output_type": "execute_result"
    }
   ],
   "source": [
    "# KOSIS OPEN API 인스턴스 생성\n",
    "serviceName = \"통계표설명\"\n",
    "kosis = pdr.Kosis(_kosis, serviceName)\n",
    "\n",
    "# 파라미터\n",
    "detailServiceName = \"출처\"\n",
    "orgId = \"101\"\n",
    "tblId = \"DT_1B04006\"\n",
    "\n",
    "# 데이터 조회\n",
    "df = kosis.get_data(orgId=orgId, tblId=tblId, detailServiceName=detailServiceName)\n",
    "df.head(1)"
   ]
  },
  {
   "cell_type": "markdown",
   "metadata": {},
   "source": [
    "### 가중치"
   ]
  },
  {
   "cell_type": "code",
   "execution_count": 54,
   "metadata": {},
   "outputs": [
    {
     "name": "stdout",
     "output_type": "stream",
     "text": [
      "Dataframe Failed!\n"
     ]
    }
   ],
   "source": [
    "# KOSIS OPEN API 인스턴스 생성\n",
    "serviceName = \"통계표설명\"\n",
    "kosis = pdr.Kosis(_kosis, serviceName)\n",
    "\n",
    "# 파라미터\n",
    "detailServiceName = \"가중치\"\n",
    "orgId = \"101\"\n",
    "tblId = \"DT_1B04006\"\n",
    "\n",
    "# 데이터 조회\n",
    "df = kosis.get_data(orgId=orgId, tblId=tblId, detailServiceName=detailServiceName)\n",
    "df"
   ]
  },
  {
   "cell_type": "markdown",
   "metadata": {},
   "source": [
    "### 자료갱신일"
   ]
  },
  {
   "cell_type": "code",
   "execution_count": 55,
   "metadata": {},
   "outputs": [
    {
     "data": {
      "text/html": [
       "<div>\n",
       "<style scoped>\n",
       "    .dataframe tbody tr th:only-of-type {\n",
       "        vertical-align: middle;\n",
       "    }\n",
       "\n",
       "    .dataframe tbody tr th {\n",
       "        vertical-align: top;\n",
       "    }\n",
       "\n",
       "    .dataframe thead th {\n",
       "        text-align: right;\n",
       "    }\n",
       "</style>\n",
       "<table border=\"1\" class=\"dataframe\">\n",
       "  <thead>\n",
       "    <tr style=\"text-align: right;\">\n",
       "      <th></th>\n",
       "      <th>ORG_NM</th>\n",
       "      <th>TBL_NM</th>\n",
       "      <th>PRD_SE</th>\n",
       "      <th>PRD_DE</th>\n",
       "      <th>SEND_DE</th>\n",
       "    </tr>\n",
       "  </thead>\n",
       "  <tbody>\n",
       "    <tr>\n",
       "      <th>0</th>\n",
       "      <td>통계청</td>\n",
       "      <td>행정구역(시군구)별/1세별 주민등록인구</td>\n",
       "      <td>월</td>\n",
       "      <td>200801</td>\n",
       "      <td>2022-10-05</td>\n",
       "    </tr>\n",
       "    <tr>\n",
       "      <th>1</th>\n",
       "      <td>통계청</td>\n",
       "      <td>행정구역(시군구)별/1세별 주민등록인구</td>\n",
       "      <td>월</td>\n",
       "      <td>200802</td>\n",
       "      <td>2022-10-05</td>\n",
       "    </tr>\n",
       "    <tr>\n",
       "      <th>2</th>\n",
       "      <td>통계청</td>\n",
       "      <td>행정구역(시군구)별/1세별 주민등록인구</td>\n",
       "      <td>월</td>\n",
       "      <td>200803</td>\n",
       "      <td>2022-10-05</td>\n",
       "    </tr>\n",
       "    <tr>\n",
       "      <th>3</th>\n",
       "      <td>통계청</td>\n",
       "      <td>행정구역(시군구)별/1세별 주민등록인구</td>\n",
       "      <td>월</td>\n",
       "      <td>200804</td>\n",
       "      <td>2022-10-05</td>\n",
       "    </tr>\n",
       "    <tr>\n",
       "      <th>4</th>\n",
       "      <td>통계청</td>\n",
       "      <td>행정구역(시군구)별/1세별 주민등록인구</td>\n",
       "      <td>월</td>\n",
       "      <td>200805</td>\n",
       "      <td>2022-10-05</td>\n",
       "    </tr>\n",
       "    <tr>\n",
       "      <th>...</th>\n",
       "      <td>...</td>\n",
       "      <td>...</td>\n",
       "      <td>...</td>\n",
       "      <td>...</td>\n",
       "      <td>...</td>\n",
       "    </tr>\n",
       "    <tr>\n",
       "      <th>186</th>\n",
       "      <td>통계청</td>\n",
       "      <td>행정구역(시군구)별/1세별 주민등록인구</td>\n",
       "      <td>년</td>\n",
       "      <td>2017</td>\n",
       "      <td>2022-04-04</td>\n",
       "    </tr>\n",
       "    <tr>\n",
       "      <th>187</th>\n",
       "      <td>통계청</td>\n",
       "      <td>행정구역(시군구)별/1세별 주민등록인구</td>\n",
       "      <td>년</td>\n",
       "      <td>2018</td>\n",
       "      <td>2022-04-04</td>\n",
       "    </tr>\n",
       "    <tr>\n",
       "      <th>188</th>\n",
       "      <td>통계청</td>\n",
       "      <td>행정구역(시군구)별/1세별 주민등록인구</td>\n",
       "      <td>년</td>\n",
       "      <td>2019</td>\n",
       "      <td>2022-04-04</td>\n",
       "    </tr>\n",
       "    <tr>\n",
       "      <th>189</th>\n",
       "      <td>통계청</td>\n",
       "      <td>행정구역(시군구)별/1세별 주민등록인구</td>\n",
       "      <td>년</td>\n",
       "      <td>2020</td>\n",
       "      <td>2022-04-04</td>\n",
       "    </tr>\n",
       "    <tr>\n",
       "      <th>190</th>\n",
       "      <td>통계청</td>\n",
       "      <td>행정구역(시군구)별/1세별 주민등록인구</td>\n",
       "      <td>년</td>\n",
       "      <td>2021</td>\n",
       "      <td>2022-04-04</td>\n",
       "    </tr>\n",
       "  </tbody>\n",
       "</table>\n",
       "<p>191 rows × 5 columns</p>\n",
       "</div>"
      ],
      "text/plain": [
       "    ORG_NM                 TBL_NM PRD_SE  PRD_DE     SEND_DE\n",
       "0      통계청  행정구역(시군구)별/1세별 주민등록인구      월  200801  2022-10-05\n",
       "1      통계청  행정구역(시군구)별/1세별 주민등록인구      월  200802  2022-10-05\n",
       "2      통계청  행정구역(시군구)별/1세별 주민등록인구      월  200803  2022-10-05\n",
       "3      통계청  행정구역(시군구)별/1세별 주민등록인구      월  200804  2022-10-05\n",
       "4      통계청  행정구역(시군구)별/1세별 주민등록인구      월  200805  2022-10-05\n",
       "..     ...                    ...    ...     ...         ...\n",
       "186    통계청  행정구역(시군구)별/1세별 주민등록인구      년    2017  2022-04-04\n",
       "187    통계청  행정구역(시군구)별/1세별 주민등록인구      년    2018  2022-04-04\n",
       "188    통계청  행정구역(시군구)별/1세별 주민등록인구      년    2019  2022-04-04\n",
       "189    통계청  행정구역(시군구)별/1세별 주민등록인구      년    2020  2022-04-04\n",
       "190    통계청  행정구역(시군구)별/1세별 주민등록인구      년    2021  2022-04-04\n",
       "\n",
       "[191 rows x 5 columns]"
      ]
     },
     "execution_count": 55,
     "metadata": {},
     "output_type": "execute_result"
    }
   ],
   "source": [
    "# KOSIS OPEN API 인스턴스 생성\n",
    "serviceName = \"통계표설명\"\n",
    "kosis = pdr.Kosis(_kosis, serviceName)\n",
    "\n",
    "# 파라미터\n",
    "detailServiceName = \"자료갱신일\"\n",
    "orgId = \"101\"\n",
    "tblId = \"DT_1B04006\"\n",
    "\n",
    "# 데이터 조회\n",
    "df = kosis.get_data(orgId=orgId, tblId=tblId, detailServiceName=detailServiceName)\n",
    "df"
   ]
  },
  {
   "cell_type": "markdown",
   "metadata": {},
   "source": [
    "## 통계목록"
   ]
  },
  {
   "cell_type": "code",
   "execution_count": 70,
   "metadata": {},
   "outputs": [
    {
     "data": {
      "text/html": [
       "<div>\n",
       "<style scoped>\n",
       "    .dataframe tbody tr th:only-of-type {\n",
       "        vertical-align: middle;\n",
       "    }\n",
       "\n",
       "    .dataframe tbody tr th {\n",
       "        vertical-align: top;\n",
       "    }\n",
       "\n",
       "    .dataframe thead th {\n",
       "        text-align: right;\n",
       "    }\n",
       "</style>\n",
       "<table border=\"1\" class=\"dataframe\">\n",
       "  <thead>\n",
       "    <tr style=\"text-align: right;\">\n",
       "      <th></th>\n",
       "      <th>LIST_NM</th>\n",
       "      <th>VW_CD</th>\n",
       "      <th>VW_NM</th>\n",
       "      <th>LIST_ID</th>\n",
       "    </tr>\n",
       "  </thead>\n",
       "  <tbody>\n",
       "    <tr>\n",
       "      <th>0</th>\n",
       "      <td>가계금융복지조사</td>\n",
       "      <td>MT_OTITLE</td>\n",
       "      <td>국내통계 기관별</td>\n",
       "      <td>101_HD</td>\n",
       "    </tr>\n",
       "    <tr>\n",
       "      <th>1</th>\n",
       "      <td>가계동향조사</td>\n",
       "      <td>MT_OTITLE</td>\n",
       "      <td>국내통계 기관별</td>\n",
       "      <td>MT_CTITLE_I</td>\n",
       "    </tr>\n",
       "    <tr>\n",
       "      <th>2</th>\n",
       "      <td>가계생산위성계정</td>\n",
       "      <td>MT_OTITLE</td>\n",
       "      <td>국내통계 기관별</td>\n",
       "      <td>101_101</td>\n",
       "    </tr>\n",
       "    <tr>\n",
       "      <th>3</th>\n",
       "      <td>가축동향조사</td>\n",
       "      <td>MT_OTITLE</td>\n",
       "      <td>국내통계 기관별</td>\n",
       "      <td>101_11423</td>\n",
       "    </tr>\n",
       "    <tr>\n",
       "      <th>4</th>\n",
       "      <td>건설경기동향조사</td>\n",
       "      <td>MT_OTITLE</td>\n",
       "      <td>국내통계 기관별</td>\n",
       "      <td>MT_CTITLE_2</td>\n",
       "    </tr>\n",
       "    <tr>\n",
       "      <th>...</th>\n",
       "      <td>...</td>\n",
       "      <td>...</td>\n",
       "      <td>...</td>\n",
       "      <td>...</td>\n",
       "    </tr>\n",
       "    <tr>\n",
       "      <th>63</th>\n",
       "      <td>지역소득 (2015년 기준)</td>\n",
       "      <td>MT_OTITLE</td>\n",
       "      <td>국내통계 기관별</td>\n",
       "      <td>MT_CTITLE_c</td>\n",
       "    </tr>\n",
       "    <tr>\n",
       "      <th>64</th>\n",
       "      <td>초중고 사교육비조사</td>\n",
       "      <td>MT_OTITLE</td>\n",
       "      <td>국내통계 기관별</td>\n",
       "      <td>MT_CTITLE_6</td>\n",
       "    </tr>\n",
       "    <tr>\n",
       "      <th>65</th>\n",
       "      <td>통계인력및예산조사</td>\n",
       "      <td>MT_OTITLE</td>\n",
       "      <td>국내통계 기관별</td>\n",
       "      <td>T_A</td>\n",
       "    </tr>\n",
       "    <tr>\n",
       "      <th>66</th>\n",
       "      <td>퇴직연금통계</td>\n",
       "      <td>MT_OTITLE</td>\n",
       "      <td>국내통계 기관별</td>\n",
       "      <td>101_RP</td>\n",
       "    </tr>\n",
       "    <tr>\n",
       "      <th>67</th>\n",
       "      <td>프랜차이즈조사</td>\n",
       "      <td>MT_OTITLE</td>\n",
       "      <td>국내통계 기관별</td>\n",
       "      <td>101_005</td>\n",
       "    </tr>\n",
       "  </tbody>\n",
       "</table>\n",
       "<p>68 rows × 4 columns</p>\n",
       "</div>"
      ],
      "text/plain": [
       "            LIST_NM      VW_CD     VW_NM      LIST_ID\n",
       "0          가계금융복지조사  MT_OTITLE  국내통계 기관별       101_HD\n",
       "1            가계동향조사  MT_OTITLE  국내통계 기관별  MT_CTITLE_I\n",
       "2          가계생산위성계정  MT_OTITLE  국내통계 기관별      101_101\n",
       "3            가축동향조사  MT_OTITLE  국내통계 기관별    101_11423\n",
       "4          건설경기동향조사  MT_OTITLE  국내통계 기관별  MT_CTITLE_2\n",
       "..              ...        ...       ...          ...\n",
       "63  지역소득 (2015년 기준)  MT_OTITLE  국내통계 기관별  MT_CTITLE_c\n",
       "64       초중고 사교육비조사  MT_OTITLE  국내통계 기관별  MT_CTITLE_6\n",
       "65        통계인력및예산조사  MT_OTITLE  국내통계 기관별          T_A\n",
       "66           퇴직연금통계  MT_OTITLE  국내통계 기관별       101_RP\n",
       "67          프랜차이즈조사  MT_OTITLE  국내통계 기관별      101_005\n",
       "\n",
       "[68 rows x 4 columns]"
      ]
     },
     "execution_count": 70,
     "metadata": {},
     "output_type": "execute_result"
    }
   ],
   "source": [
    "# KOSIS OPEN API 인스턴스 생성\n",
    "serviceName = \"통계목록\"\n",
    "kosis = pdr.Kosis(_kosis, serviceName)\n",
    "\n",
    "# 파라미터\n",
    "vwCd = \"MT_OTITLE\"\n",
    "parentListId = \"101\"\n",
    "\n",
    "# 데이터 조회\n",
    "df = kosis.get_data(vwCd=vwCd, parentListId=parentListId)\n",
    "df"
   ]
  },
  {
   "cell_type": "markdown",
   "metadata": {},
   "source": [
    "## 통계자료"
   ]
  },
  {
   "cell_type": "code",
   "execution_count": 73,
   "metadata": {},
   "outputs": [
    {
     "name": "stdout",
     "output_type": "stream",
     "text": [
      "Dataframe Failed!\n"
     ]
    }
   ],
   "source": [
    "# KOSIS OPEN API 인스턴스 생성\n",
    "serviceName = \"통계자료\"\n",
    "kosis = pdr.Kosis(_kosis, serviceName)\n",
    "\n",
    "# 파라미터\n",
    "orgId = \"101\"\n",
    "tblId = \"DT_1B04006\"\n",
    "objL1 = \"ITEM\"\n",
    "itmId = \"T2\"\n",
    "prdSe = \"M\"\n",
    "startPrdDe = \"201801\"\n",
    "endPrdDe = \"202208\"\n",
    "\n",
    "# 데이터 조회\n",
    "df = kosis.get_data(orgId=orgId, tblId=tblId, objL1=objL1, itmId=itmId, prdSe=prdSe, startPrdDe=startPrdDe, endPrdDe=endPrdDe)\n",
    "df"
   ]
  },
  {
   "cell_type": "code",
   "execution_count": null,
   "metadata": {},
   "outputs": [],
   "source": []
  }
 ],
 "metadata": {
  "hide_input": false,
  "kernelspec": {
   "display_name": "venv",
   "language": "python",
   "name": "venv"
  },
  "language_info": {
   "codemirror_mode": {
    "name": "ipython",
    "version": 3
   },
   "file_extension": ".py",
   "mimetype": "text/x-python",
   "name": "python",
   "nbconvert_exporter": "python",
   "pygments_lexer": "ipython3",
   "version": "3.8.13"
  },
  "toc": {
   "base_numbering": 1,
   "nav_menu": {},
   "number_sections": true,
   "sideBar": true,
   "skip_h1_title": false,
   "title_cell": "Table of Contents",
   "title_sidebar": "Contents",
   "toc_cell": false,
   "toc_position": {},
   "toc_section_display": true,
   "toc_window_display": false
  },
  "varInspector": {
   "cols": {
    "lenName": 16,
    "lenType": 16,
    "lenVar": 40
   },
   "kernels_config": {
    "python": {
     "delete_cmd_postfix": "",
     "delete_cmd_prefix": "del ",
     "library": "var_list.py",
     "varRefreshCmd": "print(var_dic_list())"
    },
    "r": {
     "delete_cmd_postfix": ") ",
     "delete_cmd_prefix": "rm(",
     "library": "var_list.r",
     "varRefreshCmd": "cat(var_dic_list()) "
    }
   },
   "types_to_exclude": [
    "module",
    "function",
    "builtin_function_or_method",
    "instance",
    "_Feature"
   ],
   "window_display": false
  },
  "vscode": {
   "interpreter": {
    "hash": "31f2aee4e71d21fbe5cf8b01ff0e069b9275f58929596ceb00d14d90e3e16cd6"
   }
  }
 },
 "nbformat": 4,
 "nbformat_minor": 4
}
