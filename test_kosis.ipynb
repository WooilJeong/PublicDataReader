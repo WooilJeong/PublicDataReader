{
 "cells": [
  {
   "cell_type": "markdown",
   "metadata": {},
   "source": [
    "# KOSIS OPEN API"
   ]
  },
  {
   "cell_type": "code",
   "execution_count": null,
   "metadata": {
    "ExecuteTime": {
     "end_time": "2021-11-15T16:15:05.203055Z",
     "start_time": "2021-11-15T16:15:05.189494Z"
    }
   },
   "outputs": [],
   "source": [
    "import PublicDataReader as pdr\n",
    "from config import API_KEY_INFO\n",
    "print(pdr.__version__)\n",
    "_kosis = API_KEY_INFO.get(\"kosis\")"
   ]
  },
  {
   "cell_type": "markdown",
   "metadata": {},
   "source": [
    "## KOSIS 통합검색"
   ]
  },
  {
   "cell_type": "code",
   "execution_count": null,
   "metadata": {},
   "outputs": [],
   "source": [
    "# KOSIS OPEN API 인스턴스 생성\n",
    "serviceName = \"KOSIS통합검색\"\n",
    "kosis = pdr.Kosis(_kosis, serviceName)\n",
    "\n",
    "# 파라미터\n",
    "searchNm = \"행정구역(시군구)별, 성별 인구수\"\n",
    "\n",
    "# 데이터 조회\n",
    "df = kosis.get_data(searchNm=searchNm)\n",
    "df.head(1)"
   ]
  },
  {
   "cell_type": "markdown",
   "metadata": {},
   "source": [
    "## 통계설명"
   ]
  },
  {
   "cell_type": "code",
   "execution_count": null,
   "metadata": {},
   "outputs": [],
   "source": [
    "# KOSIS OPEN API 인스턴스 생성\n",
    "serviceName = \"통계설명\"\n",
    "kosis = pdr.Kosis(_kosis, serviceName)\n",
    "\n",
    "# 파라미터\n",
    "orgId = \"101\"\n",
    "tblId = \"DT_1B040A3\"\n",
    "metaItm = \"ALL\"\n",
    "\n",
    "# 데이터 조회\n",
    "df = kosis.get_data(orgId=orgId, tblId=tblId, metaItm=metaItm)\n",
    "df.head(1)"
   ]
  },
  {
   "cell_type": "markdown",
   "metadata": {},
   "source": [
    "## 통계표 설명"
   ]
  },
  {
   "cell_type": "markdown",
   "metadata": {},
   "source": [
    "### 통계표 명칭"
   ]
  },
  {
   "cell_type": "code",
   "execution_count": null,
   "metadata": {},
   "outputs": [],
   "source": [
    "# KOSIS OPEN API 인스턴스 생성\n",
    "serviceName = \"통계표설명\"\n",
    "kosis = pdr.Kosis(_kosis, serviceName)\n",
    "\n",
    "# 파라미터\n",
    "detailServiceName = \"통계표명칭\"\n",
    "orgId = \"101\"\n",
    "tblId = \"DT_1B040A3\"\n",
    "\n",
    "# 데이터 조회\n",
    "df = kosis.get_data(orgId=orgId, tblId=tblId, detailServiceName=detailServiceName)\n",
    "df.head()"
   ]
  },
  {
   "cell_type": "markdown",
   "metadata": {},
   "source": [
    "### 기관 명칭"
   ]
  },
  {
   "cell_type": "code",
   "execution_count": null,
   "metadata": {},
   "outputs": [],
   "source": [
    "# KOSIS OPEN API 인스턴스 생성\n",
    "serviceName = \"통계표설명\"\n",
    "kosis = pdr.Kosis(_kosis, serviceName)\n",
    "\n",
    "# 파라미터\n",
    "detailServiceName = \"기관명칭\"\n",
    "orgId = \"101\"\n",
    "\n",
    "# 데이터 조회\n",
    "df = kosis.get_data(orgId=orgId, detailServiceName=detailServiceName)\n",
    "df.head()"
   ]
  },
  {
   "cell_type": "markdown",
   "metadata": {},
   "source": [
    "### 수록정보"
   ]
  },
  {
   "cell_type": "code",
   "execution_count": null,
   "metadata": {},
   "outputs": [],
   "source": [
    "# KOSIS OPEN API 인스턴스 생성\n",
    "serviceName = \"통계표설명\"\n",
    "kosis = pdr.Kosis(_kosis, serviceName)\n",
    "\n",
    "# 파라미터\n",
    "detailServiceName = \"통계표명칭\"\n",
    "orgId = \"101\"\n",
    "tblId = \"DT_1B040A3\"\n",
    "\n",
    "# 데이터 조회\n",
    "df = kosis.get_data(orgId=orgId, tblId=tblId, detailServiceName=detailServiceName)\n",
    "df.head()"
   ]
  },
  {
   "cell_type": "markdown",
   "metadata": {},
   "source": [
    "### 분류/항목"
   ]
  },
  {
   "cell_type": "code",
   "execution_count": null,
   "metadata": {},
   "outputs": [],
   "source": [
    "# KOSIS OPEN API 인스턴스 생성\n",
    "serviceName = \"통계표설명\"\n",
    "kosis = pdr.Kosis(_kosis, serviceName)\n",
    "\n",
    "# 파라미터\n",
    "detailServiceName = \"분류항목\"\n",
    "orgId = \"101\"\n",
    "tblId = \"DT_1B040A3\"\n",
    "\n",
    "# 데이터 조회\n",
    "df = kosis.get_data(orgId=orgId, tblId=tblId, detailServiceName=detailServiceName)\n",
    "df"
   ]
  },
  {
   "cell_type": "markdown",
   "metadata": {},
   "source": [
    "### 주석"
   ]
  },
  {
   "cell_type": "code",
   "execution_count": null,
   "metadata": {},
   "outputs": [],
   "source": [
    "# KOSIS OPEN API 인스턴스 생성\n",
    "serviceName = \"통계표설명\"\n",
    "kosis = pdr.Kosis(_kosis, serviceName)\n",
    "\n",
    "# 파라미터\n",
    "detailServiceName = \"주석\"\n",
    "orgId = \"101\"\n",
    "tblId = \"DT_1B04006\"\n",
    "\n",
    "# 데이터 조회\n",
    "df = kosis.get_data(orgId=orgId, tblId=tblId, detailServiceName=detailServiceName)\n",
    "df.head()"
   ]
  },
  {
   "cell_type": "markdown",
   "metadata": {},
   "source": [
    "### 단위"
   ]
  },
  {
   "cell_type": "code",
   "execution_count": null,
   "metadata": {},
   "outputs": [],
   "source": [
    "# KOSIS OPEN API 인스턴스 생성\n",
    "serviceName = \"통계표설명\"\n",
    "kosis = pdr.Kosis(_kosis, serviceName)\n",
    "\n",
    "# 파라미터\n",
    "detailServiceName = \"단위\"\n",
    "orgId = \"101\"\n",
    "tblId = \"DT_1B040A3\"\n",
    "\n",
    "# 데이터 조회\n",
    "df = kosis.get_data(orgId=orgId, tblId=tblId, detailServiceName=detailServiceName)\n",
    "df"
   ]
  },
  {
   "cell_type": "markdown",
   "metadata": {},
   "source": [
    "### 출처"
   ]
  },
  {
   "cell_type": "code",
   "execution_count": null,
   "metadata": {},
   "outputs": [],
   "source": [
    "# KOSIS OPEN API 인스턴스 생성\n",
    "serviceName = \"통계표설명\"\n",
    "kosis = pdr.Kosis(_kosis, serviceName)\n",
    "\n",
    "# 파라미터\n",
    "detailServiceName = \"출처\"\n",
    "orgId = \"101\"\n",
    "tblId = \"DT_1B040A3\"\n",
    "\n",
    "# 데이터 조회\n",
    "df = kosis.get_data(orgId=orgId, tblId=tblId, detailServiceName=detailServiceName)\n",
    "df.head(1)"
   ]
  },
  {
   "cell_type": "markdown",
   "metadata": {},
   "source": [
    "### 가중치"
   ]
  },
  {
   "cell_type": "code",
   "execution_count": null,
   "metadata": {},
   "outputs": [],
   "source": [
    "# KOSIS OPEN API 인스턴스 생성\n",
    "serviceName = \"통계표설명\"\n",
    "kosis = pdr.Kosis(_kosis, serviceName)\n",
    "\n",
    "# 파라미터\n",
    "detailServiceName = \"가중치\"\n",
    "orgId = \"101\"\n",
    "tblId = \"DT_1B040A3\"\n",
    "\n",
    "# 데이터 조회\n",
    "df = kosis.get_data(orgId=orgId, tblId=tblId, detailServiceName=detailServiceName)\n",
    "df"
   ]
  },
  {
   "cell_type": "markdown",
   "metadata": {},
   "source": [
    "### 자료갱신일"
   ]
  },
  {
   "cell_type": "code",
   "execution_count": null,
   "metadata": {},
   "outputs": [],
   "source": [
    "# KOSIS OPEN API 인스턴스 생성\n",
    "serviceName = \"통계표설명\"\n",
    "kosis = pdr.Kosis(_kosis, serviceName)\n",
    "\n",
    "# 파라미터\n",
    "detailServiceName = \"자료갱신일\"\n",
    "orgId = \"101\"\n",
    "tblId = \"DT_1B040A3\"\n",
    "\n",
    "# 데이터 조회\n",
    "df = kosis.get_data(orgId=orgId, tblId=tblId, detailServiceName=detailServiceName)\n",
    "df.head()"
   ]
  },
  {
   "cell_type": "markdown",
   "metadata": {},
   "source": [
    "## 통계목록"
   ]
  },
  {
   "cell_type": "code",
   "execution_count": null,
   "metadata": {},
   "outputs": [],
   "source": [
    "# KOSIS OPEN API 인스턴스 생성\n",
    "serviceName = \"통계목록\"\n",
    "kosis = pdr.Kosis(_kosis, serviceName)\n",
    "\n",
    "# 파라미터\n",
    "vwCd = \"MT_OTITLE\"\n",
    "parentListId = \"110_20103\"\n",
    "\n",
    "# 데이터 조회\n",
    "df = kosis.get_data(vwCd=vwCd, parentListId=parentListId)\n",
    "df"
   ]
  },
  {
   "cell_type": "markdown",
   "metadata": {},
   "source": [
    "## 통계자료"
   ]
  },
  {
   "cell_type": "code",
   "execution_count": null,
   "metadata": {},
   "outputs": [],
   "source": [
    "# KOSIS OPEN API 인스턴스 생성\n",
    "serviceName = \"통계자료\"\n",
    "kosis = pdr.Kosis(_kosis, serviceName)\n",
    "\n",
    "# 파라미터\n",
    "orgId = \"101\"\n",
    "tblId = \"DT_1B040A3\"\n",
    "itmId = \"T20 T21 T22\"\n",
    "objL1 = \"41\"\n",
    "prdSe = \"M\"\n",
    "startPrdDe = \"202208\"\n",
    "endPrdDe = \"202209\"\n",
    "\n",
    "# 데이터 조회\n",
    "df = kosis.get_data(orgId=orgId, tblId=tblId, objL1=objL1, itmId=itmId, prdSe=prdSe, startPrdDe=startPrdDe, endPrdDe=endPrdDe)\n",
    "df"
   ]
  }
 ],
 "metadata": {
  "hide_input": false,
  "kernelspec": {
   "display_name": "Python 3.9.12 ('base')",
   "language": "python",
   "name": "python3"
  },
  "language_info": {
   "codemirror_mode": {
    "name": "ipython",
    "version": 3
   },
   "file_extension": ".py",
   "mimetype": "text/x-python",
   "name": "python",
   "nbconvert_exporter": "python",
   "pygments_lexer": "ipython3",
   "version": "3.9.12"
  },
  "toc": {
   "base_numbering": 1,
   "nav_menu": {},
   "number_sections": true,
   "sideBar": true,
   "skip_h1_title": false,
   "title_cell": "Table of Contents",
   "title_sidebar": "Contents",
   "toc_cell": false,
   "toc_position": {},
   "toc_section_display": true,
   "toc_window_display": false
  },
  "varInspector": {
   "cols": {
    "lenName": 16,
    "lenType": 16,
    "lenVar": 40
   },
   "kernels_config": {
    "python": {
     "delete_cmd_postfix": "",
     "delete_cmd_prefix": "del ",
     "library": "var_list.py",
     "varRefreshCmd": "print(var_dic_list())"
    },
    "r": {
     "delete_cmd_postfix": ") ",
     "delete_cmd_prefix": "rm(",
     "library": "var_list.r",
     "varRefreshCmd": "cat(var_dic_list()) "
    }
   },
   "types_to_exclude": [
    "module",
    "function",
    "builtin_function_or_method",
    "instance",
    "_Feature"
   ],
   "window_display": false
  },
  "vscode": {
   "interpreter": {
    "hash": "bf36e43d91273cda28ef8173803dc98b9ff2c112c9a311d9da2b51870a73ee88"
   }
  }
 },
 "nbformat": 4,
 "nbformat_minor": 4
}
