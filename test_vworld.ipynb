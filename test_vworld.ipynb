{
 "cells": [
  {
   "cell_type": "markdown",
   "metadata": {},
   "source": [
    "# VWORLD OPEN API"
   ]
  },
  {
   "cell_type": "code",
   "execution_count": 1,
   "metadata": {
    "ExecuteTime": {
     "end_time": "2021-11-15T16:15:05.203055Z",
     "start_time": "2021-11-15T16:15:05.189494Z"
    }
   },
   "outputs": [
    {
     "name": "stdout",
     "output_type": "stream",
     "text": [
      "1.0.2\n"
     ]
    }
   ],
   "source": [
    "import PublicDataReader as pdr\n",
    "from config import API_KEY_INFO\n",
    "print(pdr.__version__)\n",
    "apiKey = API_KEY_INFO.get(\"vworld\")"
   ]
  },
  {
   "cell_type": "code",
   "execution_count": 117,
   "metadata": {},
   "outputs": [],
   "source": [
    "code = pdr.get_vworld_data_api_info_by_dataframe()"
   ]
  },
  {
   "cell_type": "code",
   "execution_count": 119,
   "metadata": {},
   "outputs": [
    {
     "data": {
      "text/html": [
       "<div>\n",
       "<style scoped>\n",
       "    .dataframe tbody tr th:only-of-type {\n",
       "        vertical-align: middle;\n",
       "    }\n",
       "\n",
       "    .dataframe tbody tr th {\n",
       "        vertical-align: top;\n",
       "    }\n",
       "\n",
       "    .dataframe thead th {\n",
       "        text-align: right;\n",
       "    }\n",
       "</style>\n",
       "<table border=\"1\" class=\"dataframe\">\n",
       "  <thead>\n",
       "    <tr style=\"text-align: right;\">\n",
       "      <th></th>\n",
       "      <th>서비스명</th>\n",
       "      <th>서비스ID</th>\n",
       "    </tr>\n",
       "  </thead>\n",
       "  <tbody>\n",
       "    <tr>\n",
       "      <th>21</th>\n",
       "      <td>도로명주소 도로</td>\n",
       "      <td>LT_L_SPRD</td>\n",
       "    </tr>\n",
       "    <tr>\n",
       "      <th>22</th>\n",
       "      <td>도로명주소 건물</td>\n",
       "      <td>LT_C_SPBD</td>\n",
       "    </tr>\n",
       "  </tbody>\n",
       "</table>\n",
       "</div>"
      ],
      "text/plain": [
       "        서비스명      서비스ID\n",
       "21  도로명주소 도로  LT_L_SPRD\n",
       "22  도로명주소 건물  LT_C_SPBD"
      ]
     },
     "execution_count": 119,
     "metadata": {},
     "output_type": "execute_result"
    }
   ],
   "source": [
    "code.loc[code['서비스명'].str.contains(\"주소\")]"
   ]
  },
  {
   "cell_type": "code",
   "execution_count": 2,
   "metadata": {},
   "outputs": [],
   "source": [
    "# Vworld Data API 인스턴스 생성\n",
    "api = pdr.VworldData(apiKey)"
   ]
  },
  {
   "cell_type": "code",
   "execution_count": 128,
   "metadata": {},
   "outputs": [],
   "source": [
    "# 파라미터\n",
    "params = {\n",
    "    \"serviceName\": \"연속지적도\",\n",
    "    \"attrFilter\": \"pnu:like:4113511000105410000\",\n",
    "}\n",
    "\n",
    "# 데이터 요청\n",
    "result = api.get_data(**params)"
   ]
  },
  {
   "cell_type": "code",
   "execution_count": 138,
   "metadata": {},
   "outputs": [
    {
     "data": {
      "text/html": [
       "<div style=\"width:100%;\"><div style=\"position:relative;width:100%;height:0;padding-bottom:60%;\"><span style=\"color:#565656\">Make this Notebook Trusted to load map: File -> Trust Notebook</span><iframe srcdoc=\"&lt;!DOCTYPE html&gt;\n",
       "&lt;head&gt;    \n",
       "    &lt;meta http-equiv=&quot;content-type&quot; content=&quot;text/html; charset=UTF-8&quot; /&gt;\n",
       "    \n",
       "        &lt;script&gt;\n",
       "            L_NO_TOUCH = false;\n",
       "            L_DISABLE_3D = false;\n",
       "        &lt;/script&gt;\n",
       "    \n",
       "    &lt;style&gt;html, body {width: 100%;height: 100%;margin: 0;padding: 0;}&lt;/style&gt;\n",
       "    &lt;style&gt;#map {position:absolute;top:0;bottom:0;right:0;left:0;}&lt;/style&gt;\n",
       "    &lt;script src=&quot;https://cdn.jsdelivr.net/npm/leaflet@1.6.0/dist/leaflet.js&quot;&gt;&lt;/script&gt;\n",
       "    &lt;script src=&quot;https://code.jquery.com/jquery-1.12.4.min.js&quot;&gt;&lt;/script&gt;\n",
       "    &lt;script src=&quot;https://maxcdn.bootstrapcdn.com/bootstrap/3.2.0/js/bootstrap.min.js&quot;&gt;&lt;/script&gt;\n",
       "    &lt;script src=&quot;https://cdnjs.cloudflare.com/ajax/libs/Leaflet.awesome-markers/2.0.2/leaflet.awesome-markers.js&quot;&gt;&lt;/script&gt;\n",
       "    &lt;link rel=&quot;stylesheet&quot; href=&quot;https://cdn.jsdelivr.net/npm/leaflet@1.6.0/dist/leaflet.css&quot;/&gt;\n",
       "    &lt;link rel=&quot;stylesheet&quot; href=&quot;https://maxcdn.bootstrapcdn.com/bootstrap/3.2.0/css/bootstrap.min.css&quot;/&gt;\n",
       "    &lt;link rel=&quot;stylesheet&quot; href=&quot;https://maxcdn.bootstrapcdn.com/bootstrap/3.2.0/css/bootstrap-theme.min.css&quot;/&gt;\n",
       "    &lt;link rel=&quot;stylesheet&quot; href=&quot;https://maxcdn.bootstrapcdn.com/font-awesome/4.6.3/css/font-awesome.min.css&quot;/&gt;\n",
       "    &lt;link rel=&quot;stylesheet&quot; href=&quot;https://cdnjs.cloudflare.com/ajax/libs/Leaflet.awesome-markers/2.0.2/leaflet.awesome-markers.css&quot;/&gt;\n",
       "    &lt;link rel=&quot;stylesheet&quot; href=&quot;https://cdn.jsdelivr.net/gh/python-visualization/folium/folium/templates/leaflet.awesome.rotate.min.css&quot;/&gt;\n",
       "    \n",
       "            &lt;meta name=&quot;viewport&quot; content=&quot;width=device-width,\n",
       "                initial-scale=1.0, maximum-scale=1.0, user-scalable=no&quot; /&gt;\n",
       "            &lt;style&gt;\n",
       "                #map_9813e3ccc814f465fa6c4fc27acda200 {\n",
       "                    position: relative;\n",
       "                    width: 100.0%;\n",
       "                    height: 100.0%;\n",
       "                    left: 0.0%;\n",
       "                    top: 0.0%;\n",
       "                }\n",
       "            &lt;/style&gt;\n",
       "        \n",
       "    \n",
       "                    &lt;style&gt;\n",
       "                        .foliumtooltip {\n",
       "                            \n",
       "                        }\n",
       "                       .foliumtooltip table{\n",
       "                            margin: auto;\n",
       "                        }\n",
       "                        .foliumtooltip tr{\n",
       "                            text-align: left;\n",
       "                        }\n",
       "                        .foliumtooltip th{\n",
       "                            padding: 2px; padding-right: 8px;\n",
       "                        }\n",
       "                    &lt;/style&gt;\n",
       "            \n",
       "&lt;/head&gt;\n",
       "&lt;body&gt;    \n",
       "    \n",
       "            &lt;div class=&quot;folium-map&quot; id=&quot;map_9813e3ccc814f465fa6c4fc27acda200&quot; &gt;&lt;/div&gt;\n",
       "        \n",
       "&lt;/body&gt;\n",
       "&lt;script&gt;    \n",
       "    \n",
       "            var map_9813e3ccc814f465fa6c4fc27acda200 = L.map(\n",
       "                &quot;map_9813e3ccc814f465fa6c4fc27acda200&quot;,\n",
       "                {\n",
       "                    center: [37.3925, 127.112],\n",
       "                    crs: L.CRS.EPSG3857,\n",
       "                    zoom: 16,\n",
       "                    zoomControl: true,\n",
       "                    preferCanvas: false,\n",
       "                }\n",
       "            );\n",
       "\n",
       "            \n",
       "\n",
       "        \n",
       "    \n",
       "            var tile_layer_fb36083cce7f406a2f615faacc8ed46d = L.tileLayer(\n",
       "                &quot;https://{s}.tile.openstreetmap.org/{z}/{x}/{y}.png&quot;,\n",
       "                {&quot;detectRetina&quot;: false, &quot;maxNativeZoom&quot;: 18, &quot;maxZoom&quot;: 18, &quot;minZoom&quot;: 0, &quot;noWrap&quot;: false, &quot;opacity&quot;: 1, &quot;subdomains&quot;: &quot;abc&quot;, &quot;tms&quot;: false}\n",
       "            ).addTo(map_9813e3ccc814f465fa6c4fc27acda200);\n",
       "        \n",
       "    \n",
       "            var marker_b8037e0e728712e0a6fbf935bec969dc = L.marker(\n",
       "                [37.3925, 127.112],\n",
       "                {}\n",
       "            ).addTo(map_9813e3ccc814f465fa6c4fc27acda200);\n",
       "        \n",
       "    \n",
       "            var icon_aa2b73a890a6e90b85cd258f6e4756be = L.AwesomeMarkers.icon(\n",
       "                {&quot;extraClasses&quot;: &quot;fa-rotate-0&quot;, &quot;icon&quot;: &quot;info-sign&quot;, &quot;iconColor&quot;: &quot;white&quot;, &quot;markerColor&quot;: &quot;blue&quot;, &quot;prefix&quot;: &quot;glyphicon&quot;}\n",
       "            );\n",
       "            marker_b8037e0e728712e0a6fbf935bec969dc.setIcon(icon_aa2b73a890a6e90b85cd258f6e4756be);\n",
       "        \n",
       "    \n",
       "            var circle_9c2c62977f0a07bfc059072b11c79e1f = L.circle(\n",
       "                [37.3925, 127.112],\n",
       "                {&quot;bubblingMouseEvents&quot;: true, &quot;color&quot;: &quot;blue&quot;, &quot;dashArray&quot;: null, &quot;dashOffset&quot;: null, &quot;fill&quot;: true, &quot;fillColor&quot;: &quot;blue&quot;, &quot;fillOpacity&quot;: 0.25, &quot;fillRule&quot;: &quot;evenodd&quot;, &quot;lineCap&quot;: &quot;round&quot;, &quot;lineJoin&quot;: &quot;round&quot;, &quot;opacity&quot;: 1.0, &quot;radius&quot;: 500, &quot;stroke&quot;: true, &quot;weight&quot;: 3}\n",
       "            ).addTo(map_9813e3ccc814f465fa6c4fc27acda200);\n",
       "        \n",
       "    \n",
       "        function geo_json_3d1cd47e2d9d3ef3f18454b0a4d20a61_styler(feature) {\n",
       "            switch(feature.id) {\n",
       "                default:\n",
       "                    return {&quot;color&quot;: &quot;#ff0000&quot;, &quot;fillColor&quot;: &quot;#ff0000&quot;, &quot;fillOpacity&quot;: 0.5, &quot;weight&quot;: 1};\n",
       "            }\n",
       "        }\n",
       "\n",
       "        function geo_json_3d1cd47e2d9d3ef3f18454b0a4d20a61_onEachFeature(feature, layer) {\n",
       "            layer.on({\n",
       "            });\n",
       "        };\n",
       "        var geo_json_3d1cd47e2d9d3ef3f18454b0a4d20a61 = L.geoJson(null, {\n",
       "                onEachFeature: geo_json_3d1cd47e2d9d3ef3f18454b0a4d20a61_onEachFeature,\n",
       "            \n",
       "                style: geo_json_3d1cd47e2d9d3ef3f18454b0a4d20a61_styler,\n",
       "        });\n",
       "\n",
       "        function geo_json_3d1cd47e2d9d3ef3f18454b0a4d20a61_add (data) {\n",
       "            geo_json_3d1cd47e2d9d3ef3f18454b0a4d20a61\n",
       "                .addData(data)\n",
       "                .addTo(map_9813e3ccc814f465fa6c4fc27acda200);\n",
       "        }\n",
       "            geo_json_3d1cd47e2d9d3ef3f18454b0a4d20a61_add({&quot;features&quot;: [{&quot;geometry&quot;: {&quot;coordinates&quot;: [[[[127.11135248856532, 37.39333387250554], [127.11135134330021, 37.39363251492487], [127.11146293923099, 37.393632384191015], [127.1115222041085, 37.39363232006464], [127.11164618829757, 37.393632177633066], [127.11180784542853, 37.39363199093116], [127.11202636205654, 37.39363174187589], [127.11248572127383, 37.39363122160556], [127.11261977866747, 37.39363105969002], [127.11263827635908, 37.39363104230943], [127.1127203906257, 37.393564830634986], [127.11272031349415, 37.39351261690096], [127.11271990432083, 37.39323562731393], [127.11271960059224, 37.39303001601226], [127.11271921016842, 37.39276571267462], [127.11271887610145, 37.392539558244515], [127.11271818190622, 37.392069598498765], [127.11256870702405, 37.391943326555875], [127.11183735262425, 37.391912835977195], [127.11170382549375, 37.39187971301412], [127.11168790215119, 37.39187918724093], [127.11159089511769, 37.39187675473417], [127.11149253784963, 37.39187765715921], [127.11138639000713, 37.39187946775584], [127.11135804731587, 37.391880665404805], [127.11135798882837, 37.39189475733444], [127.11135449970249, 37.39280826361685], [127.11135254579224, 37.393318915606315], [127.11135248856532, 37.39333387250554]]]], &quot;type&quot;: &quot;MultiPolygon&quot;}, &quot;id&quot;: &quot;LP_PA_CBND_BUBUN.31939728&quot;, &quot;properties&quot;: {&quot;addr&quot;: &quot;\\uacbd\\uae30\\ub3c4 \\uc131\\ub0a8\\uc2dc \\ubd84\\ub2f9\\uad6c \\ubc31\\ud604\\ub3d9 541&quot;, &quot;bonbun&quot;: &quot;541&quot;, &quot;bubun&quot;: &quot;&quot;, &quot;gosi_month&quot;: &quot;01&quot;, &quot;gosi_year&quot;: &quot;2022&quot;, &quot;jibun&quot;: &quot;541 \\ub300&quot;, &quot;jiga&quot;: &quot;29250000&quot;, &quot;pnu&quot;: &quot;4113511000105410000&quot;}, &quot;type&quot;: &quot;Feature&quot;}], &quot;type&quot;: &quot;FeatureCollection&quot;});\n",
       "\n",
       "        \n",
       "    \n",
       "    geo_json_3d1cd47e2d9d3ef3f18454b0a4d20a61.bindTooltip(\n",
       "    function(layer){\n",
       "    let div = L.DomUtil.create(&#x27;div&#x27;);\n",
       "    \n",
       "    let handleObject = feature=&gt;typeof(feature)==&#x27;object&#x27; ? JSON.stringify(feature) : feature;\n",
       "    let fields = [&quot;addr&quot;];\n",
       "    let aliases = [&quot;\\uc8fc\\uc18c&quot;];\n",
       "    let table = &#x27;&lt;table&gt;&#x27; +\n",
       "        String(\n",
       "        fields.map(\n",
       "        (v,i)=&gt;\n",
       "        `&lt;tr&gt;\n",
       "            &lt;th&gt;${aliases[i].toLocaleString()}&lt;/th&gt;\n",
       "            \n",
       "            &lt;td&gt;${handleObject(layer.feature.properties[v]).toLocaleString()}&lt;/td&gt;\n",
       "        &lt;/tr&gt;`).join(&#x27;&#x27;))\n",
       "    +&#x27;&lt;/table&gt;&#x27;;\n",
       "    div.innerHTML=table;\n",
       "    \n",
       "    return div\n",
       "    }\n",
       "    ,{&quot;className&quot;: &quot;foliumtooltip&quot;, &quot;sticky&quot;: false, &quot;toLocaleString&quot;: true});\n",
       "                     \n",
       "&lt;/script&gt;\" style=\"position:absolute;width:100%;height:100%;left:0;top:0;border:none !important;\" allowfullscreen webkitallowfullscreen mozallowfullscreen></iframe></div></div>"
      ],
      "text/plain": [
       "<folium.folium.Map at 0x21cd3e11040>"
      ]
     },
     "execution_count": 138,
     "metadata": {},
     "output_type": "execute_result"
    }
   ],
   "source": [
    "import folium\n",
    "\n",
    "\n",
    "lat, lon = 37.3925, 127.112\n",
    "\n",
    "# Map\n",
    "m = folium.Map(location=[lat, lon], \n",
    "               zoom_start=16)\n",
    "\n",
    "# Marker\n",
    "folium.Marker([lat, lon],\n",
    "               icon=folium.Icon(color=\"blue\", icon=\"info-sign\")).add_to(m)\n",
    "\n",
    "# Circle\n",
    "folium.Circle([lat, lon],\n",
    "                radius=500,\n",
    "                color=\"blue\",\n",
    "                fill=True,\n",
    "                fill_color=\"blue\",\n",
    "                fill_opacity=0.25).add_to(m)\n",
    "\n",
    "# GeoJson\n",
    "folium.GeoJson(\n",
    "               data=result,\n",
    "               name=\"geojson\",\n",
    "                style_function=lambda x: {\n",
    "                    \"fillColor\": \"#ff0000\",\n",
    "                    \"color\": \"#ff0000\",\n",
    "                    \"weight\": 1,\n",
    "                    \"fillOpacity\": 0.5,\n",
    "                },\n",
    "                tooltip=folium.features.GeoJsonTooltip(\n",
    "                    fields=[\"addr\"],\n",
    "                    aliases=[\"주소\"],\n",
    "                    localize=True,\n",
    "                    sticky=False,\n",
    "                    labels=True,\n",
    "                    style=\"\",\n",
    "                    toLocaleString=True,\n",
    "                ),\n",
    "               ).add_to(m)\n",
    "\n",
    "m\n"
   ]
  },
  {
   "cell_type": "code",
   "execution_count": null,
   "metadata": {},
   "outputs": [],
   "source": []
  }
 ],
 "metadata": {
  "hide_input": false,
  "kernelspec": {
   "display_name": "Python 3.9.12 ('base')",
   "language": "python",
   "name": "python3"
  },
  "language_info": {
   "codemirror_mode": {
    "name": "ipython",
    "version": 3
   },
   "file_extension": ".py",
   "mimetype": "text/x-python",
   "name": "python",
   "nbconvert_exporter": "python",
   "pygments_lexer": "ipython3",
   "version": "3.9.12"
  },
  "toc": {
   "base_numbering": 1,
   "nav_menu": {},
   "number_sections": true,
   "sideBar": true,
   "skip_h1_title": false,
   "title_cell": "Table of Contents",
   "title_sidebar": "Contents",
   "toc_cell": false,
   "toc_position": {},
   "toc_section_display": true,
   "toc_window_display": false
  },
  "varInspector": {
   "cols": {
    "lenName": 16,
    "lenType": 16,
    "lenVar": 40
   },
   "kernels_config": {
    "python": {
     "delete_cmd_postfix": "",
     "delete_cmd_prefix": "del ",
     "library": "var_list.py",
     "varRefreshCmd": "print(var_dic_list())"
    },
    "r": {
     "delete_cmd_postfix": ") ",
     "delete_cmd_prefix": "rm(",
     "library": "var_list.r",
     "varRefreshCmd": "cat(var_dic_list()) "
    }
   },
   "types_to_exclude": [
    "module",
    "function",
    "builtin_function_or_method",
    "instance",
    "_Feature"
   ],
   "window_display": false
  },
  "vscode": {
   "interpreter": {
    "hash": "bf36e43d91273cda28ef8173803dc98b9ff2c112c9a311d9da2b51870a73ee88"
   }
  }
 },
 "nbformat": 4,
 "nbformat_minor": 4
}
